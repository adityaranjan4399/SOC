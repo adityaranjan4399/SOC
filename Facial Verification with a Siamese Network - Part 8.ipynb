{
 "cells": [
  {
   "cell_type": "markdown",
   "metadata": {},
   "source": [
    "# 1. Setup"
   ]
  },
  {
   "cell_type": "markdown",
   "metadata": {},
   "source": [
    "## 1.1 Install Dependencies"
   ]
  },
  {
   "cell_type": "code",
   "execution_count": 1,
   "metadata": {
    "collapsed": true
   },
   "outputs": [
    {
     "name": "stdout",
     "output_type": "stream",
     "text": [
      "Note: you may need to restart the kernel to use updated packages.\n"
     ]
    },
    {
     "name": "stderr",
     "output_type": "stream",
     "text": [
      "ERROR: Could not find a version that satisfies the requirement tensorflow==2.4.1 (from versions: 2.16.0rc0, 2.16.1, 2.16.2, 2.17.0rc0, 2.17.0rc1, 2.17.0, 2.17.1, 2.18.0rc0, 2.18.0rc1, 2.18.0rc2, 2.18.0, 2.18.1, 2.19.0rc0, 2.19.0, 2.20.0rc0)\n",
      "ERROR: No matching distribution found for tensorflow==2.4.1\n"
     ]
    }
   ],
   "source": [
    "pip install tensorflow==2.4.1 tensorflow-gpu==2.4.1 opencv-python matplotlib\n"
   ]
  },
  {
   "cell_type": "code",
   "execution_count": 2,
   "metadata": {},
   "outputs": [
    {
     "name": "stdout",
     "output_type": "stream",
     "text": [
      "Requirement already satisfied: tensorflow in c:\\users\\asus\\venv\\lib\\site-packages (2.19.0)\n",
      "Requirement already satisfied: absl-py>=1.0.0 in c:\\users\\asus\\venv\\lib\\site-packages (from tensorflow) (2.3.1)\n",
      "Requirement already satisfied: astunparse>=1.6.0 in c:\\users\\asus\\venv\\lib\\site-packages (from tensorflow) (1.6.3)\n",
      "Requirement already satisfied: flatbuffers>=24.3.25 in c:\\users\\asus\\venv\\lib\\site-packages (from tensorflow) (25.2.10)\n",
      "Requirement already satisfied: gast!=0.5.0,!=0.5.1,!=0.5.2,>=0.2.1 in c:\\users\\asus\\venv\\lib\\site-packages (from tensorflow) (0.6.0)\n",
      "Requirement already satisfied: google-pasta>=0.1.1 in c:\\users\\asus\\venv\\lib\\site-packages (from tensorflow) (0.2.0)\n",
      "Requirement already satisfied: libclang>=13.0.0 in c:\\users\\asus\\venv\\lib\\site-packages (from tensorflow) (18.1.1)\n",
      "Requirement already satisfied: opt-einsum>=2.3.2 in c:\\users\\asus\\venv\\lib\\site-packages (from tensorflow) (3.4.0)\n",
      "Requirement already satisfied: packaging in c:\\users\\asus\\venv\\lib\\site-packages (from tensorflow) (25.0)\n",
      "Requirement already satisfied: protobuf!=4.21.0,!=4.21.1,!=4.21.2,!=4.21.3,!=4.21.4,!=4.21.5,<6.0.0dev,>=3.20.3 in c:\\users\\asus\\venv\\lib\\site-packages (from tensorflow) (5.29.5)\n",
      "Requirement already satisfied: requests<3,>=2.21.0 in c:\\users\\asus\\venv\\lib\\site-packages (from tensorflow) (2.32.4)\n",
      "Requirement already satisfied: setuptools in c:\\users\\asus\\venv\\lib\\site-packages (from tensorflow) (78.1.1)\n",
      "Requirement already satisfied: six>=1.12.0 in c:\\users\\asus\\venv\\lib\\site-packages (from tensorflow) (1.17.0)\n",
      "Requirement already satisfied: termcolor>=1.1.0 in c:\\users\\asus\\venv\\lib\\site-packages (from tensorflow) (3.1.0)\n",
      "Requirement already satisfied: typing-extensions>=3.6.6 in c:\\users\\asus\\venv\\lib\\site-packages (from tensorflow) (4.14.1)\n",
      "Requirement already satisfied: wrapt>=1.11.0 in c:\\users\\asus\\venv\\lib\\site-packages (from tensorflow) (1.17.2)\n",
      "Requirement already satisfied: grpcio<2.0,>=1.24.3 in c:\\users\\asus\\venv\\lib\\site-packages (from tensorflow) (1.74.0)\n",
      "Requirement already satisfied: tensorboard~=2.19.0 in c:\\users\\asus\\venv\\lib\\site-packages (from tensorflow) (2.19.0)\n",
      "Requirement already satisfied: keras>=3.5.0 in c:\\users\\asus\\venv\\lib\\site-packages (from tensorflow) (3.10.0)\n",
      "Requirement already satisfied: numpy<2.2.0,>=1.26.0 in c:\\users\\asus\\venv\\lib\\site-packages (from tensorflow) (2.1.3)\n",
      "Requirement already satisfied: h5py>=3.11.0 in c:\\users\\asus\\venv\\lib\\site-packages (from tensorflow) (3.14.0)\n",
      "Requirement already satisfied: ml-dtypes<1.0.0,>=0.5.1 in c:\\users\\asus\\venv\\lib\\site-packages (from tensorflow) (0.5.1)\n",
      "Requirement already satisfied: charset_normalizer<4,>=2 in c:\\users\\asus\\venv\\lib\\site-packages (from requests<3,>=2.21.0->tensorflow) (3.4.2)\n",
      "Requirement already satisfied: idna<4,>=2.5 in c:\\users\\asus\\venv\\lib\\site-packages (from requests<3,>=2.21.0->tensorflow) (3.10)\n",
      "Requirement already satisfied: urllib3<3,>=1.21.1 in c:\\users\\asus\\venv\\lib\\site-packages (from requests<3,>=2.21.0->tensorflow) (2.5.0)\n",
      "Requirement already satisfied: certifi>=2017.4.17 in c:\\users\\asus\\venv\\lib\\site-packages (from requests<3,>=2.21.0->tensorflow) (2025.7.14)\n",
      "Requirement already satisfied: markdown>=2.6.8 in c:\\users\\asus\\venv\\lib\\site-packages (from tensorboard~=2.19.0->tensorflow) (3.8.2)\n",
      "Requirement already satisfied: tensorboard-data-server<0.8.0,>=0.7.0 in c:\\users\\asus\\venv\\lib\\site-packages (from tensorboard~=2.19.0->tensorflow) (0.7.2)\n",
      "Requirement already satisfied: werkzeug>=1.0.1 in c:\\users\\asus\\venv\\lib\\site-packages (from tensorboard~=2.19.0->tensorflow) (3.1.3)\n",
      "Requirement already satisfied: wheel<1.0,>=0.23.0 in c:\\users\\asus\\venv\\lib\\site-packages (from astunparse>=1.6.0->tensorflow) (0.45.1)\n",
      "Requirement already satisfied: rich in c:\\users\\asus\\venv\\lib\\site-packages (from keras>=3.5.0->tensorflow) (14.1.0)\n",
      "Requirement already satisfied: namex in c:\\users\\asus\\venv\\lib\\site-packages (from keras>=3.5.0->tensorflow) (0.1.0)\n",
      "Requirement already satisfied: optree in c:\\users\\asus\\venv\\lib\\site-packages (from keras>=3.5.0->tensorflow) (0.17.0)\n",
      "Requirement already satisfied: MarkupSafe>=2.1.1 in c:\\users\\asus\\venv\\lib\\site-packages (from werkzeug>=1.0.1->tensorboard~=2.19.0->tensorflow) (3.0.2)\n",
      "Requirement already satisfied: markdown-it-py>=2.2.0 in c:\\users\\asus\\venv\\lib\\site-packages (from rich->keras>=3.5.0->tensorflow) (3.0.0)\n",
      "Requirement already satisfied: pygments<3.0.0,>=2.13.0 in c:\\users\\asus\\venv\\lib\\site-packages (from rich->keras>=3.5.0->tensorflow) (2.19.2)\n",
      "Requirement already satisfied: mdurl~=0.1 in c:\\users\\asus\\venv\\lib\\site-packages (from markdown-it-py>=2.2.0->rich->keras>=3.5.0->tensorflow) (0.1.2)\n",
      "Note: you may need to restart the kernel to use updated packages.\n"
     ]
    }
   ],
   "source": [
    "pip install tensorflow\n"
   ]
  },
  {
   "cell_type": "code",
   "execution_count": 3,
   "metadata": {},
   "outputs": [
    {
     "name": "stdout",
     "output_type": "stream",
     "text": [
      "Requirement already satisfied: opencv-python in c:\\users\\asus\\venv\\lib\\site-packages (4.12.0.88)\n",
      "Requirement already satisfied: numpy<2.3.0,>=2 in c:\\users\\asus\\venv\\lib\\site-packages (from opencv-python) (2.1.3)\n",
      "Note: you may need to restart the kernel to use updated packages.\n"
     ]
    }
   ],
   "source": [
    "pip install opencv-python\n"
   ]
  },
  {
   "cell_type": "code",
   "execution_count": 4,
   "metadata": {},
   "outputs": [
    {
     "name": "stdout",
     "output_type": "stream",
     "text": [
      "Requirement already satisfied: matplotlib in c:\\users\\asus\\venv\\lib\\site-packages (3.10.3)\n",
      "Requirement already satisfied: contourpy>=1.0.1 in c:\\users\\asus\\venv\\lib\\site-packages (from matplotlib) (1.3.3)\n",
      "Requirement already satisfied: cycler>=0.10 in c:\\users\\asus\\venv\\lib\\site-packages (from matplotlib) (0.12.1)\n",
      "Requirement already satisfied: fonttools>=4.22.0 in c:\\users\\asus\\venv\\lib\\site-packages (from matplotlib) (4.59.0)\n",
      "Requirement already satisfied: kiwisolver>=1.3.1 in c:\\users\\asus\\venv\\lib\\site-packages (from matplotlib) (1.4.8)\n",
      "Requirement already satisfied: numpy>=1.23 in c:\\users\\asus\\venv\\lib\\site-packages (from matplotlib) (2.1.3)\n",
      "Requirement already satisfied: packaging>=20.0 in c:\\users\\asus\\venv\\lib\\site-packages (from matplotlib) (25.0)\n",
      "Requirement already satisfied: pillow>=8 in c:\\users\\asus\\venv\\lib\\site-packages (from matplotlib) (11.3.0)\n",
      "Requirement already satisfied: pyparsing>=2.3.1 in c:\\users\\asus\\venv\\lib\\site-packages (from matplotlib) (3.2.3)\n",
      "Requirement already satisfied: python-dateutil>=2.7 in c:\\users\\asus\\venv\\lib\\site-packages (from matplotlib) (2.9.0.post0)\n",
      "Requirement already satisfied: six>=1.5 in c:\\users\\asus\\venv\\lib\\site-packages (from python-dateutil>=2.7->matplotlib) (1.17.0)\n",
      "Note: you may need to restart the kernel to use updated packages.\n"
     ]
    }
   ],
   "source": [
    "pip install matplotlib"
   ]
  },
  {
   "cell_type": "markdown",
   "metadata": {},
   "source": [
    "## 1.2 Import Dependencies"
   ]
  },
  {
   "cell_type": "code",
   "execution_count": 5,
   "metadata": {},
   "outputs": [],
   "source": [
    "# Import standard dependencies\n",
    "\n",
    "import os   \n",
    "import random\n",
    "import numpy as np\n",
    "from matplotlib import pyplot as plt\n"
   ]
  },
  {
   "cell_type": "code",
   "execution_count": 6,
   "metadata": {},
   "outputs": [],
   "source": [
    "# Import standard dependencies\n",
    "import cv2\n",
    "import os   \n",
    "import random\n",
    "import numpy as np\n",
    "from matplotlib import pyplot as plt\n"
   ]
  },
  {
   "cell_type": "code",
   "execution_count": 7,
   "metadata": {},
   "outputs": [
    {
     "name": "stdout",
     "output_type": "stream",
     "text": [
      "TensorFlow version: 2.19.0\n"
     ]
    }
   ],
   "source": [
    "# Import tensorflow dependencies - Functional API\n",
    "from tensorflow.keras.models import Model\n",
    "from tensorflow.keras.layers import Layer, Conv2D, Dense, MaxPooling2D, Input, Flatten\n",
    "import tensorflow as tf\n",
    "\n",
    "print(\"TensorFlow version:\", tf.__version__)\n"
   ]
  },
  {
   "cell_type": "code",
   "execution_count": 8,
   "metadata": {},
   "outputs": [],
   "source": [
    "# Import tensorflow dependencies - Functional API\n",
    "from tensorflow.keras.models import Model\n",
    "from tensorflow.keras.layers import Layer, Conv2D, Dense, MaxPooling2D, Input, Flatten\n",
    "import tensorflow as tf"
   ]
  },
  {
   "cell_type": "markdown",
   "metadata": {},
   "source": [
    "## 1.3 Set GPU Growth"
   ]
  },
  {
   "cell_type": "code",
   "execution_count": 9,
   "metadata": {},
   "outputs": [],
   "source": [
    "# Avoid OOM errors by setting GPU Memory Consumption Growth\n",
    "gpus = tf.config.experimental.list_physical_devices('GPU')\n",
    "for gpu in gpus: \n",
    "    tf.config.experimental.set_memory_growth(gpu, True)"
   ]
  },
  {
   "cell_type": "markdown",
   "metadata": {},
   "source": [
    "## 1.4 Create Folder Structures"
   ]
  },
  {
   "cell_type": "code",
   "execution_count": 10,
   "metadata": {},
   "outputs": [],
   "source": [
    "# Setup paths\n",
    "import os\n",
    "POS_PATH = os.path.join('data', 'positive')\n",
    "NEG_PATH = os.path.join('data', 'negative')\n",
    "ANC_PATH = os.path.join('data', 'anchor')"
   ]
  },
  {
   "cell_type": "code",
   "execution_count": 11,
   "metadata": {},
   "outputs": [
    {
     "ename": "FileExistsError",
     "evalue": "[WinError 183] Cannot create a file when that file already exists: 'data\\\\positive'",
     "output_type": "error",
     "traceback": [
      "\u001b[31m---------------------------------------------------------------------------\u001b[39m",
      "\u001b[31mFileExistsError\u001b[39m                           Traceback (most recent call last)",
      "\u001b[36mCell\u001b[39m\u001b[36m \u001b[39m\u001b[32mIn[11]\u001b[39m\u001b[32m, line 2\u001b[39m\n\u001b[32m      1\u001b[39m \u001b[38;5;66;03m# Make the directories\u001b[39;00m\n\u001b[32m----> \u001b[39m\u001b[32m2\u001b[39m \u001b[43mos\u001b[49m\u001b[43m.\u001b[49m\u001b[43mmakedirs\u001b[49m\u001b[43m(\u001b[49m\u001b[43mPOS_PATH\u001b[49m\u001b[43m)\u001b[49m\n\u001b[32m      3\u001b[39m os.makedirs(NEG_PATH)\n\u001b[32m      4\u001b[39m os.makedirs(ANC_PATH)\n",
      "\u001b[36mFile \u001b[39m\u001b[32m<frozen os>:225\u001b[39m, in \u001b[36mmakedirs\u001b[39m\u001b[34m(name, mode, exist_ok)\u001b[39m\n",
      "\u001b[31mFileExistsError\u001b[39m: [WinError 183] Cannot create a file when that file already exists: 'data\\\\positive'"
     ]
    }
   ],
   "source": [
    "# Make the directories\n",
    "os.makedirs(POS_PATH)\n",
    "os.makedirs(NEG_PATH)\n",
    "os.makedirs(ANC_PATH)"
   ]
  },
  {
   "cell_type": "markdown",
   "metadata": {},
   "source": [
    "# 2. Collect Positives and Anchors"
   ]
  },
  {
   "cell_type": "markdown",
   "metadata": {},
   "source": [
    "## 2.1 Untar Labelled Faces in the Wild Dataset"
   ]
  },
  {
   "cell_type": "code",
   "execution_count": 12,
   "metadata": {},
   "outputs": [],
   "source": [
    "# http://vis-www.cs.umass.edu/lfw/"
   ]
  },
  {
   "cell_type": "code",
   "execution_count": 13,
   "metadata": {},
   "outputs": [
    {
     "name": "stderr",
     "output_type": "stream",
     "text": [
      "tar: Error opening archive: Failed to open 'lfw.tgz'\n"
     ]
    }
   ],
   "source": [
    "# Uncompress Tar GZ Labelled Faces in the Wild Dataset\n",
    "!tar -xf lfw.tgz"
   ]
  },
  {
   "cell_type": "code",
   "execution_count": null,
   "metadata": {},
   "outputs": [],
   "source": [
    "\n",
    "\n",
    "\n"
   ]
  },
  {
   "cell_type": "code",
   "execution_count": 14,
   "metadata": {},
   "outputs": [
    {
     "name": "stdout",
     "output_type": "stream",
     "text": [
      "Requirement already satisfied: scikit-learn in c:\\users\\asus\\venv\\lib\\site-packages (1.7.1)\n",
      "Requirement already satisfied: numpy>=1.22.0 in c:\\users\\asus\\venv\\lib\\site-packages (from scikit-learn) (2.1.3)\n",
      "Requirement already satisfied: scipy>=1.8.0 in c:\\users\\asus\\venv\\lib\\site-packages (from scikit-learn) (1.16.0)\n",
      "Requirement already satisfied: joblib>=1.2.0 in c:\\users\\asus\\venv\\lib\\site-packages (from scikit-learn) (1.5.1)\n",
      "Requirement already satisfied: threadpoolctl>=3.1.0 in c:\\users\\asus\\venv\\lib\\site-packages (from scikit-learn) (3.6.0)\n",
      "Note: you may need to restart the kernel to use updated packages.\n"
     ]
    }
   ],
   "source": [
    "pip install scikit-learn\n"
   ]
  },
  {
   "cell_type": "code",
   "execution_count": 15,
   "metadata": {},
   "outputs": [],
   "source": [
    "from sklearn.datasets import fetch_lfw_people\n",
    "lfw = fetch_lfw_people(min_faces_per_person=1, download_if_missing=True)\n"
   ]
  },
  {
   "cell_type": "code",
   "execution_count": 16,
   "metadata": {},
   "outputs": [],
   "source": [
    "from sklearn.datasets import fetch_lfw_people\n",
    "lfw = fetch_lfw_people(min_faces_per_person=1, download_if_missing=True)\n"
   ]
  },
  {
   "cell_type": "code",
   "execution_count": 17,
   "metadata": {},
   "outputs": [],
   "source": [
    "from sklearn.datasets import fetch_lfw_people\n",
    "lfw = fetch_lfw_people(min_faces_per_person=1, download_if_missing=True)\n"
   ]
  },
  {
   "cell_type": "code",
   "execution_count": 18,
   "metadata": {},
   "outputs": [
    {
     "name": "stdout",
     "output_type": "stream",
     "text": [
      "Folder 'lfw' not found. Please download it or check the path.\n"
     ]
    }
   ],
   "source": [
    "import os\n",
    "\n",
    "LFW_PATH = 'lfw-deepfunneled'\n",
    "\n",
    "# Check if lfw exists\n",
    "if not os.path.exists(LFW_PATH):\n",
    "    print(\"Folder 'lfw' not found. Please download it or check the path.\")\n",
    "else:\n",
    "    for directory in os.listdir(LFW_PATH):\n",
    "        for file in os.listdir(os.path.join(LFW_PATH, directory)):\n",
    "            EX_PATH = os.path.join(LFW_PATH, directory, file)\n",
    "            NEW_PATH = os.path.join(NEG_PATH, file)\n",
    "            os.replace(EX_PATH, NEW_PATH)\n"
   ]
  },
  {
   "cell_type": "code",
   "execution_count": 19,
   "metadata": {},
   "outputs": [
    {
     "name": "stdout",
     "output_type": "stream",
     "text": [
      "Note: you may need to restart the kernel to use updated packages.\n"
     ]
    },
    {
     "name": "stderr",
     "output_type": "stream",
     "text": [
      "ERROR: Could not find a version that satisfies the requirement lfw (from versions: none)\n",
      "ERROR: No matching distribution found for lfw\n"
     ]
    }
   ],
   "source": [
    "pip install lfw"
   ]
  },
  {
   "cell_type": "code",
   "execution_count": 20,
   "metadata": {},
   "outputs": [
    {
     "ename": "FileNotFoundError",
     "evalue": "[WinError 3] The system cannot find the path specified: 'lfw-deepfunneled'",
     "output_type": "error",
     "traceback": [
      "\u001b[31m---------------------------------------------------------------------------\u001b[39m",
      "\u001b[31mFileNotFoundError\u001b[39m                         Traceback (most recent call last)",
      "\u001b[36mCell\u001b[39m\u001b[36m \u001b[39m\u001b[32mIn[20]\u001b[39m\u001b[32m, line 2\u001b[39m\n\u001b[32m      1\u001b[39m \u001b[38;5;66;03m# Move LFW Images to the following repository data/negative\u001b[39;00m\n\u001b[32m----> \u001b[39m\u001b[32m2\u001b[39m \u001b[38;5;28;01mfor\u001b[39;00m directory \u001b[38;5;129;01min\u001b[39;00m \u001b[43mos\u001b[49m\u001b[43m.\u001b[49m\u001b[43mlistdir\u001b[49m\u001b[43m(\u001b[49m\u001b[33;43m'\u001b[39;49m\u001b[33;43mlfw-deepfunneled\u001b[39;49m\u001b[33;43m'\u001b[39;49m\u001b[43m)\u001b[49m:\n\u001b[32m      3\u001b[39m     \u001b[38;5;28;01mfor\u001b[39;00m file \u001b[38;5;129;01min\u001b[39;00m os.listdir(os.path.join(\u001b[33m'\u001b[39m\u001b[33mlfw-deepfunneled\u001b[39m\u001b[33m'\u001b[39m, directory)):\n\u001b[32m      4\u001b[39m         EX_PATH = os.path.join(\u001b[33m'\u001b[39m\u001b[33mlfw-deepfuneled\u001b[39m\u001b[33m'\u001b[39m, directory, file)\n",
      "\u001b[31mFileNotFoundError\u001b[39m: [WinError 3] The system cannot find the path specified: 'lfw-deepfunneled'"
     ]
    }
   ],
   "source": [
    "# Move LFW Images to the following repository data/negative\n",
    "for directory in os.listdir('lfw-deepfunneled'):\n",
    "    for file in os.listdir(os.path.join('lfw-deepfunneled', directory)):\n",
    "        EX_PATH = os.path.join('lfw-deepfuneled', directory, file)\n",
    "        NEW_PATH = os.path.join(NEG_PATH, file)\n",
    "        os.replace(EX_PATH, NEW_PATH)"
   ]
  },
  {
   "cell_type": "markdown",
   "metadata": {},
   "source": [
    "## 2.2 Collect Positive and Anchor Classes"
   ]
  },
  {
   "cell_type": "code",
   "execution_count": null,
   "metadata": {},
   "outputs": [],
   "source": []
  },
  {
   "cell_type": "code",
   "execution_count": null,
   "metadata": {},
   "outputs": [],
   "source": []
  },
  {
   "cell_type": "code",
   "execution_count": null,
   "metadata": {},
   "outputs": [],
   "source": []
  },
  {
   "cell_type": "code",
   "execution_count": null,
   "metadata": {},
   "outputs": [],
   "source": []
  },
  {
   "cell_type": "code",
   "execution_count": 21,
   "metadata": {},
   "outputs": [],
   "source": [
    "# Import uuid library to generate unique image names\n",
    "import uuid"
   ]
  },
  {
   "cell_type": "code",
   "execution_count": 22,
   "metadata": {},
   "outputs": [
    {
     "data": {
      "text/plain": [
       "'data\\\\anchor\\\\700fba20-6d77-11f0-8330-ba2358a892e2.jpg'"
      ]
     },
     "execution_count": 22,
     "metadata": {},
     "output_type": "execute_result"
    }
   ],
   "source": [
    "os.path.join(ANC_PATH, '{}.jpg'.format(uuid.uuid1()))"
   ]
  },
  {
   "cell_type": "code",
   "execution_count": 23,
   "metadata": {},
   "outputs": [],
   "source": [
    "# Establish a connection to the webcam\n",
    "cap = cv2.VideoCapture(4)\n",
    "while cap.isOpened(): \n",
    "    ret, frame = cap.read()\n",
    "   \n",
    "    # Cut down frame to 250x250px\n",
    "    frame = frame[120:120+250,200:200+250, :]\n",
    "    \n",
    "    # Collect anchors \n",
    "    if cv2.waitKey(1) & 0XFF == ord('a'):\n",
    "        # Create the unique file path \n",
    "        imgname = os.path.join(ANC_PATH, '{}.jpg'.format(uuid.uuid1()))\n",
    "        # Write out anchor image\n",
    "        cv2.imwrite(imgname, frame)\n",
    "    \n",
    "    # Collect positives\n",
    "    if cv2.waitKey(1) & 0XFF == ord('p'):\n",
    "        # Create the unique file path \n",
    "        imgname = os.path.join(POS_PATH, '{}.jpg'.format(uuid.uuid1()))\n",
    "        # Write out positive image\n",
    "        cv2.imwrite(imgname, frame)\n",
    "    \n",
    "    # Show image back to screen\n",
    "    cv2.imshow('Image Collection', frame)\n",
    "    \n",
    "    # Breaking gracefully\n",
    "    if cv2.waitKey(1) & 0XFF == ord('q'):\n",
    "        break\n",
    "        \n",
    "# Release the webcam\n",
    "cap.release()\n",
    "# Close the image show frame\n",
    "cv2.destroyAllWindows()"
   ]
  },
  {
   "cell_type": "markdown",
   "metadata": {},
   "source": []
  },
  {
   "cell_type": "code",
   "execution_count": 24,
   "metadata": {},
   "outputs": [
    {
     "data": {
      "image/png": "[encoded data removed]",
      "text/plain": [
       "<Figure size 640x480 with 1 Axes>"
      ]
     },
     "metadata": {},
     "output_type": "display_data"
    }
   ],
   "source": [
    "# Establish a connection to the webcam\n",
    "import cv2\n",
    "import uuid\n",
    "import os\n",
    "import matplotlib.pyplot as plt\n",
    "\n",
    "# Make sure these paths exist\n",
    "ANC_PATH = os.path.join('data', 'anchor')\n",
    "POS_PATH = os.path.join('data', 'positive')\n",
    "\n",
    "# Create folders if needed\n",
    "os.makedirs(ANC_PATH, exist_ok=True)\n",
    "os.makedirs(POS_PATH, exist_ok=True)\n",
    "\n",
    "cap = cv2.VideoCapture(0)  # Use 0 unless your webcam is on index 4\n",
    "\n",
    "last_frame = None  # Initialize\n",
    "\n",
    "while cap.isOpened(): \n",
    "    ret, frame = cap.read()\n",
    "    \n",
    "    if not ret:\n",
    "        print(\"Failed to grab frame\")\n",
    "        break\n",
    "\n",
    "    # Crop to 250x250\n",
    "    frame = frame[120:120+250, 200:200+250, :]\n",
    "    \n",
    "    last_frame = frame.copy()  # Save a copy for later\n",
    "\n",
    "    # Save anchor if 'a' is pressed\n",
    "    if cv2.waitKey(1) & 0xFF == ord('a'):\n",
    "        imgname = os.path.join(ANC_PATH, '{}.jpg'.format(uuid.uuid1()))\n",
    "        cv2.imwrite(imgname, frame)\n",
    "\n",
    "    # Save positive if 'p' is pressed\n",
    "    if cv2.waitKey(1) & 0xFF == ord('p'):\n",
    "        imgname = os.path.join(POS_PATH, '{}.jpg'.format(uuid.uuid1()))\n",
    "        cv2.imwrite(imgname, frame)\n",
    "\n",
    "    # Display the frame\n",
    "    cv2.imshow('Image Collection', frame)\n",
    "\n",
    "    # Break on 'q'\n",
    "    if cv2.waitKey(1) & 0xFF == ord('q'):\n",
    "        break\n",
    "\n",
    "cap.release()\n",
    "cv2.destroyAllWindows()\n",
    "\n",
    "# Show the last captured frame with matplotlib\n",
    "if last_frame is not None:\n",
    "    last_frame_rgb = cv2.cvtColor(last_frame, cv2.COLOR_BGR2RGB)\n",
    "    plt.imshow(last_frame_rgb)\n",
    "    plt.title(\"Last Captured Frame\")\n",
    "    plt.axis(\"off\")\n",
    "    plt.show()\n",
    "else:\n",
    "    print(\"No frame captured.\")\n",
    "\n",
    "\n",
    "\n"
   ]
  },
  {
   "cell_type": "code",
   "execution_count": 25,
   "metadata": {},
   "outputs": [
    {
     "data": {
      "text/plain": [
       "<matplotlib.image.AxesImage at 0x2db60a29a90>"
      ]
     },
     "execution_count": 25,
     "metadata": {},
     "output_type": "execute_result"
    },
    {
     "data": {
      "image/png": "[encoded data removed]",
      "text/plain": [
       "<Figure size 640x480 with 1 Axes>"
      ]
     },
     "metadata": {},
     "output_type": "display_data"
    }
   ],
   "source": [
    "plt.imshow(frame[120:120+250,200:200+250, :])"
   ]
  },
  {
   "cell_type": "markdown",
   "metadata": {},
   "source": [
    "# 3. Load and Preprocess Images"
   ]
  },
  {
   "cell_type": "markdown",
   "metadata": {},
   "source": [
    "## 3.1 Get Image Directories"
   ]
  },
  {
   "cell_type": "code",
   "execution_count": 26,
   "metadata": {},
   "outputs": [
    {
     "name": "stdout",
     "output_type": "stream",
     "text": [
      "NEG_PATH: data\\negative\n",
      "Found 3 negative image(s)\n",
      "['data\\\\negative\\\\neg_0.jpg', 'data\\\\negative\\\\neg_1.jpg', 'data\\\\negative\\\\sample_negative.jpg']\n"
     ]
    }
   ],
   "source": [
    "import os\n",
    "import glob\n",
    "\n",
    "NEG_PATH = os.path.join('data', 'negative')  # Define NEG_PATH if not already\n",
    "\n",
    "# Print path and check for files\n",
    "print(\"NEG_PATH:\", NEG_PATH)\n",
    "neg_files = glob.glob(os.path.join(NEG_PATH, '*.jpg'))\n",
    "print(\"Found\", len(neg_files), \"negative image(s)\")\n",
    "\n",
    "# Optional: print a few file names\n",
    "print(neg_files[:5])\n"
   ]
  },
  {
   "cell_type": "code",
   "execution_count": 27,
   "metadata": {},
   "outputs": [
    {
     "name": "stdout",
     "output_type": "stream",
     "text": [
      "Sample images downloaded.\n"
     ]
    }
   ],
   "source": [
    "import requests\n",
    "import os\n",
    "\n",
    "NEG_PATH = os.path.join('data', 'negative')\n",
    "os.makedirs(NEG_PATH, exist_ok=True)\n",
    "\n",
    "urls = [\n",
    "    \"https://images.pexels.com/photos/614810/pexels-photo-614810.jpeg\",\n",
    "    \"https://images.pexels.com/photos/614810/pexels-photo-614810.jpeg\"\n",
    "]\n",
    "\n",
    "for i, url in enumerate(urls):\n",
    "    img_data = requests.get(url).content\n",
    "    with open(os.path.join(NEG_PATH, f\"neg_{i}.jpg\"), 'wb') as f:\n",
    "        f.write(img_data)\n",
    "\n",
    "print(\"Sample images downloaded.\")\n"
   ]
  },
  {
   "cell_type": "code",
   "execution_count": 28,
   "metadata": {},
   "outputs": [
    {
     "name": "stdout",
     "output_type": "stream",
     "text": [
      "NEG_PATH: data\\negative\n",
      "Found 3 negative image(s)\n",
      "['data\\\\negative\\\\neg_0.jpg', 'data\\\\negative\\\\neg_1.jpg', 'data\\\\negative\\\\sample_negative.jpg']\n"
     ]
    }
   ],
   "source": [
    "import os\n",
    "import glob\n",
    "\n",
    "NEG_PATH = os.path.join('data', 'negative')  # Define NEG_PATH if not already\n",
    "\n",
    "# Print path and check for files\n",
    "print(\"NEG_PATH:\", NEG_PATH)\n",
    "neg_files = glob.glob(os.path.join(NEG_PATH, '*.jpg'))\n",
    "print(\"Found\", len(neg_files), \"negative image(s)\")\n",
    "\n",
    "# Optional: print a few file names\n",
    "print(neg_files[:5])\n"
   ]
  },
  {
   "cell_type": "code",
   "execution_count": 29,
   "metadata": {},
   "outputs": [
    {
     "name": "stdout",
     "output_type": "stream",
     "text": [
      "Anchor folder: data\\anchor Files: 7\n",
      "Positive folder: data\\positive Files: 3\n",
      "Negative folder: data\\negative Files: 3\n"
     ]
    }
   ],
   "source": [
    "import os\n",
    "print(\"Anchor folder:\", ANC_PATH, \"Files:\", len(os.listdir(ANC_PATH)))\n",
    "print(\"Positive folder:\", POS_PATH, \"Files:\", len(os.listdir(POS_PATH)))\n",
    "print(\"Negative folder:\", NEG_PATH, \"Files:\", len(os.listdir(NEG_PATH)))\n"
   ]
  },
  {
   "cell_type": "code",
   "execution_count": 30,
   "metadata": {},
   "outputs": [
    {
     "name": "stdout",
     "output_type": "stream",
     "text": [
      "Does path exist? True\n",
      "Files in data/positive: ['9c3c7d87-6ad0-11f0-9689-ba2358a892e2.jpg', 'd71b6a85-6ad0-11f0-8045-ba2358a892e2.jpg', 'sample_positive.jpg']\n"
     ]
    }
   ],
   "source": [
    "import os\n",
    "\n",
    "POS_PATH = os.path.join('data', 'positive')\n",
    "print(\"Does path exist?\", os.path.exists(POS_PATH))\n",
    "print(\"Files in data/positive:\", os.listdir(POS_PATH))\n"
   ]
  },
  {
   "cell_type": "code",
   "execution_count": 31,
   "metadata": {},
   "outputs": [],
   "source": [
    "anchor = tf.data.Dataset.list_files(os.path.join(ANC_PATH, '*.jpg')).take(300)\n",
    "positive = tf.data.Dataset.list_files(os.path.join(POS_PATH, '*.jpg')).take(300)\n",
    "negative = tf.data.Dataset.list_files(os.path.join(NEG_PATH, '*.jpg')).take(300)\n"
   ]
  },
  {
   "cell_type": "code",
   "execution_count": 32,
   "metadata": {},
   "outputs": [],
   "source": [
    "import os\n",
    "import tensorflow as tf\n",
    "\n",
    "# Define paths\n",
    "ANC_PATH = os.path.join('data', 'anchor')\n",
    "POS_PATH = os.path.join('data', 'positive')\n",
    "NEG_PATH = os.path.join('data', 'negative')\n",
    "\n",
    "# Load datasets using forward slashes\n",
    "anchor = tf.data.Dataset.list_files(os.path.join(ANC_PATH, '*.jpg')).take(300)\n",
    "positive = tf.data.Dataset.list_files(os.path.join(POS_PATH, '*.jpg')).take(300)\n",
    "negative = tf.data.Dataset.list_files(os.path.join(NEG_PATH, '*.jpg')).take(300)\n"
   ]
  },
  {
   "cell_type": "code",
   "execution_count": 33,
   "metadata": {},
   "outputs": [
    {
     "ename": "FileNotFoundError",
     "evalue": "[WinError 3] The system cannot find the path specified: 'lfw-deepfunneled'",
     "output_type": "error",
     "traceback": [
      "\u001b[31m---------------------------------------------------------------------------\u001b[39m",
      "\u001b[31mFileNotFoundError\u001b[39m                         Traceback (most recent call last)",
      "\u001b[36mCell\u001b[39m\u001b[36m \u001b[39m\u001b[32mIn[33]\u001b[39m\u001b[32m, line 4\u001b[39m\n\u001b[32m      1\u001b[39m \u001b[38;5;28;01mimport\u001b[39;00m\u001b[38;5;250m \u001b[39m\u001b[34;01mshutil\u001b[39;00m\n\u001b[32m      3\u001b[39m \u001b[38;5;66;03m# LFW dataset must be downloaded in a folder called 'lfw'\u001b[39;00m\n\u001b[32m----> \u001b[39m\u001b[32m4\u001b[39m \u001b[38;5;28;01mfor\u001b[39;00m directory \u001b[38;5;129;01min\u001b[39;00m \u001b[43mos\u001b[49m\u001b[43m.\u001b[49m\u001b[43mlistdir\u001b[49m\u001b[43m(\u001b[49m\u001b[33;43m'\u001b[39;49m\u001b[33;43mlfw-deepfunneled\u001b[39;49m\u001b[33;43m'\u001b[39;49m\u001b[43m)\u001b[49m:\n\u001b[32m      5\u001b[39m     dir_path = os.path.join(\u001b[33m'\u001b[39m\u001b[33mlfw-deepfunneled\u001b[39m\u001b[33m'\u001b[39m, directory)\n\u001b[32m      6\u001b[39m     \u001b[38;5;28;01mfor\u001b[39;00m file \u001b[38;5;129;01min\u001b[39;00m os.listdir(dir_path):\n",
      "\u001b[31mFileNotFoundError\u001b[39m: [WinError 3] The system cannot find the path specified: 'lfw-deepfunneled'"
     ]
    }
   ],
   "source": [
    "import shutil\n",
    "\n",
    "# LFW dataset must be downloaded in a folder called 'lfw'\n",
    "for directory in os.listdir('lfw-deepfunneled'):\n",
    "    dir_path = os.path.join('lfw-deepfunneled', directory)\n",
    "    for file in os.listdir(dir_path):\n",
    "        src = os.path.join(dir_path, file)\n",
    "        dst = os.path.join(NEG_PATH, file)\n",
    "        shutil.move(src, dst)\n"
   ]
  },
  {
   "cell_type": "code",
   "execution_count": null,
   "metadata": {},
   "outputs": [
    {
     "name": "stdout",
     "output_type": "stream",
     "text": [
      "✅ Loaded 3 negative images.\n"
     ]
    }
   ],
   "source": [
    "import glob\n",
    "\n",
    "neg_images = glob.glob(os.path.join(NEG_PATH, '*.jpg'))\n",
    "if len(neg_images) == 0:\n",
    "    print(\"❌ No negative images found.\")\n",
    "else:\n",
    "    negative = tf.data.Dataset.list_files(os.path.join(NEG_PATH, '*.jpg')).take(300)\n",
    "    print(\"✅ Loaded\", len(neg_images), \"negative images.\")\n"
   ]
  },
  {
   "cell_type": "code",
   "execution_count": null,
   "metadata": {},
   "outputs": [],
   "source": [
    "try:\n",
    "    negative = tf.data.Dataset.list_files(os.path.join(NEG_PATH, '*.jpg')).take(300)\n",
    "except tf.errors.InvalidArgumentError as e:\n",
    "    print(\"❌ Error loading negative dataset:\", e)\n",
    "    negative = None\n"
   ]
  },
  {
   "cell_type": "code",
   "execution_count": null,
   "metadata": {},
   "outputs": [],
   "source": [
    "dir_test = anchor.as_numpy_iterator()"
   ]
  },
  {
   "cell_type": "code",
   "execution_count": null,
   "metadata": {},
   "outputs": [
    {
     "name": "stdout",
     "output_type": "stream",
     "text": [
      "b'data\\\\anchor\\\\752524ba-6b16-11f0-96c7-ba2358a892e2.jpg'\n"
     ]
    }
   ],
   "source": [
    "print(dir_test.next())"
   ]
  },
  {
   "cell_type": "markdown",
   "metadata": {},
   "source": [
    "## 3.2 Preprocessing - Scale and Resize"
   ]
  },
  {
   "cell_type": "code",
   "execution_count": null,
   "metadata": {},
   "outputs": [],
   "source": [
    "def preprocess(file_path):\n",
    "    \n",
    "    # Read in image from file path\n",
    "    byte_img = tf.io.read_file(file_path)\n",
    "    # Load in the image \n",
    "    img = tf.io.decode_jpeg(byte_img)\n",
    "    \n",
    "    # Preprocessing steps - resizing the image to be 100x100x3\n",
    "    img = tf.image.resize(img, (100,100))\n",
    "    # Scale image to be between 0 and 1 \n",
    "    img = img / 255.0\n",
    "    \n",
    "    # Return image\n",
    "    return img"
   ]
  },
  {
   "cell_type": "code",
   "execution_count": null,
   "metadata": {
    "scrolled": true
   },
   "outputs": [],
   "source": [
    "img = preprocess(\"C:\\\\Users\\\\ASUS\\\\venv\\\\data\\\\anchor\\\\77f30a57-6b16-11f0-92e0-ba2358a892e2.jpg\")"
   ]
  },
  {
   "cell_type": "code",
   "execution_count": null,
   "metadata": {},
   "outputs": [
    {
     "name": "stdout",
     "output_type": "stream",
     "text": [
      "False\n"
     ]
    }
   ],
   "source": [
    "import os\n",
    "print(os.path.exists('data/anchor/a4e73462-135f-11ec-9e6e-a0cec8d2d278.jpg'))\n"
   ]
  },
  {
   "cell_type": "code",
   "execution_count": null,
   "metadata": {},
   "outputs": [
    {
     "name": "stdout",
     "output_type": "stream",
     "text": [
      "Images downloaded and saved in appropriate folders.\n"
     ]
    }
   ],
   "source": [
    "import os\n",
    "import urllib.request\n",
    "\n",
    "# Create folders if they don't exist\n",
    "os.makedirs('data/anchor', exist_ok=True)\n",
    "os.makedirs('data/positive', exist_ok=True)\n",
    "os.makedirs('data/negative', exist_ok=True)\n",
    "\n",
    "# Sample image URLs\n",
    "image_urls = [\n",
    "    (\"data/anchor/sample_anchor.jpg\", \"https://upload.wikimedia.org/wikipedia/commons/4/47/PNG_transparency_demonstration_1.png\"),\n",
    "    (\"data/positive/sample_positive.jpg\", \"https://upload.wikimedia.org/wikipedia/commons/thumb/3/3c/Shaki_waterfall.jpg/800px-Shaki_waterfall.jpg\"),\n",
    "    (\"data/negative/sample_negative.jpg\", \"https://upload.wikimedia.org/wikipedia/commons/thumb/3/3f/Fronalpstock_big.jpg/800px-Fronalpstock_big.jpg\")\n",
    "]\n",
    "\n",
    "# Download and save\n",
    "for path, url in image_urls:\n",
    "    urllib.request.urlretrieve(url, path)\n",
    "\n",
    "print(\"Images downloaded and saved in appropriate folders.\")\n"
   ]
  },
  {
   "cell_type": "code",
   "execution_count": null,
   "metadata": {},
   "outputs": [
    {
     "name": "stdout",
     "output_type": "stream",
     "text": [
      "['74ea3dc3-6b16-11f0-88f6-ba2358a892e2.jpg', '74ee2fe3-6b16-11f0-bf6a-ba2358a892e2.jpg', '74f2a688-6b16-11f0-af33-ba2358a892e2.jpg', '74f7ce50-6b16-11f0-8669-ba2358a892e2.jpg', '752524ba-6b16-11f0-96c7-ba2358a892e2.jpg', '75411605-6b16-11f0-859c-ba2358a892e2.jpg', '754610ad-6b16-11f0-86b9-ba2358a892e2.jpg', '7557f42a-6b16-11f0-b8fd-ba2358a892e2.jpg', '756a4c4b-6b16-11f0-9b12-ba2358a892e2.jpg', '758145e8-6b16-11f0-ba96-ba2358a892e2.jpg', '75860d4e-6b16-11f0-874b-ba2358a892e2.jpg', '75a19a1a-6b16-11f0-a245-ba2358a892e2.jpg', '75af654f-6b16-11f0-a8bf-ba2358a892e2.jpg', '75b3d22f-6b16-11f0-9f17-ba2358a892e2.jpg', '75b88f78-6b16-11f0-b314-ba2358a892e2.jpg', '75d988ad-6b16-11f0-b1d5-ba2358a892e2.jpg', '75e64cc9-6b16-11f0-aee2-ba2358a892e2.jpg', '75eb5fa7-6b16-11f0-9999-ba2358a892e2.jpg', '760c81f7-6b16-11f0-b03d-ba2358a892e2.jpg', '76193a8f-6b16-11f0-9be5-ba2358a892e2.jpg', '762d8d2c-6b16-11f0-af80-ba2358a892e2.jpg', '764757ee-6b16-11f0-b49e-ba2358a892e2.jpg', '765fb69a-6b16-11f0-a802-ba2358a892e2.jpg', '76671292-6b16-11f0-b059-ba2358a892e2.jpg', '766be147-6b16-11f0-9f0c-ba2358a892e2.jpg', '7670e191-6b16-11f0-94d7-ba2358a892e2.jpg', '7675e4f4-6b16-11f0-a06b-ba2358a892e2.jpg', '7684c58a-6b16-11f0-9377-ba2358a892e2.jpg', '76897135-6b16-11f0-936f-ba2358a892e2.jpg', '7690a77c-6b16-11f0-b70f-ba2358a892e2.jpg', '7695fb34-6b16-11f0-aab8-ba2358a892e2.jpg', '76a7b5db-6b16-11f0-88c4-ba2358a892e2.jpg', '76acc8ab-6b16-11f0-9c0c-ba2358a892e2.jpg', '76b1c1c7-6b16-11f0-8bfe-ba2358a892e2.jpg', '76b5b6a4-6b16-11f0-8d21-ba2358a892e2.jpg', '76bec9e1-6b16-11f0-914f-ba2358a892e2.jpg', '76c39752-6b16-11f0-8e35-ba2358a892e2.jpg', '76c8db06-6b16-11f0-a38a-ba2358a892e2.jpg', '76ce0450-6b16-11f0-8bf0-ba2358a892e2.jpg', '76d0e944-6b16-11f0-920e-ba2358a892e2.jpg', '76da6e9f-6b16-11f0-87e7-ba2358a892e2.jpg', '76dec40e-6b16-11f0-b64e-ba2358a892e2.jpg', '76e614af-6b16-11f0-9a10-ba2358a892e2.jpg', '76eb0a0f-6b16-11f0-96e7-ba2358a892e2.jpg', '76f15317-6b16-11f0-9d33-ba2358a892e2.jpg', '76f6a4b0-6b16-11f0-b98e-ba2358a892e2.jpg', '76fa5100-6b16-11f0-ae36-ba2358a892e2.jpg', '7700e69a-6b16-11f0-9af5-ba2358a892e2.jpg', '77088c20-6b16-11f0-b189-ba2358a892e2.jpg', '770d6f3e-6b16-11f0-991e-ba2358a892e2.jpg', '771266cd-6b16-11f0-9397-ba2358a892e2.jpg', '7716fa76-6b16-11f0-b435-ba2358a892e2.jpg', '771ba4da-6b16-11f0-9b3e-ba2358a892e2.jpg', '7720ae1a-6b16-11f0-ac94-ba2358a892e2.jpg', '772828a1-6b16-11f0-9477-ba2358a892e2.jpg', '772d302b-6b16-11f0-869a-ba2358a892e2.jpg', '77323b47-6b16-11f0-97c7-ba2358a892e2.jpg', '77372ae4-6b16-11f0-b7f3-ba2358a892e2.jpg', '773be7ac-6b16-11f0-a7bd-ba2358a892e2.jpg', '7740eead-6b16-11f0-8b5d-ba2358a892e2.jpg', '774570c6-6b16-11f0-9ee7-ba2358a892e2.jpg', '774a8e5a-6b16-11f0-8264-ba2358a892e2.jpg', '7753ef8b-6b16-11f0-a7ea-ba2358a892e2.jpg', '775db411-6b16-11f0-a417-ba2358a892e2.jpg', '7764fc41-6b16-11f0-9d35-ba2358a892e2.jpg', '7769eb18-6b16-11f0-9f0f-ba2358a892e2.jpg', '776efff9-6b16-11f0-94fc-ba2358a892e2.jpg', '7773efb4-6b16-11f0-b3a6-ba2358a892e2.jpg', '7778cd07-6b16-11f0-97f8-ba2358a892e2.jpg', '777dddd9-6b16-11f0-b13c-ba2358a892e2.jpg', '7784db4c-6b16-11f0-8da2-ba2358a892e2.jpg', '77893f02-6b16-11f0-a413-ba2358a892e2.jpg', '778f061c-6b16-11f0-bffd-ba2358a892e2.jpg', '779298a6-6b16-11f0-b640-ba2358a892e2.jpg', '779bd396-6b16-11f0-a8b0-ba2358a892e2.jpg', '77a0de4f-6b16-11f0-ae28-ba2358a892e2.jpg', '77a73a1b-6b16-11f0-9976-ba2358a892e2.jpg', '77ac19f0-6b16-11f0-8639-ba2358a892e2.jpg', '77b2a12a-6b16-11f0-922c-ba2358a892e2.jpg', '77b7bff7-6b16-11f0-9972-ba2358a892e2.jpg', '77bccae5-6b16-11f0-a78a-ba2358a892e2.jpg', '77c1e31b-6b16-11f0-9c7e-ba2358a892e2.jpg', '77ce3a57-6b16-11f0-a922-ba2358a892e2.jpg', '77d2f33c-6b16-11f0-aa7f-ba2358a892e2.jpg', '77d78af9-6b16-11f0-b922-ba2358a892e2.jpg', '77dc7c8f-6b16-11f0-97bf-ba2358a892e2.jpg', '77e43e3c-6b16-11f0-8809-ba2358a892e2.jpg', '77efb926-6b16-11f0-9b3b-ba2358a892e2.jpg', '77f30a57-6b16-11f0-92e0-ba2358a892e2.jpg', '77f838f4-6b16-11f0-938b-ba2358a892e2.jpg', '77fcf48c-6b16-11f0-b805-ba2358a892e2.jpg', '78019030-6b16-11f0-88aa-ba2358a892e2.jpg', '78062ae9-6b16-11f0-b199-ba2358a892e2.jpg', '780b0c2f-6b16-11f0-a617-ba2358a892e2.jpg', '780fea76-6b16-11f0-aa9e-ba2358a892e2.jpg', 'sample_anchor.jpg']\n"
     ]
    }
   ],
   "source": [
    "import os\n",
    "\n",
    "print(os.listdir('data/anchor'))\n"
   ]
  },
  {
   "cell_type": "code",
   "execution_count": null,
   "metadata": {},
   "outputs": [],
   "source": [
    "img = preprocess('C:\\\\Users\\\\ASUS\\\\venv\\\\data\\\\anchor\\\\7740eead-6b16-11f0-8b5d-ba2358a892e2.jpg')\n",
    "img = preprocess('C:\\\\Users\\\\ASUS\\\\venv\\\\data\\\\anchor\\\\77d78af9-6b16-11f0-b922-ba2358a892e2.jpg')\n",
    "img = preprocess('data/anchor/sample_anchor.jpg')\n"
   ]
  },
  {
   "cell_type": "code",
   "execution_count": null,
   "metadata": {},
   "outputs": [
    {
     "data": {
      "text/plain": [
       "np.float32(1.0)"
      ]
     },
     "execution_count": 71,
     "metadata": {},
     "output_type": "execute_result"
    }
   ],
   "source": [
    "img.numpy().max() "
   ]
  },
  {
   "cell_type": "code",
   "execution_count": null,
   "metadata": {},
   "outputs": [
    {
     "data": {
      "text/plain": [
       "<matplotlib.image.AxesImage at 0x2955288e7e0>"
      ]
     },
     "execution_count": 72,
     "metadata": {},
     "output_type": "execute_result"
    },
    {
     "data": {
      "image/png": "[encoded data removed]",
      "text/plain": [
       "<Figure size 640x480 with 1 Axes>"
      ]
     },
     "metadata": {},
     "output_type": "display_data"
    }
   ],
   "source": [
    "plt.imshow(img)"
   ]
  },
  {
   "cell_type": "code",
   "execution_count": null,
   "metadata": {},
   "outputs": [],
   "source": [
    "def preprocess(file_path):\n",
    "    # Read the image from path\n",
    "    byte_img = tf.io.read_file(file_path)\n",
    "\n",
    "    # Decode JPEG\n",
    "    img = tf.io.decode_jpeg(byte_img)\n",
    "\n",
    "    # Resize to fixed shape\n",
    "    img = tf.image.resize(img, (100, 100))\n",
    "\n",
    "    # Normalize (Optional)\n",
    "    img = img / 255.0\n",
    "\n",
    "    return img\n"
   ]
  },
  {
   "cell_type": "code",
   "execution_count": null,
   "metadata": {},
   "outputs": [],
   "source": [
    "dataset = tf.data.Dataset.list_files(\"data/anchor/*.jpg\").map(preprocess)\n"
   ]
  },
  {
   "cell_type": "code",
   "execution_count": null,
   "metadata": {},
   "outputs": [],
   "source": [
    "import tensorflow as tf\n",
    "import os\n",
    "\n",
    "# Path setup\n",
    "ANC_PATH = os.path.join('data', 'anchor')\n",
    "\n",
    "# Define preprocess function\n",
    "def preprocess(file_path):\n",
    "    byte_img = tf.io.read_file(file_path)\n",
    "    img = tf.io.decode_jpeg(byte_img)\n",
    "    img = tf.image.resize(img, (100, 100))\n",
    "    img = img / 255.0\n",
    "    return img\n",
    "\n",
    "# Load dataset and apply preprocess\n",
    "anchor = tf.data.Dataset.list_files(os.path.join(ANC_PATH, '*.jpg')).take(10)\n",
    "anchor = anchor.map(preprocess)\n"
   ]
  },
  {
   "cell_type": "code",
   "execution_count": null,
   "metadata": {},
   "outputs": [
    {
     "ename": "TypeError",
     "evalue": "in user code:\n\n    File \"C:\\Users\\ASUS\\AppData\\Local\\Temp\\ipykernel_14216\\222247085.py\", line 9, in preprocess  *\n        byte_img = tf.io.read_file(file_path)\n\n    TypeError: Input 'filename' of 'ReadFile' Op has type float32 that does not match expected type of string.\n",
     "output_type": "error",
     "traceback": [
      "\u001b[31m---------------------------------------------------------------------------\u001b[39m",
      "\u001b[31mTypeError\u001b[39m                                 Traceback (most recent call last)",
      "\u001b[36mCell\u001b[39m\u001b[36m \u001b[39m\u001b[32mIn[76]\u001b[39m\u001b[32m, line 1\u001b[39m\n\u001b[32m----> \u001b[39m\u001b[32m1\u001b[39m dataset = anchor.map(preprocess)\n",
      "\u001b[36mFile \u001b[39m\u001b[32mc:\\Users\\ASUS\\aditya\\Lib\\site-packages\\tensorflow\\python\\data\\ops\\dataset_ops.py:2341\u001b[39m, in \u001b[36mDatasetV2.map\u001b[39m\u001b[34m(self, map_func, num_parallel_calls, deterministic, synchronous, use_unbounded_threadpool, name)\u001b[39m\n\u001b[32m   2336\u001b[39m \u001b[38;5;66;03m# Loaded lazily due to a circular dependency (dataset_ops -> map_op ->\u001b[39;00m\n\u001b[32m   2337\u001b[39m \u001b[38;5;66;03m# dataset_ops).\u001b[39;00m\n\u001b[32m   2338\u001b[39m \u001b[38;5;66;03m# pylint: disable=g-import-not-at-top,protected-access\u001b[39;00m\n\u001b[32m   2339\u001b[39m \u001b[38;5;28;01mfrom\u001b[39;00m\u001b[38;5;250m \u001b[39m\u001b[34;01mtensorflow\u001b[39;00m\u001b[34;01m.\u001b[39;00m\u001b[34;01mpython\u001b[39;00m\u001b[34;01m.\u001b[39;00m\u001b[34;01mdata\u001b[39;00m\u001b[34;01m.\u001b[39;00m\u001b[34;01mops\u001b[39;00m\u001b[38;5;250m \u001b[39m\u001b[38;5;28;01mimport\u001b[39;00m map_op\n\u001b[32m-> \u001b[39m\u001b[32m2341\u001b[39m \u001b[38;5;28;01mreturn\u001b[39;00m map_op._map_v2(\n\u001b[32m   2342\u001b[39m     \u001b[38;5;28mself\u001b[39m,\n\u001b[32m   2343\u001b[39m     map_func,\n\u001b[32m   2344\u001b[39m     num_parallel_calls=num_parallel_calls,\n\u001b[32m   2345\u001b[39m     deterministic=deterministic,\n\u001b[32m   2346\u001b[39m     synchronous=synchronous,\n\u001b[32m   2347\u001b[39m     use_unbounded_threadpool=use_unbounded_threadpool,\n\u001b[32m   2348\u001b[39m     name=name,\n\u001b[32m   2349\u001b[39m )\n",
      "\u001b[36mFile \u001b[39m\u001b[32mc:\\Users\\ASUS\\aditya\\Lib\\site-packages\\tensorflow\\python\\data\\ops\\map_op.py:43\u001b[39m, in \u001b[36m_map_v2\u001b[39m\u001b[34m(input_dataset, map_func, num_parallel_calls, deterministic, synchronous, use_unbounded_threadpool, name)\u001b[39m\n\u001b[32m     38\u001b[39m   \u001b[38;5;28;01mif\u001b[39;00m deterministic \u001b[38;5;129;01mis\u001b[39;00m \u001b[38;5;129;01mnot\u001b[39;00m \u001b[38;5;28;01mNone\u001b[39;00m \u001b[38;5;129;01mand\u001b[39;00m \u001b[38;5;129;01mnot\u001b[39;00m debug_mode.DEBUG_MODE:\n\u001b[32m     39\u001b[39m     warnings.warn(\n\u001b[32m     40\u001b[39m         \u001b[33m\"\u001b[39m\u001b[33mThe `deterministic` argument has no effect unless the \u001b[39m\u001b[33m\"\u001b[39m\n\u001b[32m     41\u001b[39m         \u001b[33m\"\u001b[39m\u001b[33m`num_parallel_calls` argument is specified.\u001b[39m\u001b[33m\"\u001b[39m\n\u001b[32m     42\u001b[39m     )\n\u001b[32m---> \u001b[39m\u001b[32m43\u001b[39m   \u001b[38;5;28;01mreturn\u001b[39;00m _MapDataset(\n\u001b[32m     44\u001b[39m       input_dataset,\n\u001b[32m     45\u001b[39m       map_func,\n\u001b[32m     46\u001b[39m       preserve_cardinality=\u001b[38;5;28;01mTrue\u001b[39;00m,\n\u001b[32m     47\u001b[39m       force_synchronous=\u001b[38;5;28;01mFalse\u001b[39;00m \u001b[38;5;28;01mif\u001b[39;00m synchronous \u001b[38;5;129;01mis\u001b[39;00m \u001b[38;5;28;01mNone\u001b[39;00m \u001b[38;5;28;01melse\u001b[39;00m synchronous,\n\u001b[32m     48\u001b[39m       name=name,\n\u001b[32m     49\u001b[39m   )\n\u001b[32m     50\u001b[39m \u001b[38;5;28;01melse\u001b[39;00m:\n\u001b[32m     51\u001b[39m   \u001b[38;5;28;01mif\u001b[39;00m synchronous:\n",
      "\u001b[36mFile \u001b[39m\u001b[32mc:\\Users\\ASUS\\aditya\\Lib\\site-packages\\tensorflow\\python\\data\\ops\\map_op.py:157\u001b[39m, in \u001b[36m_MapDataset.__init__\u001b[39m\u001b[34m(self, input_dataset, map_func, force_synchronous, use_inter_op_parallelism, preserve_cardinality, use_legacy_function, name)\u001b[39m\n\u001b[32m    155\u001b[39m \u001b[38;5;28mself\u001b[39m._use_inter_op_parallelism = use_inter_op_parallelism\n\u001b[32m    156\u001b[39m \u001b[38;5;28mself\u001b[39m._preserve_cardinality = preserve_cardinality\n\u001b[32m--> \u001b[39m\u001b[32m157\u001b[39m \u001b[38;5;28mself\u001b[39m._map_func = structured_function.StructuredFunctionWrapper(\n\u001b[32m    158\u001b[39m     map_func,\n\u001b[32m    159\u001b[39m     \u001b[38;5;28mself\u001b[39m._transformation_name(),\n\u001b[32m    160\u001b[39m     dataset=input_dataset,\n\u001b[32m    161\u001b[39m     use_legacy_function=use_legacy_function)\n\u001b[32m    162\u001b[39m \u001b[38;5;28mself\u001b[39m._force_synchronous = force_synchronous\n\u001b[32m    163\u001b[39m \u001b[38;5;28mself\u001b[39m._name = name\n",
      "\u001b[36mFile \u001b[39m\u001b[32mc:\\Users\\ASUS\\aditya\\Lib\\site-packages\\tensorflow\\python\\data\\ops\\structured_function.py:265\u001b[39m, in \u001b[36mStructuredFunctionWrapper.__init__\u001b[39m\u001b[34m(self, func, transformation_name, dataset, input_classes, input_shapes, input_types, input_structure, add_to_graph, use_legacy_function, defun_kwargs)\u001b[39m\n\u001b[32m    258\u001b[39m       warnings.warn(\n\u001b[32m    259\u001b[39m           \u001b[33m\"\u001b[39m\u001b[33mEven though the `tf.config.experimental_run_functions_eagerly` \u001b[39m\u001b[33m\"\u001b[39m\n\u001b[32m    260\u001b[39m           \u001b[33m\"\u001b[39m\u001b[33moption is set, this option does not apply to tf.data functions. \u001b[39m\u001b[33m\"\u001b[39m\n\u001b[32m    261\u001b[39m           \u001b[33m\"\u001b[39m\u001b[33mTo force eager execution of tf.data functions, please use \u001b[39m\u001b[33m\"\u001b[39m\n\u001b[32m    262\u001b[39m           \u001b[33m\"\u001b[39m\u001b[33m`tf.data.experimental.enable_debug_mode()`.\u001b[39m\u001b[33m\"\u001b[39m)\n\u001b[32m    263\u001b[39m     fn_factory = trace_tf_function(defun_kwargs)\n\u001b[32m--> \u001b[39m\u001b[32m265\u001b[39m \u001b[38;5;28mself\u001b[39m._function = fn_factory()\n\u001b[32m    266\u001b[39m \u001b[38;5;66;03m# There is no graph to add in eager mode.\u001b[39;00m\n\u001b[32m    267\u001b[39m add_to_graph &= \u001b[38;5;129;01mnot\u001b[39;00m context.executing_eagerly()\n",
      "\u001b[36mFile \u001b[39m\u001b[32mc:\\Users\\ASUS\\aditya\\Lib\\site-packages\\tensorflow\\python\\eager\\polymorphic_function\\polymorphic_function.py:1256\u001b[39m, in \u001b[36mFunction.get_concrete_function\u001b[39m\u001b[34m(self, *args, **kwargs)\u001b[39m\n\u001b[32m   1254\u001b[39m \u001b[38;5;28;01mdef\u001b[39;00m\u001b[38;5;250m \u001b[39m\u001b[34mget_concrete_function\u001b[39m(\u001b[38;5;28mself\u001b[39m, *args, **kwargs):\n\u001b[32m   1255\u001b[39m   \u001b[38;5;66;03m# Implements PolymorphicFunction.get_concrete_function.\u001b[39;00m\n\u001b[32m-> \u001b[39m\u001b[32m1256\u001b[39m   concrete = \u001b[38;5;28mself\u001b[39m._get_concrete_function_garbage_collected(*args, **kwargs)\n\u001b[32m   1257\u001b[39m   concrete._garbage_collector.release()  \u001b[38;5;66;03m# pylint: disable=protected-access\u001b[39;00m\n\u001b[32m   1258\u001b[39m   \u001b[38;5;28;01mreturn\u001b[39;00m concrete\n",
      "\u001b[36mFile \u001b[39m\u001b[32mc:\\Users\\ASUS\\aditya\\Lib\\site-packages\\tensorflow\\python\\eager\\polymorphic_function\\polymorphic_function.py:1226\u001b[39m, in \u001b[36mFunction._get_concrete_function_garbage_collected\u001b[39m\u001b[34m(self, *args, **kwargs)\u001b[39m\n\u001b[32m   1224\u001b[39m   \u001b[38;5;28;01mif\u001b[39;00m \u001b[38;5;28mself\u001b[39m._variable_creation_config \u001b[38;5;129;01mis\u001b[39;00m \u001b[38;5;28;01mNone\u001b[39;00m:\n\u001b[32m   1225\u001b[39m     initializers = []\n\u001b[32m-> \u001b[39m\u001b[32m1226\u001b[39m     \u001b[38;5;28mself\u001b[39m._initialize(args, kwargs, add_initializers_to=initializers)\n\u001b[32m   1227\u001b[39m     \u001b[38;5;28mself\u001b[39m._initialize_uninitialized_variables(initializers)\n\u001b[32m   1229\u001b[39m \u001b[38;5;28;01mif\u001b[39;00m \u001b[38;5;28mself\u001b[39m._created_variables:\n\u001b[32m   1230\u001b[39m   \u001b[38;5;66;03m# In this case we have created variables on the first call, so we run the\u001b[39;00m\n\u001b[32m   1231\u001b[39m   \u001b[38;5;66;03m# version which is guaranteed to never create variables.\u001b[39;00m\n",
      "\u001b[36mFile \u001b[39m\u001b[32mc:\\Users\\ASUS\\aditya\\Lib\\site-packages\\tensorflow\\python\\eager\\polymorphic_function\\polymorphic_function.py:696\u001b[39m, in \u001b[36mFunction._initialize\u001b[39m\u001b[34m(self, args, kwds, add_initializers_to)\u001b[39m\n\u001b[32m    691\u001b[39m \u001b[38;5;28mself\u001b[39m._variable_creation_config = \u001b[38;5;28mself\u001b[39m._generate_scoped_tracing_options(\n\u001b[32m    692\u001b[39m     variable_capturing_scope,\n\u001b[32m    693\u001b[39m     tracing_compilation.ScopeType.VARIABLE_CREATION,\n\u001b[32m    694\u001b[39m )\n\u001b[32m    695\u001b[39m \u001b[38;5;66;03m# Force the definition of the function for these arguments\u001b[39;00m\n\u001b[32m--> \u001b[39m\u001b[32m696\u001b[39m \u001b[38;5;28mself\u001b[39m._concrete_variable_creation_fn = tracing_compilation.trace_function(\n\u001b[32m    697\u001b[39m     args, kwds, \u001b[38;5;28mself\u001b[39m._variable_creation_config\n\u001b[32m    698\u001b[39m )\n\u001b[32m    700\u001b[39m \u001b[38;5;28;01mdef\u001b[39;00m\u001b[38;5;250m \u001b[39m\u001b[34minvalid_creator_scope\u001b[39m(*unused_args, **unused_kwds):\n\u001b[32m    701\u001b[39m \u001b[38;5;250m  \u001b[39m\u001b[33;03m\"\"\"Disables variable creation.\"\"\"\u001b[39;00m\n",
      "\u001b[36mFile \u001b[39m\u001b[32mc:\\Users\\ASUS\\aditya\\Lib\\site-packages\\tensorflow\\python\\eager\\polymorphic_function\\tracing_compilation.py:178\u001b[39m, in \u001b[36mtrace_function\u001b[39m\u001b[34m(args, kwargs, tracing_options)\u001b[39m\n\u001b[32m    175\u001b[39m     args = tracing_options.input_signature\n\u001b[32m    176\u001b[39m     kwargs = {}\n\u001b[32m--> \u001b[39m\u001b[32m178\u001b[39m   concrete_function = _maybe_define_function(\n\u001b[32m    179\u001b[39m       args, kwargs, tracing_options\n\u001b[32m    180\u001b[39m   )\n\u001b[32m    182\u001b[39m \u001b[38;5;28;01mif\u001b[39;00m \u001b[38;5;129;01mnot\u001b[39;00m tracing_options.bind_graph_to_function:\n\u001b[32m    183\u001b[39m   concrete_function._garbage_collector.release()  \u001b[38;5;66;03m# pylint: disable=protected-access\u001b[39;00m\n",
      "\u001b[36mFile \u001b[39m\u001b[32mc:\\Users\\ASUS\\aditya\\Lib\\site-packages\\tensorflow\\python\\eager\\polymorphic_function\\tracing_compilation.py:283\u001b[39m, in \u001b[36m_maybe_define_function\u001b[39m\u001b[34m(args, kwargs, tracing_options)\u001b[39m\n\u001b[32m    281\u001b[39m \u001b[38;5;28;01melse\u001b[39;00m:\n\u001b[32m    282\u001b[39m   target_func_type = lookup_func_type\n\u001b[32m--> \u001b[39m\u001b[32m283\u001b[39m concrete_function = _create_concrete_function(\n\u001b[32m    284\u001b[39m     target_func_type, lookup_func_context, func_graph, tracing_options\n\u001b[32m    285\u001b[39m )\n\u001b[32m    287\u001b[39m \u001b[38;5;28;01mif\u001b[39;00m tracing_options.function_cache \u001b[38;5;129;01mis\u001b[39;00m \u001b[38;5;129;01mnot\u001b[39;00m \u001b[38;5;28;01mNone\u001b[39;00m:\n\u001b[32m    288\u001b[39m   tracing_options.function_cache.add(\n\u001b[32m    289\u001b[39m       concrete_function, current_func_context\n\u001b[32m    290\u001b[39m   )\n",
      "\u001b[36mFile \u001b[39m\u001b[32mc:\\Users\\ASUS\\aditya\\Lib\\site-packages\\tensorflow\\python\\eager\\polymorphic_function\\tracing_compilation.py:310\u001b[39m, in \u001b[36m_create_concrete_function\u001b[39m\u001b[34m(function_type, type_context, func_graph, tracing_options)\u001b[39m\n\u001b[32m    303\u001b[39m   placeholder_bound_args = function_type.placeholder_arguments(\n\u001b[32m    304\u001b[39m       placeholder_context\n\u001b[32m    305\u001b[39m   )\n\u001b[32m    307\u001b[39m disable_acd = tracing_options.attributes \u001b[38;5;129;01mand\u001b[39;00m tracing_options.attributes.get(\n\u001b[32m    308\u001b[39m     attributes_lib.DISABLE_ACD, \u001b[38;5;28;01mFalse\u001b[39;00m\n\u001b[32m    309\u001b[39m )\n\u001b[32m--> \u001b[39m\u001b[32m310\u001b[39m traced_func_graph = func_graph_module.func_graph_from_py_func(\n\u001b[32m    311\u001b[39m     tracing_options.name,\n\u001b[32m    312\u001b[39m     tracing_options.python_function,\n\u001b[32m    313\u001b[39m     placeholder_bound_args.args,\n\u001b[32m    314\u001b[39m     placeholder_bound_args.kwargs,\n\u001b[32m    315\u001b[39m     \u001b[38;5;28;01mNone\u001b[39;00m,\n\u001b[32m    316\u001b[39m     func_graph=func_graph,\n\u001b[32m    317\u001b[39m     add_control_dependencies=\u001b[38;5;129;01mnot\u001b[39;00m disable_acd,\n\u001b[32m    318\u001b[39m     arg_names=function_type_utils.to_arg_names(function_type),\n\u001b[32m    319\u001b[39m     create_placeholders=\u001b[38;5;28;01mFalse\u001b[39;00m,\n\u001b[32m    320\u001b[39m )\n\u001b[32m    322\u001b[39m transform.apply_func_graph_transforms(traced_func_graph)\n\u001b[32m    324\u001b[39m graph_capture_container = traced_func_graph.function_captures\n",
      "\u001b[36mFile \u001b[39m\u001b[32mc:\\Users\\ASUS\\aditya\\Lib\\site-packages\\tensorflow\\python\\framework\\func_graph.py:1060\u001b[39m, in \u001b[36mfunc_graph_from_py_func\u001b[39m\u001b[34m(name, python_func, args, kwargs, signature, func_graph, add_control_dependencies, arg_names, op_return_value, collections, capture_by_value, create_placeholders)\u001b[39m\n\u001b[32m   1057\u001b[39m   \u001b[38;5;28;01mreturn\u001b[39;00m x\n\u001b[32m   1059\u001b[39m _, original_func = tf_decorator.unwrap(python_func)\n\u001b[32m-> \u001b[39m\u001b[32m1060\u001b[39m func_outputs = python_func(*func_args, **func_kwargs)\n\u001b[32m   1062\u001b[39m \u001b[38;5;66;03m# invariant: `func_outputs` contains only Tensors, CompositeTensors,\u001b[39;00m\n\u001b[32m   1063\u001b[39m \u001b[38;5;66;03m# TensorArrays and `None`s.\u001b[39;00m\n\u001b[32m   1064\u001b[39m func_outputs = variable_utils.convert_variables_to_tensors(func_outputs)\n",
      "\u001b[36mFile \u001b[39m\u001b[32mc:\\Users\\ASUS\\aditya\\Lib\\site-packages\\tensorflow\\python\\eager\\polymorphic_function\\polymorphic_function.py:599\u001b[39m, in \u001b[36mFunction._generate_scoped_tracing_options.<locals>.wrapped_fn\u001b[39m\u001b[34m(*args, **kwds)\u001b[39m\n\u001b[32m    595\u001b[39m \u001b[38;5;28;01mwith\u001b[39;00m default_graph._variable_creator_scope(scope, priority=\u001b[32m50\u001b[39m):  \u001b[38;5;66;03m# pylint: disable=protected-access\u001b[39;00m\n\u001b[32m    596\u001b[39m   \u001b[38;5;66;03m# __wrapped__ allows AutoGraph to swap in a converted function. We give\u001b[39;00m\n\u001b[32m    597\u001b[39m   \u001b[38;5;66;03m# the function a weak reference to itself to avoid a reference cycle.\u001b[39;00m\n\u001b[32m    598\u001b[39m   \u001b[38;5;28;01mwith\u001b[39;00m OptionalXlaContext(compile_with_xla):\n\u001b[32m--> \u001b[39m\u001b[32m599\u001b[39m     out = weak_wrapped_fn().__wrapped__(*args, **kwds)\n\u001b[32m    600\u001b[39m   \u001b[38;5;28;01mreturn\u001b[39;00m out\n",
      "\u001b[36mFile \u001b[39m\u001b[32mc:\\Users\\ASUS\\aditya\\Lib\\site-packages\\tensorflow\\python\\data\\ops\\structured_function.py:231\u001b[39m, in \u001b[36mStructuredFunctionWrapper.__init__.<locals>.trace_tf_function.<locals>.wrapped_fn\u001b[39m\u001b[34m(*args)\u001b[39m\n\u001b[32m    230\u001b[39m \u001b[38;5;28;01mdef\u001b[39;00m\u001b[38;5;250m \u001b[39m\u001b[34mwrapped_fn\u001b[39m(*args):  \u001b[38;5;66;03m# pylint: disable=missing-docstring\u001b[39;00m\n\u001b[32m--> \u001b[39m\u001b[32m231\u001b[39m   ret = wrapper_helper(*args)\n\u001b[32m    232\u001b[39m   ret = structure.to_tensor_list(\u001b[38;5;28mself\u001b[39m._output_structure, ret)\n\u001b[32m    233\u001b[39m   \u001b[38;5;28;01mreturn\u001b[39;00m [ops.convert_to_tensor(t) \u001b[38;5;28;01mfor\u001b[39;00m t \u001b[38;5;129;01min\u001b[39;00m ret]\n",
      "\u001b[36mFile \u001b[39m\u001b[32mc:\\Users\\ASUS\\aditya\\Lib\\site-packages\\tensorflow\\python\\data\\ops\\structured_function.py:161\u001b[39m, in \u001b[36mStructuredFunctionWrapper.__init__.<locals>.wrapper_helper\u001b[39m\u001b[34m(*args)\u001b[39m\n\u001b[32m    159\u001b[39m \u001b[38;5;28;01mif\u001b[39;00m \u001b[38;5;129;01mnot\u001b[39;00m _should_unpack(nested_args):\n\u001b[32m    160\u001b[39m   nested_args = (nested_args,)\n\u001b[32m--> \u001b[39m\u001b[32m161\u001b[39m ret = autograph.tf_convert(\u001b[38;5;28mself\u001b[39m._func, ag_ctx)(*nested_args)\n\u001b[32m    162\u001b[39m ret = variable_utils.convert_variables_to_tensors(ret)\n\u001b[32m    163\u001b[39m \u001b[38;5;28;01mif\u001b[39;00m _should_pack(ret):\n",
      "\u001b[36mFile \u001b[39m\u001b[32mc:\\Users\\ASUS\\aditya\\Lib\\site-packages\\tensorflow\\python\\autograph\\impl\\api.py:693\u001b[39m, in \u001b[36mconvert.<locals>.decorator.<locals>.wrapper\u001b[39m\u001b[34m(*args, **kwargs)\u001b[39m\n\u001b[32m    691\u001b[39m \u001b[38;5;28;01mexcept\u001b[39;00m \u001b[38;5;167;01mException\u001b[39;00m \u001b[38;5;28;01mas\u001b[39;00m e:  \u001b[38;5;66;03m# pylint:disable=broad-except\u001b[39;00m\n\u001b[32m    692\u001b[39m   \u001b[38;5;28;01mif\u001b[39;00m \u001b[38;5;28mhasattr\u001b[39m(e, \u001b[33m'\u001b[39m\u001b[33mag_error_metadata\u001b[39m\u001b[33m'\u001b[39m):\n\u001b[32m--> \u001b[39m\u001b[32m693\u001b[39m     \u001b[38;5;28;01mraise\u001b[39;00m e.ag_error_metadata.to_exception(e)\n\u001b[32m    694\u001b[39m   \u001b[38;5;28;01melse\u001b[39;00m:\n\u001b[32m    695\u001b[39m     \u001b[38;5;28;01mraise\u001b[39;00m\n",
      "\u001b[36mFile \u001b[39m\u001b[32mc:\\Users\\ASUS\\aditya\\Lib\\site-packages\\tensorflow\\python\\autograph\\impl\\api.py:690\u001b[39m, in \u001b[36mconvert.<locals>.decorator.<locals>.wrapper\u001b[39m\u001b[34m(*args, **kwargs)\u001b[39m\n\u001b[32m    688\u001b[39m \u001b[38;5;28;01mtry\u001b[39;00m:\n\u001b[32m    689\u001b[39m   \u001b[38;5;28;01mwith\u001b[39;00m conversion_ctx:\n\u001b[32m--> \u001b[39m\u001b[32m690\u001b[39m     \u001b[38;5;28;01mreturn\u001b[39;00m converted_call(f, args, kwargs, options=options)\n\u001b[32m    691\u001b[39m \u001b[38;5;28;01mexcept\u001b[39;00m \u001b[38;5;167;01mException\u001b[39;00m \u001b[38;5;28;01mas\u001b[39;00m e:  \u001b[38;5;66;03m# pylint:disable=broad-except\u001b[39;00m\n\u001b[32m    692\u001b[39m   \u001b[38;5;28;01mif\u001b[39;00m \u001b[38;5;28mhasattr\u001b[39m(e, \u001b[33m'\u001b[39m\u001b[33mag_error_metadata\u001b[39m\u001b[33m'\u001b[39m):\n",
      "\u001b[36mFile \u001b[39m\u001b[32mc:\\Users\\ASUS\\aditya\\Lib\\site-packages\\tensorflow\\python\\autograph\\impl\\api.py:439\u001b[39m, in \u001b[36mconverted_call\u001b[39m\u001b[34m(f, args, kwargs, caller_fn_scope, options)\u001b[39m\n\u001b[32m    437\u001b[39m \u001b[38;5;28;01mtry\u001b[39;00m:\n\u001b[32m    438\u001b[39m   \u001b[38;5;28;01mif\u001b[39;00m kwargs \u001b[38;5;129;01mis\u001b[39;00m \u001b[38;5;129;01mnot\u001b[39;00m \u001b[38;5;28;01mNone\u001b[39;00m:\n\u001b[32m--> \u001b[39m\u001b[32m439\u001b[39m     result = converted_f(*effective_args, **kwargs)\n\u001b[32m    440\u001b[39m   \u001b[38;5;28;01melse\u001b[39;00m:\n\u001b[32m    441\u001b[39m     result = converted_f(*effective_args)\n",
      "\u001b[36mFile \u001b[39m\u001b[32m~\\AppData\\Local\\Temp\\__autograph_generated_file8g4_wd8_.py:10\u001b[39m, in \u001b[36mouter_factory.<locals>.inner_factory.<locals>.tf__preprocess\u001b[39m\u001b[34m(file_path)\u001b[39m\n\u001b[32m      8\u001b[39m do_return = \u001b[38;5;28;01mFalse\u001b[39;00m\n\u001b[32m      9\u001b[39m retval_ = ag__.UndefinedReturnValue()\n\u001b[32m---> \u001b[39m\u001b[32m10\u001b[39m byte_img = ag__.converted_call(ag__.ld(tf).io.read_file, (ag__.ld(file_path),), \u001b[38;5;28;01mNone\u001b[39;00m, fscope)\n\u001b[32m     11\u001b[39m img = ag__.converted_call(ag__.ld(tf).io.decode_jpeg, (ag__.ld(byte_img),), \u001b[38;5;28;01mNone\u001b[39;00m, fscope)\n\u001b[32m     12\u001b[39m img = ag__.converted_call(ag__.ld(tf).image.resize, (ag__.ld(img), (\u001b[32m100\u001b[39m, \u001b[32m100\u001b[39m)), \u001b[38;5;28;01mNone\u001b[39;00m, fscope)\n",
      "\u001b[36mFile \u001b[39m\u001b[32mc:\\Users\\ASUS\\aditya\\Lib\\site-packages\\tensorflow\\python\\autograph\\impl\\api.py:331\u001b[39m, in \u001b[36mconverted_call\u001b[39m\u001b[34m(f, args, kwargs, caller_fn_scope, options)\u001b[39m\n\u001b[32m    329\u001b[39m \u001b[38;5;28;01mif\u001b[39;00m conversion.is_in_allowlist_cache(f, options):\n\u001b[32m    330\u001b[39m   logging.log(\u001b[32m2\u001b[39m, \u001b[33m'\u001b[39m\u001b[33mAllowlisted \u001b[39m\u001b[38;5;132;01m%s\u001b[39;00m\u001b[33m: from cache\u001b[39m\u001b[33m'\u001b[39m, f)\n\u001b[32m--> \u001b[39m\u001b[32m331\u001b[39m   \u001b[38;5;28;01mreturn\u001b[39;00m _call_unconverted(f, args, kwargs, options, \u001b[38;5;28;01mFalse\u001b[39;00m)\n\u001b[32m    333\u001b[39m \u001b[38;5;28;01mif\u001b[39;00m ag_ctx.control_status_ctx().status == ag_ctx.Status.DISABLED:\n\u001b[32m    334\u001b[39m   logging.log(\u001b[32m2\u001b[39m, \u001b[33m'\u001b[39m\u001b[33mAllowlisted: \u001b[39m\u001b[38;5;132;01m%s\u001b[39;00m\u001b[33m: AutoGraph is disabled in context\u001b[39m\u001b[33m'\u001b[39m, f)\n",
      "\u001b[36mFile \u001b[39m\u001b[32mc:\\Users\\ASUS\\aditya\\Lib\\site-packages\\tensorflow\\python\\autograph\\impl\\api.py:460\u001b[39m, in \u001b[36m_call_unconverted\u001b[39m\u001b[34m(f, args, kwargs, options, update_cache)\u001b[39m\n\u001b[32m    458\u001b[39m \u001b[38;5;28;01mif\u001b[39;00m kwargs \u001b[38;5;129;01mis\u001b[39;00m \u001b[38;5;129;01mnot\u001b[39;00m \u001b[38;5;28;01mNone\u001b[39;00m:\n\u001b[32m    459\u001b[39m   \u001b[38;5;28;01mreturn\u001b[39;00m f(*args, **kwargs)\n\u001b[32m--> \u001b[39m\u001b[32m460\u001b[39m \u001b[38;5;28;01mreturn\u001b[39;00m f(*args)\n",
      "\u001b[36mFile \u001b[39m\u001b[32mc:\\Users\\ASUS\\aditya\\Lib\\site-packages\\tensorflow\\python\\ops\\io_ops.py:134\u001b[39m, in \u001b[36mread_file\u001b[39m\u001b[34m(filename, name)\u001b[39m\n\u001b[32m     97\u001b[39m \u001b[38;5;129m@tf_export\u001b[39m(\u001b[33m\"\u001b[39m\u001b[33mio.read_file\u001b[39m\u001b[33m\"\u001b[39m, v1=[\u001b[33m\"\u001b[39m\u001b[33mio.read_file\u001b[39m\u001b[33m\"\u001b[39m, \u001b[33m\"\u001b[39m\u001b[33mread_file\u001b[39m\u001b[33m\"\u001b[39m])\n\u001b[32m     98\u001b[39m \u001b[38;5;28;01mdef\u001b[39;00m\u001b[38;5;250m \u001b[39m\u001b[34mread_file\u001b[39m(filename, name=\u001b[38;5;28;01mNone\u001b[39;00m):\n\u001b[32m     99\u001b[39m \u001b[38;5;250m  \u001b[39m\u001b[33;03m\"\"\"Reads the contents of file.\u001b[39;00m\n\u001b[32m    100\u001b[39m \n\u001b[32m    101\u001b[39m \u001b[33;03m  This operation returns a tensor with the entire contents of the input\u001b[39;00m\n\u001b[32m   (...)\u001b[39m\u001b[32m    132\u001b[39m \u001b[33;03m    A tensor of dtype \"string\", with the file contents.\u001b[39;00m\n\u001b[32m    133\u001b[39m \u001b[33;03m  \"\"\"\u001b[39;00m\n\u001b[32m--> \u001b[39m\u001b[32m134\u001b[39m   \u001b[38;5;28;01mreturn\u001b[39;00m gen_io_ops.read_file(filename, name)\n",
      "\u001b[36mFile \u001b[39m\u001b[32mc:\\Users\\ASUS\\aditya\\Lib\\site-packages\\tensorflow\\python\\ops\\gen_io_ops.py:588\u001b[39m, in \u001b[36mread_file\u001b[39m\u001b[34m(filename, name)\u001b[39m\n\u001b[32m    586\u001b[39m     \u001b[38;5;28;01mpass\u001b[39;00m  \u001b[38;5;66;03m# Add nodes to the TensorFlow graph.\u001b[39;00m\n\u001b[32m    587\u001b[39m \u001b[38;5;66;03m# Add nodes to the TensorFlow graph.\u001b[39;00m\n\u001b[32m--> \u001b[39m\u001b[32m588\u001b[39m _, _, _op, _outputs = _op_def_library._apply_op_helper(\n\u001b[32m    589\u001b[39m       \u001b[33m\"\u001b[39m\u001b[33mReadFile\u001b[39m\u001b[33m\"\u001b[39m, filename=filename, name=name)\n\u001b[32m    590\u001b[39m _result = _outputs[:]\n\u001b[32m    591\u001b[39m \u001b[38;5;28;01mif\u001b[39;00m _execute.must_record_gradient():\n",
      "\u001b[36mFile \u001b[39m\u001b[32mc:\\Users\\ASUS\\aditya\\Lib\\site-packages\\tensorflow\\python\\framework\\op_def_library.py:778\u001b[39m, in \u001b[36m_apply_op_helper\u001b[39m\u001b[34m(op_type_name, name, **keywords)\u001b[39m\n\u001b[32m    776\u001b[39m \u001b[38;5;28;01mwith\u001b[39;00m g.as_default(), ops.name_scope(name) \u001b[38;5;28;01mas\u001b[39;00m scope:\n\u001b[32m    777\u001b[39m   \u001b[38;5;28;01mif\u001b[39;00m fallback:\n\u001b[32m--> \u001b[39m\u001b[32m778\u001b[39m     _ExtractInputsAndAttrs(op_type_name, op_def, allowed_list_attr_map,\n\u001b[32m    779\u001b[39m                            keywords, default_type_attr_map, attrs, inputs,\n\u001b[32m    780\u001b[39m                            input_types)\n\u001b[32m    781\u001b[39m     _ExtractRemainingAttrs(op_type_name, op_def, keywords,\n\u001b[32m    782\u001b[39m                            default_type_attr_map, attrs)\n\u001b[32m    783\u001b[39m     _ExtractAttrProto(op_type_name, op_def, attrs, attr_protos)\n",
      "\u001b[36mFile \u001b[39m\u001b[32mc:\\Users\\ASUS\\aditya\\Lib\\site-packages\\tensorflow\\python\\framework\\op_def_library.py:578\u001b[39m, in \u001b[36m_ExtractInputsAndAttrs\u001b[39m\u001b[34m(op_type_name, op_def, allowed_list_attr_map, keywords, default_type_attr_map, attrs, inputs, input_types)\u001b[39m\n\u001b[32m    575\u001b[39m prefix = (\u001b[33m\"\u001b[39m\u001b[33mInput \u001b[39m\u001b[33m'\u001b[39m\u001b[38;5;132;01m%s\u001b[39;00m\u001b[33m'\u001b[39m\u001b[33m of \u001b[39m\u001b[33m'\u001b[39m\u001b[38;5;132;01m%s\u001b[39;00m\u001b[33m'\u001b[39m\u001b[33m Op has type \u001b[39m\u001b[38;5;132;01m%s\u001b[39;00m\u001b[33m that does not match\u001b[39m\u001b[33m\"\u001b[39m %\n\u001b[32m    576\u001b[39m           (input_name, op_type_name, observed))\n\u001b[32m    577\u001b[39m \u001b[38;5;28;01mif\u001b[39;00m input_arg.type != types_pb2.DT_INVALID:\n\u001b[32m--> \u001b[39m\u001b[32m578\u001b[39m   \u001b[38;5;28;01mraise\u001b[39;00m \u001b[38;5;167;01mTypeError\u001b[39;00m(\u001b[33mf\u001b[39m\u001b[33m\"\u001b[39m\u001b[38;5;132;01m{\u001b[39;00mprefix\u001b[38;5;132;01m}\u001b[39;00m\u001b[33m expected type of \u001b[39m\u001b[33m\"\u001b[39m\n\u001b[32m    579\u001b[39m                   \u001b[33mf\u001b[39m\u001b[33m\"\u001b[39m\u001b[38;5;132;01m{\u001b[39;00mdtypes.as_dtype(input_arg.type).name\u001b[38;5;132;01m}\u001b[39;00m\u001b[33m.\u001b[39m\u001b[33m\"\u001b[39m)\n\u001b[32m    580\u001b[39m \u001b[38;5;28;01melse\u001b[39;00m:\n\u001b[32m    581\u001b[39m   \u001b[38;5;66;03m# Update the maps with the default, if needed.\u001b[39;00m\n\u001b[32m    582\u001b[39m   k = input_arg.type_attr\n",
      "\u001b[31mTypeError\u001b[39m: in user code:\n\n    File \"C:\\Users\\ASUS\\AppData\\Local\\Temp\\ipykernel_14216\\222247085.py\", line 9, in preprocess  *\n        byte_img = tf.io.read_file(file_path)\n\n    TypeError: Input 'filename' of 'ReadFile' Op has type float32 that does not match expected type of string.\n"
     ]
    }
   ],
   "source": [
    "dataset = anchor.map(preprocess)\n"
   ]
  },
  {
   "cell_type": "code",
   "execution_count": null,
   "metadata": {},
   "outputs": [
    {
     "ename": "TypeError",
     "evalue": "in user code:\n\n    File \"C:\\Users\\ASUS\\AppData\\Local\\Temp\\ipykernel_20596\\222247085.py\", line 9, in preprocess  *\n        byte_img = tf.io.read_file(file_path)\n\n    TypeError: Input 'filename' of 'ReadFile' Op has type float32 that does not match expected type of string.\n",
     "output_type": "error",
     "traceback": [
      "\u001b[31m---------------------------------------------------------------------------\u001b[39m",
      "\u001b[31mTypeError\u001b[39m                                 Traceback (most recent call last)",
      "\u001b[36mCell\u001b[39m\u001b[36m \u001b[39m\u001b[32mIn[105]\u001b[39m\u001b[32m, line 1\u001b[39m\n\u001b[32m----> \u001b[39m\u001b[32m1\u001b[39m \u001b[43mdataset\u001b[49m\u001b[43m.\u001b[49m\u001b[43mmap\u001b[49m\u001b[43m(\u001b[49m\u001b[43mpreprocess\u001b[49m\u001b[43m)\u001b[49m\n",
      "\u001b[36mFile \u001b[39m\u001b[32mc:\\Users\\ASUS\\venv\\Lib\\site-packages\\tensorflow\\python\\data\\ops\\dataset_ops.py:2341\u001b[39m, in \u001b[36mDatasetV2.map\u001b[39m\u001b[34m(self, map_func, num_parallel_calls, deterministic, synchronous, use_unbounded_threadpool, name)\u001b[39m\n\u001b[32m   2336\u001b[39m \u001b[38;5;66;03m# Loaded lazily due to a circular dependency (dataset_ops -> map_op ->\u001b[39;00m\n\u001b[32m   2337\u001b[39m \u001b[38;5;66;03m# dataset_ops).\u001b[39;00m\n\u001b[32m   2338\u001b[39m \u001b[38;5;66;03m# pylint: disable=g-import-not-at-top,protected-access\u001b[39;00m\n\u001b[32m   2339\u001b[39m \u001b[38;5;28;01mfrom\u001b[39;00m\u001b[38;5;250m \u001b[39m\u001b[34;01mtensorflow\u001b[39;00m\u001b[34;01m.\u001b[39;00m\u001b[34;01mpython\u001b[39;00m\u001b[34;01m.\u001b[39;00m\u001b[34;01mdata\u001b[39;00m\u001b[34;01m.\u001b[39;00m\u001b[34;01mops\u001b[39;00m\u001b[38;5;250m \u001b[39m\u001b[38;5;28;01mimport\u001b[39;00m map_op\n\u001b[32m-> \u001b[39m\u001b[32m2341\u001b[39m \u001b[38;5;28;01mreturn\u001b[39;00m \u001b[43mmap_op\u001b[49m\u001b[43m.\u001b[49m\u001b[43m_map_v2\u001b[49m\u001b[43m(\u001b[49m\n\u001b[32m   2342\u001b[39m \u001b[43m    \u001b[49m\u001b[38;5;28;43mself\u001b[39;49m\u001b[43m,\u001b[49m\n\u001b[32m   2343\u001b[39m \u001b[43m    \u001b[49m\u001b[43mmap_func\u001b[49m\u001b[43m,\u001b[49m\n\u001b[32m   2344\u001b[39m \u001b[43m    \u001b[49m\u001b[43mnum_parallel_calls\u001b[49m\u001b[43m=\u001b[49m\u001b[43mnum_parallel_calls\u001b[49m\u001b[43m,\u001b[49m\n\u001b[32m   2345\u001b[39m \u001b[43m    \u001b[49m\u001b[43mdeterministic\u001b[49m\u001b[43m=\u001b[49m\u001b[43mdeterministic\u001b[49m\u001b[43m,\u001b[49m\n\u001b[32m   2346\u001b[39m \u001b[43m    \u001b[49m\u001b[43msynchronous\u001b[49m\u001b[43m=\u001b[49m\u001b[43msynchronous\u001b[49m\u001b[43m,\u001b[49m\n\u001b[32m   2347\u001b[39m \u001b[43m    \u001b[49m\u001b[43muse_unbounded_threadpool\u001b[49m\u001b[43m=\u001b[49m\u001b[43muse_unbounded_threadpool\u001b[49m\u001b[43m,\u001b[49m\n\u001b[32m   2348\u001b[39m \u001b[43m    \u001b[49m\u001b[43mname\u001b[49m\u001b[43m=\u001b[49m\u001b[43mname\u001b[49m\u001b[43m,\u001b[49m\n\u001b[32m   2349\u001b[39m \u001b[43m\u001b[49m\u001b[43m)\u001b[49m\n",
      "\u001b[36mFile \u001b[39m\u001b[32mc:\\Users\\ASUS\\venv\\Lib\\site-packages\\tensorflow\\python\\data\\ops\\map_op.py:43\u001b[39m, in \u001b[36m_map_v2\u001b[39m\u001b[34m(input_dataset, map_func, num_parallel_calls, deterministic, synchronous, use_unbounded_threadpool, name)\u001b[39m\n\u001b[32m     38\u001b[39m   \u001b[38;5;28;01mif\u001b[39;00m deterministic \u001b[38;5;129;01mis\u001b[39;00m \u001b[38;5;129;01mnot\u001b[39;00m \u001b[38;5;28;01mNone\u001b[39;00m \u001b[38;5;129;01mand\u001b[39;00m \u001b[38;5;129;01mnot\u001b[39;00m debug_mode.DEBUG_MODE:\n\u001b[32m     39\u001b[39m     warnings.warn(\n\u001b[32m     40\u001b[39m         \u001b[33m\"\u001b[39m\u001b[33mThe `deterministic` argument has no effect unless the \u001b[39m\u001b[33m\"\u001b[39m\n\u001b[32m     41\u001b[39m         \u001b[33m\"\u001b[39m\u001b[33m`num_parallel_calls` argument is specified.\u001b[39m\u001b[33m\"\u001b[39m\n\u001b[32m     42\u001b[39m     )\n\u001b[32m---> \u001b[39m\u001b[32m43\u001b[39m   \u001b[38;5;28;01mreturn\u001b[39;00m \u001b[43m_MapDataset\u001b[49m\u001b[43m(\u001b[49m\n\u001b[32m     44\u001b[39m \u001b[43m      \u001b[49m\u001b[43minput_dataset\u001b[49m\u001b[43m,\u001b[49m\n\u001b[32m     45\u001b[39m \u001b[43m      \u001b[49m\u001b[43mmap_func\u001b[49m\u001b[43m,\u001b[49m\n\u001b[32m     46\u001b[39m \u001b[43m      \u001b[49m\u001b[43mpreserve_cardinality\u001b[49m\u001b[43m=\u001b[49m\u001b[38;5;28;43;01mTrue\u001b[39;49;00m\u001b[43m,\u001b[49m\n\u001b[32m     47\u001b[39m \u001b[43m      \u001b[49m\u001b[43mforce_synchronous\u001b[49m\u001b[43m=\u001b[49m\u001b[38;5;28;43;01mFalse\u001b[39;49;00m\u001b[43m \u001b[49m\u001b[38;5;28;43;01mif\u001b[39;49;00m\u001b[43m \u001b[49m\u001b[43msynchronous\u001b[49m\u001b[43m \u001b[49m\u001b[38;5;129;43;01mis\u001b[39;49;00m\u001b[43m \u001b[49m\u001b[38;5;28;43;01mNone\u001b[39;49;00m\u001b[43m \u001b[49m\u001b[38;5;28;43;01melse\u001b[39;49;00m\u001b[43m \u001b[49m\u001b[43msynchronous\u001b[49m\u001b[43m,\u001b[49m\n\u001b[32m     48\u001b[39m \u001b[43m      \u001b[49m\u001b[43mname\u001b[49m\u001b[43m=\u001b[49m\u001b[43mname\u001b[49m\u001b[43m,\u001b[49m\n\u001b[32m     49\u001b[39m \u001b[43m  \u001b[49m\u001b[43m)\u001b[49m\n\u001b[32m     50\u001b[39m \u001b[38;5;28;01melse\u001b[39;00m:\n\u001b[32m     51\u001b[39m   \u001b[38;5;28;01mif\u001b[39;00m synchronous:\n",
      "\u001b[36mFile \u001b[39m\u001b[32mc:\\Users\\ASUS\\venv\\Lib\\site-packages\\tensorflow\\python\\data\\ops\\map_op.py:157\u001b[39m, in \u001b[36m_MapDataset.__init__\u001b[39m\u001b[34m(self, input_dataset, map_func, force_synchronous, use_inter_op_parallelism, preserve_cardinality, use_legacy_function, name)\u001b[39m\n\u001b[32m    155\u001b[39m \u001b[38;5;28mself\u001b[39m._use_inter_op_parallelism = use_inter_op_parallelism\n\u001b[32m    156\u001b[39m \u001b[38;5;28mself\u001b[39m._preserve_cardinality = preserve_cardinality\n\u001b[32m--> \u001b[39m\u001b[32m157\u001b[39m \u001b[38;5;28mself\u001b[39m._map_func = \u001b[43mstructured_function\u001b[49m\u001b[43m.\u001b[49m\u001b[43mStructuredFunctionWrapper\u001b[49m\u001b[43m(\u001b[49m\n\u001b[32m    158\u001b[39m \u001b[43m    \u001b[49m\u001b[43mmap_func\u001b[49m\u001b[43m,\u001b[49m\n\u001b[32m    159\u001b[39m \u001b[43m    \u001b[49m\u001b[38;5;28;43mself\u001b[39;49m\u001b[43m.\u001b[49m\u001b[43m_transformation_name\u001b[49m\u001b[43m(\u001b[49m\u001b[43m)\u001b[49m\u001b[43m,\u001b[49m\n\u001b[32m    160\u001b[39m \u001b[43m    \u001b[49m\u001b[43mdataset\u001b[49m\u001b[43m=\u001b[49m\u001b[43minput_dataset\u001b[49m\u001b[43m,\u001b[49m\n\u001b[32m    161\u001b[39m \u001b[43m    \u001b[49m\u001b[43muse_legacy_function\u001b[49m\u001b[43m=\u001b[49m\u001b[43muse_legacy_function\u001b[49m\u001b[43m)\u001b[49m\n\u001b[32m    162\u001b[39m \u001b[38;5;28mself\u001b[39m._force_synchronous = force_synchronous\n\u001b[32m    163\u001b[39m \u001b[38;5;28mself\u001b[39m._name = name\n",
      "\u001b[36mFile \u001b[39m\u001b[32mc:\\Users\\ASUS\\venv\\Lib\\site-packages\\tensorflow\\python\\data\\ops\\structured_function.py:265\u001b[39m, in \u001b[36mStructuredFunctionWrapper.__init__\u001b[39m\u001b[34m(self, func, transformation_name, dataset, input_classes, input_shapes, input_types, input_structure, add_to_graph, use_legacy_function, defun_kwargs)\u001b[39m\n\u001b[32m    258\u001b[39m       warnings.warn(\n\u001b[32m    259\u001b[39m           \u001b[33m\"\u001b[39m\u001b[33mEven though the `tf.config.experimental_run_functions_eagerly` \u001b[39m\u001b[33m\"\u001b[39m\n\u001b[32m    260\u001b[39m           \u001b[33m\"\u001b[39m\u001b[33moption is set, this option does not apply to tf.data functions. \u001b[39m\u001b[33m\"\u001b[39m\n\u001b[32m    261\u001b[39m           \u001b[33m\"\u001b[39m\u001b[33mTo force eager execution of tf.data functions, please use \u001b[39m\u001b[33m\"\u001b[39m\n\u001b[32m    262\u001b[39m           \u001b[33m\"\u001b[39m\u001b[33m`tf.data.experimental.enable_debug_mode()`.\u001b[39m\u001b[33m\"\u001b[39m)\n\u001b[32m    263\u001b[39m     fn_factory = trace_tf_function(defun_kwargs)\n\u001b[32m--> \u001b[39m\u001b[32m265\u001b[39m \u001b[38;5;28mself\u001b[39m._function = \u001b[43mfn_factory\u001b[49m\u001b[43m(\u001b[49m\u001b[43m)\u001b[49m\n\u001b[32m    266\u001b[39m \u001b[38;5;66;03m# There is no graph to add in eager mode.\u001b[39;00m\n\u001b[32m    267\u001b[39m add_to_graph &= \u001b[38;5;129;01mnot\u001b[39;00m context.executing_eagerly()\n",
      "\u001b[36mFile \u001b[39m\u001b[32mc:\\Users\\ASUS\\venv\\Lib\\site-packages\\tensorflow\\python\\eager\\polymorphic_function\\polymorphic_function.py:1256\u001b[39m, in \u001b[36mFunction.get_concrete_function\u001b[39m\u001b[34m(self, *args, **kwargs)\u001b[39m\n\u001b[32m   1254\u001b[39m \u001b[38;5;28;01mdef\u001b[39;00m\u001b[38;5;250m \u001b[39m\u001b[34mget_concrete_function\u001b[39m(\u001b[38;5;28mself\u001b[39m, *args, **kwargs):\n\u001b[32m   1255\u001b[39m   \u001b[38;5;66;03m# Implements PolymorphicFunction.get_concrete_function.\u001b[39;00m\n\u001b[32m-> \u001b[39m\u001b[32m1256\u001b[39m   concrete = \u001b[38;5;28;43mself\u001b[39;49m\u001b[43m.\u001b[49m\u001b[43m_get_concrete_function_garbage_collected\u001b[49m\u001b[43m(\u001b[49m\u001b[43m*\u001b[49m\u001b[43margs\u001b[49m\u001b[43m,\u001b[49m\u001b[43m \u001b[49m\u001b[43m*\u001b[49m\u001b[43m*\u001b[49m\u001b[43mkwargs\u001b[49m\u001b[43m)\u001b[49m\n\u001b[32m   1257\u001b[39m   concrete._garbage_collector.release()  \u001b[38;5;66;03m# pylint: disable=protected-access\u001b[39;00m\n\u001b[32m   1258\u001b[39m   \u001b[38;5;28;01mreturn\u001b[39;00m concrete\n",
      "\u001b[36mFile \u001b[39m\u001b[32mc:\\Users\\ASUS\\venv\\Lib\\site-packages\\tensorflow\\python\\eager\\polymorphic_function\\polymorphic_function.py:1226\u001b[39m, in \u001b[36mFunction._get_concrete_function_garbage_collected\u001b[39m\u001b[34m(self, *args, **kwargs)\u001b[39m\n\u001b[32m   1224\u001b[39m   \u001b[38;5;28;01mif\u001b[39;00m \u001b[38;5;28mself\u001b[39m._variable_creation_config \u001b[38;5;129;01mis\u001b[39;00m \u001b[38;5;28;01mNone\u001b[39;00m:\n\u001b[32m   1225\u001b[39m     initializers = []\n\u001b[32m-> \u001b[39m\u001b[32m1226\u001b[39m     \u001b[38;5;28;43mself\u001b[39;49m\u001b[43m.\u001b[49m\u001b[43m_initialize\u001b[49m\u001b[43m(\u001b[49m\u001b[43margs\u001b[49m\u001b[43m,\u001b[49m\u001b[43m \u001b[49m\u001b[43mkwargs\u001b[49m\u001b[43m,\u001b[49m\u001b[43m \u001b[49m\u001b[43madd_initializers_to\u001b[49m\u001b[43m=\u001b[49m\u001b[43minitializers\u001b[49m\u001b[43m)\u001b[49m\n\u001b[32m   1227\u001b[39m     \u001b[38;5;28mself\u001b[39m._initialize_uninitialized_variables(initializers)\n\u001b[32m   1229\u001b[39m \u001b[38;5;28;01mif\u001b[39;00m \u001b[38;5;28mself\u001b[39m._created_variables:\n\u001b[32m   1230\u001b[39m   \u001b[38;5;66;03m# In this case we have created variables on the first call, so we run the\u001b[39;00m\n\u001b[32m   1231\u001b[39m   \u001b[38;5;66;03m# version which is guaranteed to never create variables.\u001b[39;00m\n",
      "\u001b[36mFile \u001b[39m\u001b[32mc:\\Users\\ASUS\\venv\\Lib\\site-packages\\tensorflow\\python\\eager\\polymorphic_function\\polymorphic_function.py:696\u001b[39m, in \u001b[36mFunction._initialize\u001b[39m\u001b[34m(self, args, kwds, add_initializers_to)\u001b[39m\n\u001b[32m    691\u001b[39m \u001b[38;5;28mself\u001b[39m._variable_creation_config = \u001b[38;5;28mself\u001b[39m._generate_scoped_tracing_options(\n\u001b[32m    692\u001b[39m     variable_capturing_scope,\n\u001b[32m    693\u001b[39m     tracing_compilation.ScopeType.VARIABLE_CREATION,\n\u001b[32m    694\u001b[39m )\n\u001b[32m    695\u001b[39m \u001b[38;5;66;03m# Force the definition of the function for these arguments\u001b[39;00m\n\u001b[32m--> \u001b[39m\u001b[32m696\u001b[39m \u001b[38;5;28mself\u001b[39m._concrete_variable_creation_fn = \u001b[43mtracing_compilation\u001b[49m\u001b[43m.\u001b[49m\u001b[43mtrace_function\u001b[49m\u001b[43m(\u001b[49m\n\u001b[32m    697\u001b[39m \u001b[43m    \u001b[49m\u001b[43margs\u001b[49m\u001b[43m,\u001b[49m\u001b[43m \u001b[49m\u001b[43mkwds\u001b[49m\u001b[43m,\u001b[49m\u001b[43m \u001b[49m\u001b[38;5;28;43mself\u001b[39;49m\u001b[43m.\u001b[49m\u001b[43m_variable_creation_config\u001b[49m\n\u001b[32m    698\u001b[39m \u001b[43m\u001b[49m\u001b[43m)\u001b[49m\n\u001b[32m    700\u001b[39m \u001b[38;5;28;01mdef\u001b[39;00m\u001b[38;5;250m \u001b[39m\u001b[34minvalid_creator_scope\u001b[39m(*unused_args, **unused_kwds):\n\u001b[32m    701\u001b[39m \u001b[38;5;250m  \u001b[39m\u001b[33;03m\"\"\"Disables variable creation.\"\"\"\u001b[39;00m\n",
      "\u001b[36mFile \u001b[39m\u001b[32mc:\\Users\\ASUS\\venv\\Lib\\site-packages\\tensorflow\\python\\eager\\polymorphic_function\\tracing_compilation.py:178\u001b[39m, in \u001b[36mtrace_function\u001b[39m\u001b[34m(args, kwargs, tracing_options)\u001b[39m\n\u001b[32m    175\u001b[39m     args = tracing_options.input_signature\n\u001b[32m    176\u001b[39m     kwargs = {}\n\u001b[32m--> \u001b[39m\u001b[32m178\u001b[39m   concrete_function = \u001b[43m_maybe_define_function\u001b[49m\u001b[43m(\u001b[49m\n\u001b[32m    179\u001b[39m \u001b[43m      \u001b[49m\u001b[43margs\u001b[49m\u001b[43m,\u001b[49m\u001b[43m \u001b[49m\u001b[43mkwargs\u001b[49m\u001b[43m,\u001b[49m\u001b[43m \u001b[49m\u001b[43mtracing_options\u001b[49m\n\u001b[32m    180\u001b[39m \u001b[43m  \u001b[49m\u001b[43m)\u001b[49m\n\u001b[32m    182\u001b[39m \u001b[38;5;28;01mif\u001b[39;00m \u001b[38;5;129;01mnot\u001b[39;00m tracing_options.bind_graph_to_function:\n\u001b[32m    183\u001b[39m   concrete_function._garbage_collector.release()  \u001b[38;5;66;03m# pylint: disable=protected-access\u001b[39;00m\n",
      "\u001b[36mFile \u001b[39m\u001b[32mc:\\Users\\ASUS\\venv\\Lib\\site-packages\\tensorflow\\python\\eager\\polymorphic_function\\tracing_compilation.py:283\u001b[39m, in \u001b[36m_maybe_define_function\u001b[39m\u001b[34m(args, kwargs, tracing_options)\u001b[39m\n\u001b[32m    281\u001b[39m \u001b[38;5;28;01melse\u001b[39;00m:\n\u001b[32m    282\u001b[39m   target_func_type = lookup_func_type\n\u001b[32m--> \u001b[39m\u001b[32m283\u001b[39m concrete_function = \u001b[43m_create_concrete_function\u001b[49m\u001b[43m(\u001b[49m\n\u001b[32m    284\u001b[39m \u001b[43m    \u001b[49m\u001b[43mtarget_func_type\u001b[49m\u001b[43m,\u001b[49m\u001b[43m \u001b[49m\u001b[43mlookup_func_context\u001b[49m\u001b[43m,\u001b[49m\u001b[43m \u001b[49m\u001b[43mfunc_graph\u001b[49m\u001b[43m,\u001b[49m\u001b[43m \u001b[49m\u001b[43mtracing_options\u001b[49m\n\u001b[32m    285\u001b[39m \u001b[43m\u001b[49m\u001b[43m)\u001b[49m\n\u001b[32m    287\u001b[39m \u001b[38;5;28;01mif\u001b[39;00m tracing_options.function_cache \u001b[38;5;129;01mis\u001b[39;00m \u001b[38;5;129;01mnot\u001b[39;00m \u001b[38;5;28;01mNone\u001b[39;00m:\n\u001b[32m    288\u001b[39m   tracing_options.function_cache.add(\n\u001b[32m    289\u001b[39m       concrete_function, current_func_context\n\u001b[32m    290\u001b[39m   )\n",
      "\u001b[36mFile \u001b[39m\u001b[32mc:\\Users\\ASUS\\venv\\Lib\\site-packages\\tensorflow\\python\\eager\\polymorphic_function\\tracing_compilation.py:310\u001b[39m, in \u001b[36m_create_concrete_function\u001b[39m\u001b[34m(function_type, type_context, func_graph, tracing_options)\u001b[39m\n\u001b[32m    303\u001b[39m   placeholder_bound_args = function_type.placeholder_arguments(\n\u001b[32m    304\u001b[39m       placeholder_context\n\u001b[32m    305\u001b[39m   )\n\u001b[32m    307\u001b[39m disable_acd = tracing_options.attributes \u001b[38;5;129;01mand\u001b[39;00m tracing_options.attributes.get(\n\u001b[32m    308\u001b[39m     attributes_lib.DISABLE_ACD, \u001b[38;5;28;01mFalse\u001b[39;00m\n\u001b[32m    309\u001b[39m )\n\u001b[32m--> \u001b[39m\u001b[32m310\u001b[39m traced_func_graph = \u001b[43mfunc_graph_module\u001b[49m\u001b[43m.\u001b[49m\u001b[43mfunc_graph_from_py_func\u001b[49m\u001b[43m(\u001b[49m\n\u001b[32m    311\u001b[39m \u001b[43m    \u001b[49m\u001b[43mtracing_options\u001b[49m\u001b[43m.\u001b[49m\u001b[43mname\u001b[49m\u001b[43m,\u001b[49m\n\u001b[32m    312\u001b[39m \u001b[43m    \u001b[49m\u001b[43mtracing_options\u001b[49m\u001b[43m.\u001b[49m\u001b[43mpython_function\u001b[49m\u001b[43m,\u001b[49m\n\u001b[32m    313\u001b[39m \u001b[43m    \u001b[49m\u001b[43mplaceholder_bound_args\u001b[49m\u001b[43m.\u001b[49m\u001b[43margs\u001b[49m\u001b[43m,\u001b[49m\n\u001b[32m    314\u001b[39m \u001b[43m    \u001b[49m\u001b[43mplaceholder_bound_args\u001b[49m\u001b[43m.\u001b[49m\u001b[43mkwargs\u001b[49m\u001b[43m,\u001b[49m\n\u001b[32m    315\u001b[39m \u001b[43m    \u001b[49m\u001b[38;5;28;43;01mNone\u001b[39;49;00m\u001b[43m,\u001b[49m\n\u001b[32m    316\u001b[39m \u001b[43m    \u001b[49m\u001b[43mfunc_graph\u001b[49m\u001b[43m=\u001b[49m\u001b[43mfunc_graph\u001b[49m\u001b[43m,\u001b[49m\n\u001b[32m    317\u001b[39m \u001b[43m    \u001b[49m\u001b[43madd_control_dependencies\u001b[49m\u001b[43m=\u001b[49m\u001b[38;5;129;43;01mnot\u001b[39;49;00m\u001b[43m \u001b[49m\u001b[43mdisable_acd\u001b[49m\u001b[43m,\u001b[49m\n\u001b[32m    318\u001b[39m \u001b[43m    \u001b[49m\u001b[43marg_names\u001b[49m\u001b[43m=\u001b[49m\u001b[43mfunction_type_utils\u001b[49m\u001b[43m.\u001b[49m\u001b[43mto_arg_names\u001b[49m\u001b[43m(\u001b[49m\u001b[43mfunction_type\u001b[49m\u001b[43m)\u001b[49m\u001b[43m,\u001b[49m\n\u001b[32m    319\u001b[39m \u001b[43m    \u001b[49m\u001b[43mcreate_placeholders\u001b[49m\u001b[43m=\u001b[49m\u001b[38;5;28;43;01mFalse\u001b[39;49;00m\u001b[43m,\u001b[49m\n\u001b[32m    320\u001b[39m \u001b[43m\u001b[49m\u001b[43m)\u001b[49m\n\u001b[32m    322\u001b[39m transform.apply_func_graph_transforms(traced_func_graph)\n\u001b[32m    324\u001b[39m graph_capture_container = traced_func_graph.function_captures\n",
      "\u001b[36mFile \u001b[39m\u001b[32mc:\\Users\\ASUS\\venv\\Lib\\site-packages\\tensorflow\\python\\framework\\func_graph.py:1060\u001b[39m, in \u001b[36mfunc_graph_from_py_func\u001b[39m\u001b[34m(name, python_func, args, kwargs, signature, func_graph, add_control_dependencies, arg_names, op_return_value, collections, capture_by_value, create_placeholders)\u001b[39m\n\u001b[32m   1057\u001b[39m   \u001b[38;5;28;01mreturn\u001b[39;00m x\n\u001b[32m   1059\u001b[39m _, original_func = tf_decorator.unwrap(python_func)\n\u001b[32m-> \u001b[39m\u001b[32m1060\u001b[39m func_outputs = \u001b[43mpython_func\u001b[49m\u001b[43m(\u001b[49m\u001b[43m*\u001b[49m\u001b[43mfunc_args\u001b[49m\u001b[43m,\u001b[49m\u001b[43m \u001b[49m\u001b[43m*\u001b[49m\u001b[43m*\u001b[49m\u001b[43mfunc_kwargs\u001b[49m\u001b[43m)\u001b[49m\n\u001b[32m   1062\u001b[39m \u001b[38;5;66;03m# invariant: `func_outputs` contains only Tensors, CompositeTensors,\u001b[39;00m\n\u001b[32m   1063\u001b[39m \u001b[38;5;66;03m# TensorArrays and `None`s.\u001b[39;00m\n\u001b[32m   1064\u001b[39m func_outputs = variable_utils.convert_variables_to_tensors(func_outputs)\n",
      "\u001b[36mFile \u001b[39m\u001b[32mc:\\Users\\ASUS\\venv\\Lib\\site-packages\\tensorflow\\python\\eager\\polymorphic_function\\polymorphic_function.py:599\u001b[39m, in \u001b[36mFunction._generate_scoped_tracing_options.<locals>.wrapped_fn\u001b[39m\u001b[34m(*args, **kwds)\u001b[39m\n\u001b[32m    595\u001b[39m \u001b[38;5;28;01mwith\u001b[39;00m default_graph._variable_creator_scope(scope, priority=\u001b[32m50\u001b[39m):  \u001b[38;5;66;03m# pylint: disable=protected-access\u001b[39;00m\n\u001b[32m    596\u001b[39m   \u001b[38;5;66;03m# __wrapped__ allows AutoGraph to swap in a converted function. We give\u001b[39;00m\n\u001b[32m    597\u001b[39m   \u001b[38;5;66;03m# the function a weak reference to itself to avoid a reference cycle.\u001b[39;00m\n\u001b[32m    598\u001b[39m   \u001b[38;5;28;01mwith\u001b[39;00m OptionalXlaContext(compile_with_xla):\n\u001b[32m--> \u001b[39m\u001b[32m599\u001b[39m     out = \u001b[43mweak_wrapped_fn\u001b[49m\u001b[43m(\u001b[49m\u001b[43m)\u001b[49m\u001b[43m.\u001b[49m\u001b[43m__wrapped__\u001b[49m\u001b[43m(\u001b[49m\u001b[43m*\u001b[49m\u001b[43margs\u001b[49m\u001b[43m,\u001b[49m\u001b[43m \u001b[49m\u001b[43m*\u001b[49m\u001b[43m*\u001b[49m\u001b[43mkwds\u001b[49m\u001b[43m)\u001b[49m\n\u001b[32m    600\u001b[39m   \u001b[38;5;28;01mreturn\u001b[39;00m out\n",
      "\u001b[36mFile \u001b[39m\u001b[32mc:\\Users\\ASUS\\venv\\Lib\\site-packages\\tensorflow\\python\\data\\ops\\structured_function.py:231\u001b[39m, in \u001b[36mStructuredFunctionWrapper.__init__.<locals>.trace_tf_function.<locals>.wrapped_fn\u001b[39m\u001b[34m(*args)\u001b[39m\n\u001b[32m    230\u001b[39m \u001b[38;5;28;01mdef\u001b[39;00m\u001b[38;5;250m \u001b[39m\u001b[34mwrapped_fn\u001b[39m(*args):  \u001b[38;5;66;03m# pylint: disable=missing-docstring\u001b[39;00m\n\u001b[32m--> \u001b[39m\u001b[32m231\u001b[39m   ret = \u001b[43mwrapper_helper\u001b[49m\u001b[43m(\u001b[49m\u001b[43m*\u001b[49m\u001b[43margs\u001b[49m\u001b[43m)\u001b[49m\n\u001b[32m    232\u001b[39m   ret = structure.to_tensor_list(\u001b[38;5;28mself\u001b[39m._output_structure, ret)\n\u001b[32m    233\u001b[39m   \u001b[38;5;28;01mreturn\u001b[39;00m [ops.convert_to_tensor(t) \u001b[38;5;28;01mfor\u001b[39;00m t \u001b[38;5;129;01min\u001b[39;00m ret]\n",
      "\u001b[36mFile \u001b[39m\u001b[32mc:\\Users\\ASUS\\venv\\Lib\\site-packages\\tensorflow\\python\\data\\ops\\structured_function.py:161\u001b[39m, in \u001b[36mStructuredFunctionWrapper.__init__.<locals>.wrapper_helper\u001b[39m\u001b[34m(*args)\u001b[39m\n\u001b[32m    159\u001b[39m \u001b[38;5;28;01mif\u001b[39;00m \u001b[38;5;129;01mnot\u001b[39;00m _should_unpack(nested_args):\n\u001b[32m    160\u001b[39m   nested_args = (nested_args,)\n\u001b[32m--> \u001b[39m\u001b[32m161\u001b[39m ret = \u001b[43mautograph\u001b[49m\u001b[43m.\u001b[49m\u001b[43mtf_convert\u001b[49m\u001b[43m(\u001b[49m\u001b[38;5;28;43mself\u001b[39;49m\u001b[43m.\u001b[49m\u001b[43m_func\u001b[49m\u001b[43m,\u001b[49m\u001b[43m \u001b[49m\u001b[43mag_ctx\u001b[49m\u001b[43m)\u001b[49m\u001b[43m(\u001b[49m\u001b[43m*\u001b[49m\u001b[43mnested_args\u001b[49m\u001b[43m)\u001b[49m\n\u001b[32m    162\u001b[39m ret = variable_utils.convert_variables_to_tensors(ret)\n\u001b[32m    163\u001b[39m \u001b[38;5;28;01mif\u001b[39;00m _should_pack(ret):\n",
      "\u001b[36mFile \u001b[39m\u001b[32mc:\\Users\\ASUS\\venv\\Lib\\site-packages\\tensorflow\\python\\autograph\\impl\\api.py:693\u001b[39m, in \u001b[36mconvert.<locals>.decorator.<locals>.wrapper\u001b[39m\u001b[34m(*args, **kwargs)\u001b[39m\n\u001b[32m    691\u001b[39m \u001b[38;5;28;01mexcept\u001b[39;00m \u001b[38;5;167;01mException\u001b[39;00m \u001b[38;5;28;01mas\u001b[39;00m e:  \u001b[38;5;66;03m# pylint:disable=broad-except\u001b[39;00m\n\u001b[32m    692\u001b[39m   \u001b[38;5;28;01mif\u001b[39;00m \u001b[38;5;28mhasattr\u001b[39m(e, \u001b[33m'\u001b[39m\u001b[33mag_error_metadata\u001b[39m\u001b[33m'\u001b[39m):\n\u001b[32m--> \u001b[39m\u001b[32m693\u001b[39m     \u001b[38;5;28;01mraise\u001b[39;00m e.ag_error_metadata.to_exception(e)\n\u001b[32m    694\u001b[39m   \u001b[38;5;28;01melse\u001b[39;00m:\n\u001b[32m    695\u001b[39m     \u001b[38;5;28;01mraise\u001b[39;00m\n",
      "\u001b[36mFile \u001b[39m\u001b[32mc:\\Users\\ASUS\\venv\\Lib\\site-packages\\tensorflow\\python\\autograph\\impl\\api.py:690\u001b[39m, in \u001b[36mconvert.<locals>.decorator.<locals>.wrapper\u001b[39m\u001b[34m(*args, **kwargs)\u001b[39m\n\u001b[32m    688\u001b[39m \u001b[38;5;28;01mtry\u001b[39;00m:\n\u001b[32m    689\u001b[39m   \u001b[38;5;28;01mwith\u001b[39;00m conversion_ctx:\n\u001b[32m--> \u001b[39m\u001b[32m690\u001b[39m     \u001b[38;5;28;01mreturn\u001b[39;00m \u001b[43mconverted_call\u001b[49m\u001b[43m(\u001b[49m\u001b[43mf\u001b[49m\u001b[43m,\u001b[49m\u001b[43m \u001b[49m\u001b[43margs\u001b[49m\u001b[43m,\u001b[49m\u001b[43m \u001b[49m\u001b[43mkwargs\u001b[49m\u001b[43m,\u001b[49m\u001b[43m \u001b[49m\u001b[43moptions\u001b[49m\u001b[43m=\u001b[49m\u001b[43moptions\u001b[49m\u001b[43m)\u001b[49m\n\u001b[32m    691\u001b[39m \u001b[38;5;28;01mexcept\u001b[39;00m \u001b[38;5;167;01mException\u001b[39;00m \u001b[38;5;28;01mas\u001b[39;00m e:  \u001b[38;5;66;03m# pylint:disable=broad-except\u001b[39;00m\n\u001b[32m    692\u001b[39m   \u001b[38;5;28;01mif\u001b[39;00m \u001b[38;5;28mhasattr\u001b[39m(e, \u001b[33m'\u001b[39m\u001b[33mag_error_metadata\u001b[39m\u001b[33m'\u001b[39m):\n",
      "\u001b[36mFile \u001b[39m\u001b[32mc:\\Users\\ASUS\\venv\\Lib\\site-packages\\tensorflow\\python\\autograph\\impl\\api.py:439\u001b[39m, in \u001b[36mconverted_call\u001b[39m\u001b[34m(f, args, kwargs, caller_fn_scope, options)\u001b[39m\n\u001b[32m    437\u001b[39m \u001b[38;5;28;01mtry\u001b[39;00m:\n\u001b[32m    438\u001b[39m   \u001b[38;5;28;01mif\u001b[39;00m kwargs \u001b[38;5;129;01mis\u001b[39;00m \u001b[38;5;129;01mnot\u001b[39;00m \u001b[38;5;28;01mNone\u001b[39;00m:\n\u001b[32m--> \u001b[39m\u001b[32m439\u001b[39m     result = \u001b[43mconverted_f\u001b[49m\u001b[43m(\u001b[49m\u001b[43m*\u001b[49m\u001b[43meffective_args\u001b[49m\u001b[43m,\u001b[49m\u001b[43m \u001b[49m\u001b[43m*\u001b[49m\u001b[43m*\u001b[49m\u001b[43mkwargs\u001b[49m\u001b[43m)\u001b[49m\n\u001b[32m    440\u001b[39m   \u001b[38;5;28;01melse\u001b[39;00m:\n\u001b[32m    441\u001b[39m     result = converted_f(*effective_args)\n",
      "\u001b[36mFile \u001b[39m\u001b[32m~\\AppData\\Local\\Temp\\__autograph_generated_filei81ntjdj.py:10\u001b[39m, in \u001b[36mouter_factory.<locals>.inner_factory.<locals>.tf__preprocess\u001b[39m\u001b[34m(file_path)\u001b[39m\n\u001b[32m      8\u001b[39m do_return = \u001b[38;5;28;01mFalse\u001b[39;00m\n\u001b[32m      9\u001b[39m retval_ = ag__.UndefinedReturnValue()\n\u001b[32m---> \u001b[39m\u001b[32m10\u001b[39m byte_img = \u001b[43mag__\u001b[49m\u001b[43m.\u001b[49m\u001b[43mconverted_call\u001b[49m\u001b[43m(\u001b[49m\u001b[43mag__\u001b[49m\u001b[43m.\u001b[49m\u001b[43mld\u001b[49m\u001b[43m(\u001b[49m\u001b[43mtf\u001b[49m\u001b[43m)\u001b[49m\u001b[43m.\u001b[49m\u001b[43mio\u001b[49m\u001b[43m.\u001b[49m\u001b[43mread_file\u001b[49m\u001b[43m,\u001b[49m\u001b[43m \u001b[49m\u001b[43m(\u001b[49m\u001b[43mag__\u001b[49m\u001b[43m.\u001b[49m\u001b[43mld\u001b[49m\u001b[43m(\u001b[49m\u001b[43mfile_path\u001b[49m\u001b[43m)\u001b[49m\u001b[43m,\u001b[49m\u001b[43m)\u001b[49m\u001b[43m,\u001b[49m\u001b[43m \u001b[49m\u001b[38;5;28;43;01mNone\u001b[39;49;00m\u001b[43m,\u001b[49m\u001b[43m \u001b[49m\u001b[43mfscope\u001b[49m\u001b[43m)\u001b[49m\n\u001b[32m     11\u001b[39m img = ag__.converted_call(ag__.ld(tf).io.decode_jpeg, (ag__.ld(byte_img),), \u001b[38;5;28;01mNone\u001b[39;00m, fscope)\n\u001b[32m     12\u001b[39m img = ag__.converted_call(ag__.ld(tf).image.resize, (ag__.ld(img), (\u001b[32m100\u001b[39m, \u001b[32m100\u001b[39m)), \u001b[38;5;28;01mNone\u001b[39;00m, fscope)\n",
      "\u001b[36mFile \u001b[39m\u001b[32mc:\\Users\\ASUS\\venv\\Lib\\site-packages\\tensorflow\\python\\autograph\\impl\\api.py:331\u001b[39m, in \u001b[36mconverted_call\u001b[39m\u001b[34m(f, args, kwargs, caller_fn_scope, options)\u001b[39m\n\u001b[32m    329\u001b[39m \u001b[38;5;28;01mif\u001b[39;00m conversion.is_in_allowlist_cache(f, options):\n\u001b[32m    330\u001b[39m   logging.log(\u001b[32m2\u001b[39m, \u001b[33m'\u001b[39m\u001b[33mAllowlisted \u001b[39m\u001b[38;5;132;01m%s\u001b[39;00m\u001b[33m: from cache\u001b[39m\u001b[33m'\u001b[39m, f)\n\u001b[32m--> \u001b[39m\u001b[32m331\u001b[39m   \u001b[38;5;28;01mreturn\u001b[39;00m \u001b[43m_call_unconverted\u001b[49m\u001b[43m(\u001b[49m\u001b[43mf\u001b[49m\u001b[43m,\u001b[49m\u001b[43m \u001b[49m\u001b[43margs\u001b[49m\u001b[43m,\u001b[49m\u001b[43m \u001b[49m\u001b[43mkwargs\u001b[49m\u001b[43m,\u001b[49m\u001b[43m \u001b[49m\u001b[43moptions\u001b[49m\u001b[43m,\u001b[49m\u001b[43m \u001b[49m\u001b[38;5;28;43;01mFalse\u001b[39;49;00m\u001b[43m)\u001b[49m\n\u001b[32m    333\u001b[39m \u001b[38;5;28;01mif\u001b[39;00m ag_ctx.control_status_ctx().status == ag_ctx.Status.DISABLED:\n\u001b[32m    334\u001b[39m   logging.log(\u001b[32m2\u001b[39m, \u001b[33m'\u001b[39m\u001b[33mAllowlisted: \u001b[39m\u001b[38;5;132;01m%s\u001b[39;00m\u001b[33m: AutoGraph is disabled in context\u001b[39m\u001b[33m'\u001b[39m, f)\n",
      "\u001b[36mFile \u001b[39m\u001b[32mc:\\Users\\ASUS\\venv\\Lib\\site-packages\\tensorflow\\python\\autograph\\impl\\api.py:460\u001b[39m, in \u001b[36m_call_unconverted\u001b[39m\u001b[34m(f, args, kwargs, options, update_cache)\u001b[39m\n\u001b[32m    458\u001b[39m \u001b[38;5;28;01mif\u001b[39;00m kwargs \u001b[38;5;129;01mis\u001b[39;00m \u001b[38;5;129;01mnot\u001b[39;00m \u001b[38;5;28;01mNone\u001b[39;00m:\n\u001b[32m    459\u001b[39m   \u001b[38;5;28;01mreturn\u001b[39;00m f(*args, **kwargs)\n\u001b[32m--> \u001b[39m\u001b[32m460\u001b[39m \u001b[38;5;28;01mreturn\u001b[39;00m \u001b[43mf\u001b[49m\u001b[43m(\u001b[49m\u001b[43m*\u001b[49m\u001b[43margs\u001b[49m\u001b[43m)\u001b[49m\n",
      "\u001b[36mFile \u001b[39m\u001b[32mc:\\Users\\ASUS\\venv\\Lib\\site-packages\\tensorflow\\python\\ops\\io_ops.py:134\u001b[39m, in \u001b[36mread_file\u001b[39m\u001b[34m(filename, name)\u001b[39m\n\u001b[32m     97\u001b[39m \u001b[38;5;129m@tf_export\u001b[39m(\u001b[33m\"\u001b[39m\u001b[33mio.read_file\u001b[39m\u001b[33m\"\u001b[39m, v1=[\u001b[33m\"\u001b[39m\u001b[33mio.read_file\u001b[39m\u001b[33m\"\u001b[39m, \u001b[33m\"\u001b[39m\u001b[33mread_file\u001b[39m\u001b[33m\"\u001b[39m])\n\u001b[32m     98\u001b[39m \u001b[38;5;28;01mdef\u001b[39;00m\u001b[38;5;250m \u001b[39m\u001b[34mread_file\u001b[39m(filename, name=\u001b[38;5;28;01mNone\u001b[39;00m):\n\u001b[32m     99\u001b[39m \u001b[38;5;250m  \u001b[39m\u001b[33;03m\"\"\"Reads the contents of file.\u001b[39;00m\n\u001b[32m    100\u001b[39m \n\u001b[32m    101\u001b[39m \u001b[33;03m  This operation returns a tensor with the entire contents of the input\u001b[39;00m\n\u001b[32m   (...)\u001b[39m\u001b[32m    132\u001b[39m \u001b[33;03m    A tensor of dtype \"string\", with the file contents.\u001b[39;00m\n\u001b[32m    133\u001b[39m \u001b[33;03m  \"\"\"\u001b[39;00m\n\u001b[32m--> \u001b[39m\u001b[32m134\u001b[39m   \u001b[38;5;28;01mreturn\u001b[39;00m \u001b[43mgen_io_ops\u001b[49m\u001b[43m.\u001b[49m\u001b[43mread_file\u001b[49m\u001b[43m(\u001b[49m\u001b[43mfilename\u001b[49m\u001b[43m,\u001b[49m\u001b[43m \u001b[49m\u001b[43mname\u001b[49m\u001b[43m)\u001b[49m\n",
      "\u001b[36mFile \u001b[39m\u001b[32mc:\\Users\\ASUS\\venv\\Lib\\site-packages\\tensorflow\\python\\ops\\gen_io_ops.py:588\u001b[39m, in \u001b[36mread_file\u001b[39m\u001b[34m(filename, name)\u001b[39m\n\u001b[32m    586\u001b[39m     \u001b[38;5;28;01mpass\u001b[39;00m  \u001b[38;5;66;03m# Add nodes to the TensorFlow graph.\u001b[39;00m\n\u001b[32m    587\u001b[39m \u001b[38;5;66;03m# Add nodes to the TensorFlow graph.\u001b[39;00m\n\u001b[32m--> \u001b[39m\u001b[32m588\u001b[39m _, _, _op, _outputs = \u001b[43m_op_def_library\u001b[49m\u001b[43m.\u001b[49m\u001b[43m_apply_op_helper\u001b[49m\u001b[43m(\u001b[49m\n\u001b[32m    589\u001b[39m \u001b[43m      \u001b[49m\u001b[33;43m\"\u001b[39;49m\u001b[33;43mReadFile\u001b[39;49m\u001b[33;43m\"\u001b[39;49m\u001b[43m,\u001b[49m\u001b[43m \u001b[49m\u001b[43mfilename\u001b[49m\u001b[43m=\u001b[49m\u001b[43mfilename\u001b[49m\u001b[43m,\u001b[49m\u001b[43m \u001b[49m\u001b[43mname\u001b[49m\u001b[43m=\u001b[49m\u001b[43mname\u001b[49m\u001b[43m)\u001b[49m\n\u001b[32m    590\u001b[39m _result = _outputs[:]\n\u001b[32m    591\u001b[39m \u001b[38;5;28;01mif\u001b[39;00m _execute.must_record_gradient():\n",
      "\u001b[36mFile \u001b[39m\u001b[32mc:\\Users\\ASUS\\venv\\Lib\\site-packages\\tensorflow\\python\\framework\\op_def_library.py:778\u001b[39m, in \u001b[36m_apply_op_helper\u001b[39m\u001b[34m(op_type_name, name, **keywords)\u001b[39m\n\u001b[32m    776\u001b[39m \u001b[38;5;28;01mwith\u001b[39;00m g.as_default(), ops.name_scope(name) \u001b[38;5;28;01mas\u001b[39;00m scope:\n\u001b[32m    777\u001b[39m   \u001b[38;5;28;01mif\u001b[39;00m fallback:\n\u001b[32m--> \u001b[39m\u001b[32m778\u001b[39m     \u001b[43m_ExtractInputsAndAttrs\u001b[49m\u001b[43m(\u001b[49m\u001b[43mop_type_name\u001b[49m\u001b[43m,\u001b[49m\u001b[43m \u001b[49m\u001b[43mop_def\u001b[49m\u001b[43m,\u001b[49m\u001b[43m \u001b[49m\u001b[43mallowed_list_attr_map\u001b[49m\u001b[43m,\u001b[49m\n\u001b[32m    779\u001b[39m \u001b[43m                           \u001b[49m\u001b[43mkeywords\u001b[49m\u001b[43m,\u001b[49m\u001b[43m \u001b[49m\u001b[43mdefault_type_attr_map\u001b[49m\u001b[43m,\u001b[49m\u001b[43m \u001b[49m\u001b[43mattrs\u001b[49m\u001b[43m,\u001b[49m\u001b[43m \u001b[49m\u001b[43minputs\u001b[49m\u001b[43m,\u001b[49m\n\u001b[32m    780\u001b[39m \u001b[43m                           \u001b[49m\u001b[43minput_types\u001b[49m\u001b[43m)\u001b[49m\n\u001b[32m    781\u001b[39m     _ExtractRemainingAttrs(op_type_name, op_def, keywords,\n\u001b[32m    782\u001b[39m                            default_type_attr_map, attrs)\n\u001b[32m    783\u001b[39m     _ExtractAttrProto(op_type_name, op_def, attrs, attr_protos)\n",
      "\u001b[36mFile \u001b[39m\u001b[32mc:\\Users\\ASUS\\venv\\Lib\\site-packages\\tensorflow\\python\\framework\\op_def_library.py:578\u001b[39m, in \u001b[36m_ExtractInputsAndAttrs\u001b[39m\u001b[34m(op_type_name, op_def, allowed_list_attr_map, keywords, default_type_attr_map, attrs, inputs, input_types)\u001b[39m\n\u001b[32m    575\u001b[39m prefix = (\u001b[33m\"\u001b[39m\u001b[33mInput \u001b[39m\u001b[33m'\u001b[39m\u001b[38;5;132;01m%s\u001b[39;00m\u001b[33m'\u001b[39m\u001b[33m of \u001b[39m\u001b[33m'\u001b[39m\u001b[38;5;132;01m%s\u001b[39;00m\u001b[33m'\u001b[39m\u001b[33m Op has type \u001b[39m\u001b[38;5;132;01m%s\u001b[39;00m\u001b[33m that does not match\u001b[39m\u001b[33m\"\u001b[39m %\n\u001b[32m    576\u001b[39m           (input_name, op_type_name, observed))\n\u001b[32m    577\u001b[39m \u001b[38;5;28;01mif\u001b[39;00m input_arg.type != types_pb2.DT_INVALID:\n\u001b[32m--> \u001b[39m\u001b[32m578\u001b[39m   \u001b[38;5;28;01mraise\u001b[39;00m \u001b[38;5;167;01mTypeError\u001b[39;00m(\u001b[33mf\u001b[39m\u001b[33m\"\u001b[39m\u001b[38;5;132;01m{\u001b[39;00mprefix\u001b[38;5;132;01m}\u001b[39;00m\u001b[33m expected type of \u001b[39m\u001b[33m\"\u001b[39m\n\u001b[32m    579\u001b[39m                   \u001b[33mf\u001b[39m\u001b[33m\"\u001b[39m\u001b[38;5;132;01m{\u001b[39;00mdtypes.as_dtype(input_arg.type).name\u001b[38;5;132;01m}\u001b[39;00m\u001b[33m.\u001b[39m\u001b[33m\"\u001b[39m)\n\u001b[32m    580\u001b[39m \u001b[38;5;28;01melse\u001b[39;00m:\n\u001b[32m    581\u001b[39m   \u001b[38;5;66;03m# Update the maps with the default, if needed.\u001b[39;00m\n\u001b[32m    582\u001b[39m   k = input_arg.type_attr\n",
      "\u001b[31mTypeError\u001b[39m: in user code:\n\n    File \"C:\\Users\\ASUS\\AppData\\Local\\Temp\\ipykernel_20596\\222247085.py\", line 9, in preprocess  *\n        byte_img = tf.io.read_file(file_path)\n\n    TypeError: Input 'filename' of 'ReadFile' Op has type float32 that does not match expected type of string.\n"
     ]
    }
   ],
   "source": [
    "dataset.map(preprocess)"
   ]
  },
  {
   "cell_type": "markdown",
   "metadata": {},
   "source": [
    "## 3.3 Create Labelled Dataset"
   ]
  },
  {
   "cell_type": "code",
   "execution_count": null,
   "metadata": {},
   "outputs": [],
   "source": [
    "# (anchor, positive) => 1,1,1,1,1\n",
    "# (anchor, negative) => 0,0,0,0,0"
   ]
  },
  {
   "cell_type": "code",
   "execution_count": null,
   "metadata": {},
   "outputs": [],
   "source": [
    "positives = tf.data.Dataset.zip((anchor, positive, tf.data.Dataset.from_tensor_slices(tf.ones(len(anchor)))))\n",
    "negatives = tf.data.Dataset.zip((anchor, negative, tf.data.Dataset.from_tensor_slices(tf.zeros(len(anchor)))))\n",
    "data = positives.concatenate(negatives)"
   ]
  },
  {
   "cell_type": "code",
   "execution_count": null,
   "metadata": {},
   "outputs": [],
   "source": [
    "samples = data.as_numpy_iterator()"
   ]
  },
  {
   "cell_type": "code",
   "execution_count": null,
   "metadata": {},
   "outputs": [],
   "source": [
    "exampple = samples.next()"
   ]
  },
  {
   "cell_type": "code",
   "execution_count": null,
   "metadata": {},
   "outputs": [
    {
     "data": {
      "text/plain": [
       "(array([[[0.34313726, 0.34705883, 0.32352942],\n",
       "         [0.34411764, 0.3480392 , 0.32254902],\n",
       "         [0.3465686 , 0.35049018, 0.325     ],\n",
       "         ...,\n",
       "         [0.89509803, 0.89509803, 0.8872549 ],\n",
       "         [0.8980392 , 0.9009804 , 0.8843137 ],\n",
       "         [0.9019608 , 0.90588236, 0.8862745 ]],\n",
       " \n",
       "        [[0.33848038, 0.34338236, 0.32083333],\n",
       "         [0.34779412, 0.35367647, 0.32769608],\n",
       "         [0.35686275, 0.3627451 , 0.3367647 ],\n",
       "         ...,\n",
       "         [0.8963235 , 0.89730394, 0.8865196 ],\n",
       "         [0.89411765, 0.8980392 , 0.8784314 ],\n",
       "         [0.8980392 , 0.9019608 , 0.88235295]],\n",
       " \n",
       "        [[0.32818627, 0.3360294 , 0.31642157],\n",
       "         [0.33553922, 0.34730393, 0.31985295],\n",
       "         [0.34534314, 0.35710785, 0.32965687],\n",
       "         ...,\n",
       "         [0.89485294, 0.8980392 , 0.8806372 ],\n",
       "         [0.8980392 , 0.9019608 , 0.88235295],\n",
       "         [0.8980392 , 0.9019608 , 0.88235295]],\n",
       " \n",
       "        ...,\n",
       " \n",
       "        [[0.35539216, 0.35931373, 0.3365196 ],\n",
       "         [0.35049018, 0.35833332, 0.31519607],\n",
       "         [0.3512255 , 0.35906863, 0.3139706 ],\n",
       "         ...,\n",
       "         [0.55808824, 0.5208333 , 0.49485293],\n",
       "         [0.5737745 , 0.5247549 , 0.50171566],\n",
       "         [0.5901961 , 0.5392157 , 0.50759804]],\n",
       " \n",
       "        [[0.35392156, 0.35784313, 0.32696077],\n",
       "         [0.35196078, 0.35980392, 0.30882353],\n",
       "         [0.35196078, 0.35980392, 0.30588236],\n",
       "         ...,\n",
       "         [0.5588235 , 0.52156866, 0.50147057],\n",
       "         [0.5767157 , 0.5276961 , 0.5061275 ],\n",
       "         [0.58431375, 0.53333336, 0.5009804 ]],\n",
       " \n",
       "        [[0.36666667, 0.3745098 , 0.33137256],\n",
       "         [0.3627451 , 0.37058824, 0.31862745],\n",
       "         [0.35784313, 0.36568627, 0.3107843 ],\n",
       "         ...,\n",
       "         [0.5627451 , 0.5254902 , 0.50686276],\n",
       "         [0.5781863 , 0.52916664, 0.50759804],\n",
       "         [0.59313726, 0.5421569 , 0.50980395]]], dtype=float32),\n",
       " b'data\\\\positive\\\\d71b6a85-6ad0-11f0-8045-ba2358a892e2.jpg',\n",
       " np.float32(1.0))"
      ]
     },
     "execution_count": 110,
     "metadata": {},
     "output_type": "execute_result"
    }
   ],
   "source": [
    "exampple"
   ]
  },
  {
   "cell_type": "markdown",
   "metadata": {},
   "source": [
    "## 3.4 Build Train and Test Partition"
   ]
  },
  {
   "cell_type": "code",
   "execution_count": null,
   "metadata": {},
   "outputs": [],
   "source": [
    "positives = tf.data.Dataset.zip((anchor_files, positive_files, tf.data.Dataset.from_tensor_slices(tf.ones(len(anchor_files)))))\n"
   ]
  },
  {
   "cell_type": "code",
   "execution_count": null,
   "metadata": {},
   "outputs": [],
   "source": [
    "# Get number of samples from anchor dataset\n",
    "anchor_count = anchor_files.cardinality().numpy()\n",
    "\n",
    "# Create labeled pairs\n",
    "positives = tf.data.Dataset.zip((anchor_files, positive_files,\n",
    "                                 tf.data.Dataset.from_tensor_slices(tf.ones(anchor_count))))\n",
    "negatives = tf.data.Dataset.zip((anchor_files, negative_files,\n",
    "                                 tf.data.Dataset.from_tensor_slices(tf.zeros(anchor_count))))\n"
   ]
  },
  {
   "cell_type": "code",
   "execution_count": null,
   "metadata": {},
   "outputs": [],
   "source": [
    "anchor_file_list = list(tf.io.gfile.glob(ANCHOR_PATH + '/*.jpg'))\n",
    "anchor_count = len(anchor_file_list)\n"
   ]
  },
  {
   "cell_type": "code",
   "execution_count": null,
   "metadata": {},
   "outputs": [],
   "source": [
    "def preprocess(file_path):\n",
    "    byte_img = tf.io.read_file(file_path)\n",
    "    img = tf.io.decode_image(byte_img, channels=3)  # force RGB\n",
    "    img = tf.image.resize(img, (100, 100))\n",
    "    img = img / 255.0\n",
    "    return img\n"
   ]
  },
  {
   "cell_type": "code",
   "execution_count": null,
   "metadata": {},
   "outputs": [],
   "source": [
    "anchor = anchor_files.take(300).map(preprocess).cache()\n",
    "positive = positive_files.take(300).map(preprocess).cache()\n",
    "negative = negative_files.take(300).map(preprocess).cache()\n"
   ]
  },
  {
   "cell_type": "code",
   "execution_count": null,
   "metadata": {},
   "outputs": [
    {
     "name": "stdout",
     "output_type": "stream",
     "text": [
      "✅ Train Batches: 0\n",
      "✅ Test Batches: 1\n"
     ]
    }
   ],
   "source": [
    "import tensorflow as tf\n",
    "import os\n",
    "import random\n",
    "\n",
    "# Set up paths\n",
    "ANCHOR_PATH = 'data/anchor'\n",
    "POSITIVE_PATH = 'data/positive'\n",
    "NEGATIVE_PATH = 'data/negative'\n",
    "\n",
    "# Load image file paths\n",
    "anchor_files = tf.data.Dataset.list_files(os.path.join(ANCHOR_PATH, '*.jpg'), shuffle=False)\n",
    "positive_files = tf.data.Dataset.list_files(os.path.join(POSITIVE_PATH, '*.jpg'), shuffle=False)\n",
    "negative_files = tf.data.Dataset.list_files(os.path.join(NEGATIVE_PATH, '*.jpg'), shuffle=False)\n",
    "\n",
    "# Shuffle them for randomness\n",
    "anchor_files = anchor_files.shuffle(1000, reshuffle_each_iteration=False)\n",
    "positive_files = positive_files.shuffle(1000, reshuffle_each_iteration=False)\n",
    "negative_files = negative_files.shuffle(1000, reshuffle_each_iteration=False)\n",
    "\n",
    "# Create labeled pairs\n",
    "# (anchor, positive, 1) --> same person\n",
    "# (anchor, negative, 0) --> different person\n",
    "positives = tf.data.Dataset.zip((anchor_files, positive_files, tf.data.Dataset.from_tensor_slices(tf.ones(len(anchor_files)))))\n",
    "negatives = tf.data.Dataset.zip((anchor_files, negative_files, tf.data.Dataset.from_tensor_slices(tf.zeros(len(anchor_files)))))\n",
    "\n",
    "# Combine them\n",
    "data = positives.concatenate(negatives)\n",
    "\n",
    "# Preprocessing function\n",
    "def preprocess(file_path):\n",
    "    byte_img = tf.io.read_file(file_path)\n",
    "    img = tf.io.decode_jpeg(byte_img)\n",
    "    img = tf.image.resize(img, (100, 100))\n",
    "    img = img / 255.0  # Normalize\n",
    "    return img\n",
    "\n",
    "# Preprocess twin pair\n",
    "def preprocess_twin(input_img, validation_img, label):\n",
    "    return (preprocess(input_img), preprocess(validation_img), label)\n",
    "\n",
    "# Map preprocessing to dataset\n",
    "data = data.map(preprocess_twin)\n",
    "\n",
    "# Cache, shuffle, batch and prefetch\n",
    "data = data.cache()\n",
    "data = data.shuffle(buffer_size=1000)\n",
    "data = data.batch(16)\n",
    "data = data.prefetch(8)\n",
    "\n",
    "# Split into train and test\n",
    "total_batches = len(list(data))\n",
    "train_size = int(0.7 * total_batches)\n",
    "train_data = data.take(train_size)\n",
    "test_data = data.skip(train_size)\n",
    "\n",
    "print(f\"✅ Train Batches: {train_size}\")\n",
    "print(f\"✅ Test Batches: {total_batches - train_size}\")\n"
   ]
  },
  {
   "cell_type": "code",
   "execution_count": null,
   "metadata": {},
   "outputs": [],
   "source": [
    "total_batches = len(list(data))\n"
   ]
  },
  {
   "cell_type": "code",
   "execution_count": null,
   "metadata": {},
   "outputs": [],
   "source": [
    "def preprocess_twin(input_img, validation_img, label):\n",
    "    return(preprocess(input_img), preprocess(validation_img), label)"
   ]
  },
  {
   "cell_type": "code",
   "execution_count": null,
   "metadata": {},
   "outputs": [],
   "source": [
    "def preprocess(file_path):\n",
    "    if isinstance(file_path, tf.Tensor):  # Already a tensor, do not read again\n",
    "        img = file_path\n",
    "    else:\n",
    "        byte_img = tf.io.read_file(file_path)\n",
    "        img = tf.io.decode_jpeg(byte_img)\n",
    "    \n",
    "    img = tf.image.resize(img, (100, 100))\n",
    "    img = img / 255.0\n",
    "    return img\n",
    "\n"
   ]
  },
  {
   "cell_type": "code",
   "execution_count": null,
   "metadata": {},
   "outputs": [
    {
     "name": "stdout",
     "output_type": "stream",
     "text": [
      "<class 'tuple'>\n",
      "3\n",
      "Item 0 shape: (9, 100, 100, 3)\n",
      "Item 1 shape: (9, 100, 100, 3)\n",
      "Item 2 shape: (9,)\n"
     ]
    }
   ],
   "source": [
    "# Example: Get one batch from a dataset named `data`\n",
    "example = next(iter(data))\n",
    "\n",
    "print(type(example))\n",
    "print(len(example))\n",
    "for i, item in enumerate(example):\n",
    "    print(f\"Item {i} shape: {item.shape}\")\n"
   ]
  },
  {
   "cell_type": "code",
   "execution_count": null,
   "metadata": {},
   "outputs": [
    {
     "name": "stdout",
     "output_type": "stream",
     "text": [
      "<class 'tuple'>\n",
      "3\n",
      "Item 0 shape: (9, 100, 100, 3)\n",
      "Item 1 shape: (9, 100, 100, 3)\n",
      "Item 2 shape: (9,)\n"
     ]
    }
   ],
   "source": [
    "print(type(example))\n",
    "print(len(example))\n",
    "for i, item in enumerate(example):\n",
    "    print(f\"Item {i} shape:\", item.shape)\n"
   ]
  },
  {
   "cell_type": "code",
   "execution_count": null,
   "metadata": {},
   "outputs": [
    {
     "name": "stdout",
     "output_type": "stream",
     "text": [
      "<class 'tuple'>\n",
      "3\n",
      "Item 0: Type = <class 'tensorflow.python.framework.ops.EagerTensor'>, Value = [[[[0.5414216  0.54534316 0.49044117]\n",
      "   [0.54632354 0.5502451  0.4894608 ]\n",
      "   [0.54534316 0.55220586 0.5002451 ]\n",
      "   ...\n",
      "   [0.72156864 0.7490196  0.78382355]\n",
      "   [0.7411765  0.76862746 0.8063725 ]\n",
      "   [0.7490196  0.7764706  0.81421566]]\n",
      "\n",
      "  [[0.5421569  0.54509807 0.49215686]\n",
      "   [0.53406864 0.5382353  0.48333332]\n",
      "   [0.54093134 0.5480392  0.49607843]\n",
      "   ...\n",
      "   [0.7026961  0.73333335 0.7465686 ]\n",
      "   [0.71862745 0.7477941  0.76593137]\n",
      "   [0.7267157  0.7629902  0.7796569 ]]\n",
      "\n",
      "  [[0.54289216 0.54289216 0.49583334]\n",
      "   [0.53995097 0.5448529  0.48995098]\n",
      "   [0.54019606 0.5480392  0.49387255]\n",
      "   ...\n",
      "   [0.6911765  0.71593136 0.720098  ]\n",
      "   [0.7002451  0.7294118  0.7379902 ]\n",
      "   [0.7129902  0.7463235  0.75416666]]\n",
      "\n",
      "  ...\n",
      "\n",
      "  [[0.3625     0.36642158 0.34681374]\n",
      "   [0.36397058 0.36789215 0.34730393]\n",
      "   [0.35392156 0.35784313 0.33431372]\n",
      "   ...\n",
      "   [0.1877451  0.1877451  0.1877451 ]\n",
      "   [0.1757353  0.1757353  0.1757353 ]\n",
      "   [0.1882353  0.1882353  0.1882353 ]]\n",
      "\n",
      "  [[0.3617647  0.36568627 0.34607843]\n",
      "   [0.3627451  0.36666667 0.34607843]\n",
      "   [0.37083334 0.3747549  0.3512255 ]\n",
      "   ...\n",
      "   [0.17352942 0.17352942 0.17352942]\n",
      "   [0.17132352 0.17132352 0.17132352]\n",
      "   [0.17450981 0.17450981 0.17450981]]\n",
      "\n",
      "  [[0.36666667 0.37058824 0.3509804 ]\n",
      "   [0.3644608  0.36838236 0.34779412]\n",
      "   [0.35808823 0.3620098  0.33848038]\n",
      "   ...\n",
      "   [0.17745098 0.17745098 0.17745098]\n",
      "   [0.16666667 0.16666667 0.16666667]\n",
      "   [0.1754902  0.1754902  0.1754902 ]]]\n",
      "\n",
      "\n",
      " [[[0.5009804  0.51666665 0.4617647 ]\n",
      "   [0.5117647  0.51960784 0.46862745]\n",
      "   [0.5056372  0.51642156 0.45269608]\n",
      "   ...\n",
      "   [0.997549   0.997549   0.98970586]\n",
      "   [0.99607843 0.99607843 0.9882353 ]\n",
      "   [1.         1.         0.99215686]]\n",
      "\n",
      "  [[0.49730393 0.5129902  0.45416668]\n",
      "   [0.50686276 0.5205882  0.46715686]\n",
      "   [0.50808823 0.51593137 0.46691176]\n",
      "   ...\n",
      "   [0.9980392  1.         0.99313724]\n",
      "   [0.9980392  1.         0.99313724]\n",
      "   [0.99215686 1.         0.99019605]]\n",
      "\n",
      "  [[0.49240196 0.50808823 0.4492647 ]\n",
      "   [0.4970588  0.5107843  0.45882353]\n",
      "   [0.5012255  0.5090686  0.4659314 ]\n",
      "   ...\n",
      "   [0.99215686 1.         0.99607843]\n",
      "   [0.98995095 0.9977941  0.9938725 ]\n",
      "   [0.9823529  0.99607843 0.99215686]]\n",
      "\n",
      "  ...\n",
      "\n",
      "  [[0.34877452 0.35661766 0.3134804 ]\n",
      "   [0.34362745 0.34754902 0.31813726]\n",
      "   [0.34044117 0.34436274 0.31642157]\n",
      "   ...\n",
      "   [0.19485295 0.19485295 0.19485295]\n",
      "   [0.19877452 0.19877452 0.19877452]\n",
      "   [0.19142157 0.19142157 0.19142157]]\n",
      "\n",
      "  [[0.33995098 0.34485295 0.31053922]\n",
      "   [0.34901962 0.3529412  0.32794118]\n",
      "   [0.34117648 0.34509805 0.32156864]\n",
      "   ...\n",
      "   [0.1860294  0.1860294  0.1860294 ]\n",
      "   [0.19289216 0.19289216 0.19289216]\n",
      "   [0.19142157 0.19142157 0.19142157]]\n",
      "\n",
      "  [[0.35       0.35392156 0.32254902]\n",
      "   [0.34117648 0.34509805 0.32156864]\n",
      "   [0.34313726 0.34705883 0.32352942]\n",
      "   ...\n",
      "   [0.1882353  0.1882353  0.1882353 ]\n",
      "   [0.19044118 0.19044118 0.19044118]\n",
      "   [0.19803922 0.19803922 0.19803922]]]\n",
      "\n",
      "\n",
      " [[[0.49436274 0.5061275  0.47867647]\n",
      "   [0.49926472 0.5110294  0.4757353 ]\n",
      "   [0.5036765  0.5154412  0.4742647 ]\n",
      "   ...\n",
      "   [0.99607843 1.         1.        ]\n",
      "   [0.99607843 1.         1.        ]\n",
      "   [0.99607843 1.         0.99215686]]\n",
      "\n",
      "  [[0.4982843  0.51004905 0.48259804]\n",
      "   [0.49313724 0.50490195 0.47107843]\n",
      "   [0.48210785 0.49387255 0.45416668]\n",
      "   ...\n",
      "   [0.9970588  1.         1.        ]\n",
      "   [0.9970588  1.         1.        ]\n",
      "   [0.9970588  1.         0.99215686]]\n",
      "\n",
      "  [[0.49607843 0.50784314 0.48039216]\n",
      "   [0.49264705 0.50441176 0.4764706 ]\n",
      "   [0.49607843 0.50784314 0.47843137]\n",
      "   ...\n",
      "   [0.9970588  1.         1.        ]\n",
      "   [0.9970588  1.         1.        ]\n",
      "   [0.9970588  1.         0.9980392 ]]\n",
      "\n",
      "  ...\n",
      "\n",
      "  [[0.3379902  0.34191176 0.31053922]\n",
      "   [0.3379902  0.34191176 0.3110294 ]\n",
      "   [0.33406863 0.3379902  0.3129902 ]\n",
      "   ...\n",
      "   [0.19142157 0.19142157 0.19142157]\n",
      "   [0.18848039 0.18848039 0.18848039]\n",
      "   [0.18553922 0.18553922 0.18553922]]\n",
      "\n",
      "  [[0.32254902 0.32647058 0.3009804 ]\n",
      "   [0.32107842 0.325      0.3       ]\n",
      "   [0.3262255  0.33014706 0.30661765]\n",
      "   ...\n",
      "   [0.1764706  0.1764706  0.1764706 ]\n",
      "   [0.18259804 0.18259804 0.18259804]\n",
      "   [0.17867647 0.17867647 0.17867647]]\n",
      "\n",
      "  [[0.32867646 0.33259803 0.30906862]\n",
      "   [0.33529413 0.3392157  0.3156863 ]\n",
      "   [0.3345588  0.33848038 0.31495097]\n",
      "   ...\n",
      "   [0.17083333 0.17083333 0.17083333]\n",
      "   [0.17867647 0.17867647 0.17867647]\n",
      "   [0.1764706  0.1764706  0.1764706 ]]]\n",
      "\n",
      "\n",
      " ...\n",
      "\n",
      "\n",
      " [[[0.44191176 0.45367646 0.4105392 ]\n",
      "   [0.44240198 0.45612746 0.40122548]\n",
      "   [0.44313726 0.4509804  0.39607844]\n",
      "   ...\n",
      "   [0.99607843 1.         0.99215686]\n",
      "   [0.99607843 1.         0.9980392 ]\n",
      "   [0.99509805 1.         0.9990196 ]]\n",
      "\n",
      "  [[0.44387254 0.4595588  0.40465686]\n",
      "   [0.4392157  0.45294118 0.39950982]\n",
      "   [0.43333334 0.44117647 0.39215687]\n",
      "   ...\n",
      "   [0.99509805 1.         0.99313724]\n",
      "   [0.99215686 1.         0.99019605]\n",
      "   [0.9911765  0.9990196  0.99313724]]\n",
      "\n",
      "  [[0.44338235 0.45906863 0.40416667]\n",
      "   [0.44607842 0.45686275 0.4137255 ]\n",
      "   [0.4362745  0.44117647 0.40686274]\n",
      "   ...\n",
      "   [0.99215686 1.         0.99607843]\n",
      "   [0.9892157  0.9970588  0.99313724]\n",
      "   [0.99215686 1.         0.9882353 ]]\n",
      "\n",
      "  ...\n",
      "\n",
      "  [[0.29730392 0.30122548 0.27867648]\n",
      "   [0.29436275 0.29828432 0.2747549 ]\n",
      "   [0.3004902  0.30441177 0.28088236]\n",
      "   ...\n",
      "   [0.1627451  0.1627451  0.1627451 ]\n",
      "   [0.16887255 0.16887255 0.16887255]\n",
      "   [0.16764706 0.16764706 0.16764706]]\n",
      "\n",
      "  [[0.30514705 0.30906862 0.28946078]\n",
      "   [0.29828432 0.3022059  0.28088236]\n",
      "   [0.3022059  0.30612746 0.28259805]\n",
      "   ...\n",
      "   [0.16053921 0.16053921 0.16053921]\n",
      "   [0.16446078 0.16446078 0.16446078]\n",
      "   [0.16470589 0.16470589 0.16470589]]\n",
      "\n",
      "  [[0.29411766 0.29411766 0.28627452]\n",
      "   [0.3019608  0.30588236 0.28529412]\n",
      "   [0.29509804 0.2990196  0.26960784]\n",
      "   ...\n",
      "   [0.16176471 0.16176471 0.16176471]\n",
      "   [0.16078432 0.16078432 0.16078432]\n",
      "   [0.16470589 0.16470589 0.16470589]]]\n",
      "\n",
      "\n",
      " [[[0.5414216  0.54534316 0.49044117]\n",
      "   [0.54632354 0.5502451  0.4894608 ]\n",
      "   [0.54534316 0.55220586 0.5002451 ]\n",
      "   ...\n",
      "   [0.72156864 0.7490196  0.78382355]\n",
      "   [0.7411765  0.76862746 0.8063725 ]\n",
      "   [0.7490196  0.7764706  0.81421566]]\n",
      "\n",
      "  [[0.5421569  0.54509807 0.49215686]\n",
      "   [0.53406864 0.5382353  0.48333332]\n",
      "   [0.54093134 0.5480392  0.49607843]\n",
      "   ...\n",
      "   [0.7026961  0.73333335 0.7465686 ]\n",
      "   [0.71862745 0.7477941  0.76593137]\n",
      "   [0.7267157  0.7629902  0.7796569 ]]\n",
      "\n",
      "  [[0.54289216 0.54289216 0.49583334]\n",
      "   [0.53995097 0.5448529  0.48995098]\n",
      "   [0.54019606 0.5480392  0.49387255]\n",
      "   ...\n",
      "   [0.6911765  0.71593136 0.720098  ]\n",
      "   [0.7002451  0.7294118  0.7379902 ]\n",
      "   [0.7129902  0.7463235  0.75416666]]\n",
      "\n",
      "  ...\n",
      "\n",
      "  [[0.3625     0.36642158 0.34681374]\n",
      "   [0.36397058 0.36789215 0.34730393]\n",
      "   [0.35392156 0.35784313 0.33431372]\n",
      "   ...\n",
      "   [0.1877451  0.1877451  0.1877451 ]\n",
      "   [0.1757353  0.1757353  0.1757353 ]\n",
      "   [0.1882353  0.1882353  0.1882353 ]]\n",
      "\n",
      "  [[0.3617647  0.36568627 0.34607843]\n",
      "   [0.3627451  0.36666667 0.34607843]\n",
      "   [0.37083334 0.3747549  0.3512255 ]\n",
      "   ...\n",
      "   [0.17352942 0.17352942 0.17352942]\n",
      "   [0.17132352 0.17132352 0.17132352]\n",
      "   [0.17450981 0.17450981 0.17450981]]\n",
      "\n",
      "  [[0.36666667 0.37058824 0.3509804 ]\n",
      "   [0.3644608  0.36838236 0.34779412]\n",
      "   [0.35808823 0.3620098  0.33848038]\n",
      "   ...\n",
      "   [0.17745098 0.17745098 0.17745098]\n",
      "   [0.16666667 0.16666667 0.16666667]\n",
      "   [0.1754902  0.1754902  0.1754902 ]]]\n",
      "\n",
      "\n",
      " [[[0.50784314 0.5156863  0.46372548]\n",
      "   [0.5019608  0.5088235  0.46715686]\n",
      "   [0.49803922 0.5019608  0.47058824]\n",
      "   ...\n",
      "   [0.99607843 1.         1.        ]\n",
      "   [0.9990196  1.         1.        ]\n",
      "   [1.         1.         1.        ]]\n",
      "\n",
      "  [[0.50980395 0.5137255  0.48431373]\n",
      "   [0.5058824  0.50980395 0.4862745 ]\n",
      "   [0.50490195 0.5088235  0.47941175]\n",
      "   ...\n",
      "   [0.9970588  1.         1.        ]\n",
      "   [0.99852943 1.         1.        ]\n",
      "   [0.9990196  1.         1.        ]]\n",
      "\n",
      "  [[0.5007353  0.50465685 0.48112744]\n",
      "   [0.5061275  0.51004905 0.4865196 ]\n",
      "   [0.50490195 0.5117647  0.4715686 ]\n",
      "   ...\n",
      "   [1.         1.         1.        ]\n",
      "   [0.9970588  1.         1.        ]\n",
      "   [0.99607843 1.         1.        ]]\n",
      "\n",
      "  ...\n",
      "\n",
      "  [[0.35710785 0.36397058 0.34338236]\n",
      "   [0.35784313 0.36764705 0.34068626]\n",
      "   [0.35392156 0.36372548 0.33088234]\n",
      "   ...\n",
      "   [0.2        0.2        0.2       ]\n",
      "   [0.19411765 0.19411765 0.19411765]\n",
      "   [0.19803922 0.19803922 0.19803922]]\n",
      "\n",
      "  [[0.34730393 0.3512255  0.32181373]\n",
      "   [0.35490197 0.35882354 0.32892156]\n",
      "   [0.3615196  0.36544117 0.33406863]\n",
      "   ...\n",
      "   [0.19019608 0.19019608 0.19019608]\n",
      "   [0.19705883 0.19705883 0.19705883]\n",
      "   [0.19411765 0.19411765 0.19411765]]\n",
      "\n",
      "  [[0.34681374 0.35465688 0.3115196 ]\n",
      "   [0.34705883 0.35392156 0.3137255 ]\n",
      "   [0.34877452 0.3526961  0.32132354]\n",
      "   ...\n",
      "   [0.18137255 0.18137255 0.18137255]\n",
      "   [0.19705883 0.19705883 0.19705883]\n",
      "   [0.19117647 0.19117647 0.19117647]]]]\n",
      "Item 1: Type = <class 'tensorflow.python.framework.ops.EagerTensor'>, Value = [[[[0.24313726 0.28627452 0.30980393]\n",
      "   [0.23529412 0.28627452 0.30980393]\n",
      "   [0.25803924 0.3129412  0.3247059 ]\n",
      "   ...\n",
      "   [0.24705882 0.2901961  0.29803923]\n",
      "   [0.24313726 0.28627452 0.3019608 ]\n",
      "   [0.23952971 0.28266698 0.29835325]]\n",
      "\n",
      "  [[0.23529412 0.3        0.31764707]\n",
      "   [0.2509804  0.3019608  0.3254902 ]\n",
      "   [0.25882354 0.30980393 0.34117648]\n",
      "   ...\n",
      "   [0.2529412  0.29607844 0.31176472]\n",
      "   [0.24705882 0.2901961  0.30588236]\n",
      "   [0.24313726 0.28627452 0.3019608 ]]\n",
      "\n",
      "  [[0.25490198 0.30588236 0.32941177]\n",
      "   [0.25686276 0.30784315 0.33137256]\n",
      "   [0.25568625 0.31450978 0.33411762]\n",
      "   ...\n",
      "   [0.24156901 0.28470626 0.30039254]\n",
      "   [0.24705882 0.2901961  0.30588236]\n",
      "   [0.24313726 0.28627452 0.29411766]]\n",
      "\n",
      "  ...\n",
      "\n",
      "  [[0.36501962 0.45913726 0.47482353]\n",
      "   [0.38039216 0.4627451  0.48235294]\n",
      "   [0.3780392  0.44862744 0.47411767]\n",
      "   ...\n",
      "   [0.1764706  0.19215687 0.20392157]\n",
      "   [0.17254902 0.1882353  0.2       ]\n",
      "   [0.16862746 0.18431373 0.19607843]]\n",
      "\n",
      "  [[0.3529412  0.42352942 0.45294118]\n",
      "   [0.27498037 0.31419605 0.33968624]\n",
      "   [0.20470588 0.18509804 0.17333333]\n",
      "   ...\n",
      "   [0.17254902 0.1882353  0.2       ]\n",
      "   [0.17254902 0.1882353  0.2       ]\n",
      "   [0.16470589 0.18039216 0.18431373]]\n",
      "\n",
      "  [[0.1882353  0.17043138 0.15945098]\n",
      "   [0.19607843 0.15686275 0.14901961]\n",
      "   [0.1945098  0.1552941  0.15137254]\n",
      "   ...\n",
      "   [0.17254902 0.1882353  0.2       ]\n",
      "   [0.16470589 0.18039216 0.19215687]\n",
      "   [0.16666667 0.18235295 0.19411765]]]\n",
      "\n",
      "\n",
      " [[[0.7058824  0.7176471  0.6745098 ]\n",
      "   [0.7172549  0.7176471  0.66980386]\n",
      "   [0.7192157  0.72745097 0.67137253]\n",
      "   ...\n",
      "   [0.71235293 0.69686276 0.6847059 ]\n",
      "   [0.71729416 0.7016079  0.6976863 ]\n",
      "   [0.71411765 0.6984314  0.70235294]]\n",
      "\n",
      "  [[0.71254903 0.72039217 0.6694118 ]\n",
      "   [0.7176471  0.7176471  0.67058825]\n",
      "   [0.71705884 0.724902   0.67784315]\n",
      "   ...\n",
      "   [0.71568626 0.7        0.69215685]\n",
      "   [0.7164706  0.7007843  0.69686276]\n",
      "   [0.72431374 0.7007843  0.70862746]]\n",
      "\n",
      "  [[0.7117647  0.71960783 0.672549  ]\n",
      "   [0.72745097 0.71960783 0.6723529 ]\n",
      "   [0.7235294  0.72745097 0.68235296]\n",
      "   ...\n",
      "   [0.70980394 0.7        0.69803923]\n",
      "   [0.7133334  0.69882333 0.6945097 ]\n",
      "   [0.72156864 0.69803923 0.7058824 ]]\n",
      "\n",
      "  ...\n",
      "\n",
      "  [[0.48156828 0.48156828 0.47372514]\n",
      "   [0.48823518 0.49215674 0.47039214]\n",
      "   [0.4823527  0.48627427 0.45882353]\n",
      "   ...\n",
      "   [0.2401959  0.2401959  0.23627433]\n",
      "   [0.2533334  0.2533334  0.2533334 ]\n",
      "   [0.2543137  0.2543137  0.2543137 ]]\n",
      "\n",
      "  [[0.47725484 0.47725484 0.4694117 ]\n",
      "   [0.4734509  0.47737247 0.45776463]\n",
      "   [0.47764713 0.4815687  0.46196085]\n",
      "   ...\n",
      "   [0.24254899 0.24254899 0.23862742]\n",
      "   [0.24745089 0.24745089 0.24745089]\n",
      "   [0.23647054 0.23647054 0.23647054]]\n",
      "\n",
      "  [[0.45529413 0.45529413 0.447451  ]\n",
      "   [0.46474501 0.46474501 0.45690188]\n",
      "   [0.47058824 0.47058824 0.4627451 ]\n",
      "   ...\n",
      "   [0.2421568  0.2421568  0.23823524]\n",
      "   [0.23847066 0.23847066 0.23847066]\n",
      "   [0.2505882  0.2505882  0.2505882 ]]]\n",
      "\n",
      "\n",
      " [[[0.7176471  0.7058824  0.64705884]\n",
      "   [0.72905886 0.71729416 0.65133333]\n",
      "   [0.72999996 0.71588236 0.662549  ]\n",
      "   ...\n",
      "   [0.7298039  0.7137255  0.7139216 ]\n",
      "   [0.7176471  0.70980394 0.7207845 ]\n",
      "   [0.7326667  0.70992154 0.71737254]]\n",
      "\n",
      "  [[0.72039217 0.7164706  0.64588237]\n",
      "   [0.7179216  0.7100785  0.65203923]\n",
      "   [0.7280392  0.7229412  0.6752941 ]\n",
      "   ...\n",
      "   [0.7162745  0.7103921  0.70843136]\n",
      "   [0.7113725  0.7035293  0.7145099 ]\n",
      "   [0.74509805 0.7019608  0.7176471 ]]\n",
      "\n",
      "  [[0.72156864 0.7137255  0.65882355]\n",
      "   [0.7254902  0.7176471  0.6596078 ]\n",
      "   [0.7294118  0.7235294  0.6764706 ]\n",
      "   ...\n",
      "   [0.7205882  0.7058824  0.7019608 ]\n",
      "   [0.72372544 0.7045097  0.7190198 ]\n",
      "   [0.7398039  0.7005882  0.7143137 ]]\n",
      "\n",
      "  ...\n",
      "\n",
      "  [[0.47725466 0.48117623 0.4615684 ]\n",
      "   [0.48823497 0.49215654 0.46862713]\n",
      "   [0.4941174  0.49803898 0.47843114]\n",
      "   ...\n",
      "   [0.24607837 0.24607837 0.24607837]\n",
      "   [0.25117642 0.25117642 0.25117642]\n",
      "   [0.25745082 0.25745082 0.25745082]]\n",
      "\n",
      "  [[0.48000002 0.48000002 0.47215688]\n",
      "   [0.49490184 0.4988234  0.475294  ]\n",
      "   [0.4845097  0.48843127 0.46882343]\n",
      "   ...\n",
      "   [0.23843144 0.23843144 0.23843144]\n",
      "   [0.24611789 0.24611789 0.24611789]\n",
      "   [0.24941179 0.24941179 0.24941179]]\n",
      "\n",
      "  [[0.46301964 0.46301964 0.4551765 ]\n",
      "   [0.47411764 0.4780392  0.4537255 ]\n",
      "   [0.4764706  0.47843137 0.4627451 ]\n",
      "   ...\n",
      "   [0.23705882 0.23705882 0.23705882]\n",
      "   [0.23886283 0.23886283 0.23886283]\n",
      "   [0.24784307 0.24784307 0.24784307]]]\n",
      "\n",
      "\n",
      " ...\n",
      "\n",
      "\n",
      " [[[0.7057647  0.694      0.6587059 ]\n",
      "   [0.7058824  0.69411767 0.6659608 ]\n",
      "   [0.707647   0.6958823  0.66843134]\n",
      "   ...\n",
      "   [0.8182353  0.8121569  0.83176476]\n",
      "   [0.8047058  0.8047058  0.81254894]\n",
      "   [0.79294115 0.7968627  0.81647056]]\n",
      "\n",
      "  [[0.7019608  0.7058824  0.6509804 ]\n",
      "   [0.7019608  0.7015686  0.67137253]\n",
      "   [0.7058824  0.702549   0.6811765 ]\n",
      "   ...\n",
      "   [0.7978431  0.79274505 0.81490195]\n",
      "   [0.78301954 0.78262746 0.7916468 ]\n",
      "   [0.7737255  0.7776471  0.7972549 ]]\n",
      "\n",
      "  [[0.6960784  0.7        0.654902  ]\n",
      "   [0.7019608  0.70392156 0.672549  ]\n",
      "   [0.7029412  0.7029412  0.6745098 ]\n",
      "   ...\n",
      "   [0.77843136 0.7705882  0.7941176 ]\n",
      "   [0.7705882  0.76666665 0.7862745 ]\n",
      "   [0.75823534 0.75823534 0.7896079 ]]\n",
      "\n",
      "  ...\n",
      "\n",
      "  [[0.47509807 0.47901964 0.4574509 ]\n",
      "   [0.48470575 0.48666665 0.4729408 ]\n",
      "   [0.48529404 0.4892156  0.467647  ]\n",
      "   ...\n",
      "   [0.29215688 0.29607844 0.28627452]\n",
      "   [0.3117646  0.30784303 0.2999999 ]\n",
      "   [0.29529408 0.29529408 0.28745094]]\n",
      "\n",
      "  [[0.47368628 0.47760785 0.45407844]\n",
      "   [0.47596085 0.47988242 0.46027458]\n",
      "   [0.49117628 0.49509785 0.47549   ]\n",
      "   ...\n",
      "   [0.27901965 0.28294122 0.2731373 ]\n",
      "   [0.29568624 0.29176468 0.28392154]\n",
      "   [0.29054904 0.29054904 0.2827059 ]]\n",
      "\n",
      "  [[0.4695294  0.4730588  0.45462748]\n",
      "   [0.47843137 0.47843137 0.47066668]\n",
      "   [0.48       0.48       0.47254902]\n",
      "   ...\n",
      "   [0.28431374 0.2882353  0.2784314 ]\n",
      "   [0.29411754 0.29019597 0.28235283]\n",
      "   [0.2811765  0.2811765  0.27333337]]]\n",
      "\n",
      "\n",
      " [[[0.7176471  0.7058824  0.6392157 ]\n",
      "   [0.71486276 0.71760786 0.6630981 ]\n",
      "   [0.737451   0.7139216  0.65901965]\n",
      "   ...\n",
      "   [0.7468627  0.70372546 0.7135294 ]\n",
      "   [0.73054874 0.70584315 0.7132942 ]\n",
      "   [0.7298039  0.7101961  0.72588235]]\n",
      "\n",
      "  [[0.718      0.70980394 0.6509804 ]\n",
      "   [0.71686274 0.7207843  0.66588235]\n",
      "   [0.7386275  0.7268628  0.66803926]\n",
      "   ...\n",
      "   [0.73588234 0.69666666 0.7103921 ]\n",
      "   [0.7372549  0.7019608  0.7137255 ]\n",
      "   [0.73333335 0.7176471  0.72156864]]\n",
      "\n",
      "  [[0.71901965 0.7229412  0.66803926]\n",
      "   [0.7176471  0.7180392  0.67019606]\n",
      "   [0.73333335 0.7254902  0.65882355]\n",
      "   ...\n",
      "   [0.73137254 0.7107843  0.71960783]\n",
      "   [0.73882365 0.7        0.71352947]\n",
      "   [0.7254902  0.70980394 0.7058824 ]]\n",
      "\n",
      "  ...\n",
      "\n",
      "  [[0.4862745  0.49019608 0.46666667]\n",
      "   [0.4733332  0.47725478 0.45764694]\n",
      "   [0.4980391  0.50196064 0.48039204]\n",
      "   ...\n",
      "   [0.25000006 0.25000006 0.24607849]\n",
      "   [0.252549   0.252549   0.24470586]\n",
      "   [0.25882372 0.25882372 0.2509806 ]]\n",
      "\n",
      "  [[0.484353   0.48827457 0.46474516]\n",
      "   [0.48419595 0.48811752 0.46458808]\n",
      "   [0.4990194  0.502941   0.47941157]\n",
      "   ...\n",
      "   [0.2405882  0.2405882  0.23666663]\n",
      "   [0.24666676 0.24666676 0.23882362]\n",
      "   [0.24823524 0.24823524 0.2403921 ]]\n",
      "\n",
      "  [[0.47478434 0.48654905 0.45909807]\n",
      "   [0.47454903 0.48631373 0.45737252]\n",
      "   [0.48235294 0.49019608 0.46078432]\n",
      "   ...\n",
      "   [0.23294115 0.23294115 0.22901958]\n",
      "   [0.242353   0.242353   0.23450987]\n",
      "   [0.2509804  0.2509804  0.24313726]]]\n",
      "\n",
      "\n",
      " [[[0.19665685 0.4554804  0.6829314 ]\n",
      "   [0.20507842 0.46390197 0.69135296]\n",
      "   [0.20449999 0.47508824 0.69077456]\n",
      "   ...\n",
      "   [0.31764707 0.57254905 0.72156864]\n",
      "   [0.30980393 0.5647059  0.7137255 ]\n",
      "   [0.30057842 0.5554804  0.7045    ]]\n",
      "\n",
      "  [[0.20565687 0.46448037 0.69193137]\n",
      "   [0.21350001 0.4723235  0.6997745 ]\n",
      "   [0.21131372 0.48190197 0.6975882 ]\n",
      "   ...\n",
      "   [0.3254902  0.5764706  0.7254902 ]\n",
      "   [0.32111767 0.572098   0.7211176 ]\n",
      "   [0.3135     0.5644804  0.7135    ]]\n",
      "\n",
      "  [[0.20588236 0.4764706  0.69215685]\n",
      "   [0.21176471 0.48235294 0.69803923]\n",
      "   [0.21568628 0.4862745  0.7019608 ]\n",
      "   ...\n",
      "   [0.32735294 0.5783334  0.71950984]\n",
      "   [0.32352942 0.5745098  0.71568626]\n",
      "   [0.31764707 0.5686275  0.70980394]]\n",
      "\n",
      "  ...\n",
      "\n",
      "  [[0.02509814 0.21612759 0.37019616]\n",
      "   [0.1967153  0.31044078 0.31039202]\n",
      "   [0.42460853 0.56666714 0.44156948]\n",
      "   ...\n",
      "   [0.4247056  0.5098532  0.54818624]\n",
      "   [0.16122562 0.44642147 0.48338234]\n",
      "   [0.1702942  0.44931364 0.49205884]]\n",
      "\n",
      "  [[0.6770302  0.7289809  0.70804036]\n",
      "   [0.3881587  0.5533155  0.48563832]\n",
      "   [0.22807905 0.3799613  0.30926442]\n",
      "   ...\n",
      "   [0.334521   0.38852108 0.39591327]\n",
      "   [0.192491   0.43896198 0.44446185]\n",
      "   [0.16161774 0.4581471  0.49517655]]\n",
      "\n",
      "  [[0.35746285 0.4555021  0.39883488]\n",
      "   [0.18547884 0.38985124 0.43668464]\n",
      "   [0.14333281 0.29363698 0.3374803 ]\n",
      "   ...\n",
      "   [0.42163655 0.44609746 0.44690132]\n",
      "   [0.33771098 0.46229956 0.5090053 ]\n",
      "   [0.1574412  0.46769595 0.5002254 ]]]]\n",
      "Item 2: Type = <class 'tensorflow.python.framework.ops.EagerTensor'>, Value = [0. 1. 1. 1. 0. 1. 1. 1. 0.]\n"
     ]
    }
   ],
   "source": [
    "print(type(example))\n",
    "print(len(example))\n",
    "for i, item in enumerate(example):\n",
    "    print(f\"Item {i}: Type = {type(item)}, Value = {item}\")\n"
   ]
  },
  {
   "cell_type": "code",
   "execution_count": null,
   "metadata": {},
   "outputs": [],
   "source": [
    "def preprocess(file_path):\n",
    "    # If already a tensor (image already loaded), skip reading from file\n",
    "    if isinstance(file_path, tf.Tensor) and file_path.dtype != tf.string:\n",
    "        img = file_path\n",
    "    else:\n",
    "        byte_img = tf.io.read_file(file_path)\n",
    "        img = tf.io.decode_jpeg(byte_img)\n",
    "\n",
    "    img = tf.image.resize(img, (100, 100))\n",
    "    img = img / 255.0\n",
    "    return img\n"
   ]
  },
  {
   "cell_type": "code",
   "execution_count": null,
   "metadata": {},
   "outputs": [
    {
     "name": "stdout",
     "output_type": "stream",
     "text": [
      "False\n",
      "False\n"
     ]
    }
   ],
   "source": [
    "import os\n",
    "\n",
    "print(os.path.exists('data/anchor/a1.jpg'))       # Should be True\n",
    "print(os.path.exists('data/positive/p2.jpg'))     # Should be True\n"
   ]
  },
  {
   "cell_type": "code",
   "execution_count": null,
   "metadata": {},
   "outputs": [],
   "source": [
    "example = ('99838cf0-6ad0-11f0-afd2-ba2358a892e2.jpg', 'd5574a86-6ad0-11f0-a0ed-ba2358a892e2.jpg')\n"
   ]
  },
  {
   "cell_type": "code",
   "execution_count": null,
   "metadata": {},
   "outputs": [
    {
     "name": "stdout",
     "output_type": "stream",
     "text": [
      "['data/anchor\\\\74ea3dc3-6b16-11f0-88f6-ba2358a892e2.jpg', 'data/anchor\\\\74ee2fe3-6b16-11f0-bf6a-ba2358a892e2.jpg', 'data/anchor\\\\74f2a688-6b16-11f0-af33-ba2358a892e2.jpg', 'data/anchor\\\\74f7ce50-6b16-11f0-8669-ba2358a892e2.jpg', 'data/anchor\\\\752524ba-6b16-11f0-96c7-ba2358a892e2.jpg', 'data/anchor\\\\75411605-6b16-11f0-859c-ba2358a892e2.jpg', 'data/anchor\\\\754610ad-6b16-11f0-86b9-ba2358a892e2.jpg', 'data/anchor\\\\7557f42a-6b16-11f0-b8fd-ba2358a892e2.jpg', 'data/anchor\\\\756a4c4b-6b16-11f0-9b12-ba2358a892e2.jpg', 'data/anchor\\\\758145e8-6b16-11f0-ba96-ba2358a892e2.jpg', 'data/anchor\\\\75860d4e-6b16-11f0-874b-ba2358a892e2.jpg', 'data/anchor\\\\75a19a1a-6b16-11f0-a245-ba2358a892e2.jpg', 'data/anchor\\\\75af654f-6b16-11f0-a8bf-ba2358a892e2.jpg', 'data/anchor\\\\75b3d22f-6b16-11f0-9f17-ba2358a892e2.jpg', 'data/anchor\\\\75b88f78-6b16-11f0-b314-ba2358a892e2.jpg', 'data/anchor\\\\75d988ad-6b16-11f0-b1d5-ba2358a892e2.jpg', 'data/anchor\\\\75e64cc9-6b16-11f0-aee2-ba2358a892e2.jpg', 'data/anchor\\\\75eb5fa7-6b16-11f0-9999-ba2358a892e2.jpg', 'data/anchor\\\\760c81f7-6b16-11f0-b03d-ba2358a892e2.jpg', 'data/anchor\\\\76193a8f-6b16-11f0-9be5-ba2358a892e2.jpg', 'data/anchor\\\\762d8d2c-6b16-11f0-af80-ba2358a892e2.jpg', 'data/anchor\\\\764757ee-6b16-11f0-b49e-ba2358a892e2.jpg', 'data/anchor\\\\765fb69a-6b16-11f0-a802-ba2358a892e2.jpg', 'data/anchor\\\\76671292-6b16-11f0-b059-ba2358a892e2.jpg', 'data/anchor\\\\766be147-6b16-11f0-9f0c-ba2358a892e2.jpg', 'data/anchor\\\\7670e191-6b16-11f0-94d7-ba2358a892e2.jpg', 'data/anchor\\\\7675e4f4-6b16-11f0-a06b-ba2358a892e2.jpg', 'data/anchor\\\\7684c58a-6b16-11f0-9377-ba2358a892e2.jpg', 'data/anchor\\\\76897135-6b16-11f0-936f-ba2358a892e2.jpg', 'data/anchor\\\\7690a77c-6b16-11f0-b70f-ba2358a892e2.jpg', 'data/anchor\\\\7695fb34-6b16-11f0-aab8-ba2358a892e2.jpg', 'data/anchor\\\\76a7b5db-6b16-11f0-88c4-ba2358a892e2.jpg', 'data/anchor\\\\76acc8ab-6b16-11f0-9c0c-ba2358a892e2.jpg', 'data/anchor\\\\76b1c1c7-6b16-11f0-8bfe-ba2358a892e2.jpg', 'data/anchor\\\\76b5b6a4-6b16-11f0-8d21-ba2358a892e2.jpg', 'data/anchor\\\\76bec9e1-6b16-11f0-914f-ba2358a892e2.jpg', 'data/anchor\\\\76c39752-6b16-11f0-8e35-ba2358a892e2.jpg', 'data/anchor\\\\76c8db06-6b16-11f0-a38a-ba2358a892e2.jpg', 'data/anchor\\\\76ce0450-6b16-11f0-8bf0-ba2358a892e2.jpg', 'data/anchor\\\\76d0e944-6b16-11f0-920e-ba2358a892e2.jpg', 'data/anchor\\\\76da6e9f-6b16-11f0-87e7-ba2358a892e2.jpg', 'data/anchor\\\\76dec40e-6b16-11f0-b64e-ba2358a892e2.jpg', 'data/anchor\\\\76e614af-6b16-11f0-9a10-ba2358a892e2.jpg', 'data/anchor\\\\76eb0a0f-6b16-11f0-96e7-ba2358a892e2.jpg', 'data/anchor\\\\76f15317-6b16-11f0-9d33-ba2358a892e2.jpg', 'data/anchor\\\\76f6a4b0-6b16-11f0-b98e-ba2358a892e2.jpg', 'data/anchor\\\\76fa5100-6b16-11f0-ae36-ba2358a892e2.jpg', 'data/anchor\\\\7700e69a-6b16-11f0-9af5-ba2358a892e2.jpg', 'data/anchor\\\\77088c20-6b16-11f0-b189-ba2358a892e2.jpg', 'data/anchor\\\\770d6f3e-6b16-11f0-991e-ba2358a892e2.jpg', 'data/anchor\\\\771266cd-6b16-11f0-9397-ba2358a892e2.jpg', 'data/anchor\\\\7716fa76-6b16-11f0-b435-ba2358a892e2.jpg', 'data/anchor\\\\771ba4da-6b16-11f0-9b3e-ba2358a892e2.jpg', 'data/anchor\\\\7720ae1a-6b16-11f0-ac94-ba2358a892e2.jpg', 'data/anchor\\\\772828a1-6b16-11f0-9477-ba2358a892e2.jpg', 'data/anchor\\\\772d302b-6b16-11f0-869a-ba2358a892e2.jpg', 'data/anchor\\\\77323b47-6b16-11f0-97c7-ba2358a892e2.jpg', 'data/anchor\\\\77372ae4-6b16-11f0-b7f3-ba2358a892e2.jpg', 'data/anchor\\\\773be7ac-6b16-11f0-a7bd-ba2358a892e2.jpg', 'data/anchor\\\\7740eead-6b16-11f0-8b5d-ba2358a892e2.jpg', 'data/anchor\\\\774570c6-6b16-11f0-9ee7-ba2358a892e2.jpg', 'data/anchor\\\\774a8e5a-6b16-11f0-8264-ba2358a892e2.jpg', 'data/anchor\\\\7753ef8b-6b16-11f0-a7ea-ba2358a892e2.jpg', 'data/anchor\\\\775db411-6b16-11f0-a417-ba2358a892e2.jpg', 'data/anchor\\\\7764fc41-6b16-11f0-9d35-ba2358a892e2.jpg', 'data/anchor\\\\7769eb18-6b16-11f0-9f0f-ba2358a892e2.jpg', 'data/anchor\\\\776efff9-6b16-11f0-94fc-ba2358a892e2.jpg', 'data/anchor\\\\7773efb4-6b16-11f0-b3a6-ba2358a892e2.jpg', 'data/anchor\\\\7778cd07-6b16-11f0-97f8-ba2358a892e2.jpg', 'data/anchor\\\\777dddd9-6b16-11f0-b13c-ba2358a892e2.jpg', 'data/anchor\\\\7784db4c-6b16-11f0-8da2-ba2358a892e2.jpg', 'data/anchor\\\\77893f02-6b16-11f0-a413-ba2358a892e2.jpg', 'data/anchor\\\\778f061c-6b16-11f0-bffd-ba2358a892e2.jpg', 'data/anchor\\\\779298a6-6b16-11f0-b640-ba2358a892e2.jpg', 'data/anchor\\\\779bd396-6b16-11f0-a8b0-ba2358a892e2.jpg', 'data/anchor\\\\77a0de4f-6b16-11f0-ae28-ba2358a892e2.jpg', 'data/anchor\\\\77a73a1b-6b16-11f0-9976-ba2358a892e2.jpg', 'data/anchor\\\\77ac19f0-6b16-11f0-8639-ba2358a892e2.jpg', 'data/anchor\\\\77b2a12a-6b16-11f0-922c-ba2358a892e2.jpg', 'data/anchor\\\\77b7bff7-6b16-11f0-9972-ba2358a892e2.jpg', 'data/anchor\\\\77bccae5-6b16-11f0-a78a-ba2358a892e2.jpg', 'data/anchor\\\\77c1e31b-6b16-11f0-9c7e-ba2358a892e2.jpg', 'data/anchor\\\\77ce3a57-6b16-11f0-a922-ba2358a892e2.jpg', 'data/anchor\\\\77d2f33c-6b16-11f0-aa7f-ba2358a892e2.jpg', 'data/anchor\\\\77d78af9-6b16-11f0-b922-ba2358a892e2.jpg', 'data/anchor\\\\77dc7c8f-6b16-11f0-97bf-ba2358a892e2.jpg', 'data/anchor\\\\77e43e3c-6b16-11f0-8809-ba2358a892e2.jpg', 'data/anchor\\\\77efb926-6b16-11f0-9b3b-ba2358a892e2.jpg', 'data/anchor\\\\77f30a57-6b16-11f0-92e0-ba2358a892e2.jpg', 'data/anchor\\\\77f838f4-6b16-11f0-938b-ba2358a892e2.jpg', 'data/anchor\\\\77fcf48c-6b16-11f0-b805-ba2358a892e2.jpg', 'data/anchor\\\\78019030-6b16-11f0-88aa-ba2358a892e2.jpg', 'data/anchor\\\\78062ae9-6b16-11f0-b199-ba2358a892e2.jpg', 'data/anchor\\\\780b0c2f-6b16-11f0-a617-ba2358a892e2.jpg', 'data/anchor\\\\780fea76-6b16-11f0-aa9e-ba2358a892e2.jpg', 'data/anchor\\\\sample_anchor.jpg']\n",
      "['data/positive\\\\sample_positive.jpg', 'data/positive\\\\WIN_20250727_23_54_31_Pro.jpg', 'data/positive\\\\WIN_20250727_23_54_33_Pro.jpg', 'data/positive\\\\WIN_20250727_23_54_35_Pro.jpg', 'data/positive\\\\WIN_20250727_23_54_36_Pro.jpg', 'data/positive\\\\WIN_20250727_23_54_38_Pro.jpg']\n"
     ]
    }
   ],
   "source": [
    "import glob\n",
    "print(glob.glob('data/anchor/*.jpg'))\n",
    "print(glob.glob('data/positive/*.jpg'))\n"
   ]
  },
  {
   "cell_type": "code",
   "execution_count": null,
   "metadata": {},
   "outputs": [],
   "source": [
    "import os\n",
    "def preprocess(file_path):\n",
    "    if not os.path.isfile(file_path):\n",
    "        raise FileNotFoundError(f\"File not found: {file_path}\")\n",
    "    # Proceed with reading and processing\n"
   ]
  },
  {
   "cell_type": "code",
   "execution_count": null,
   "metadata": {},
   "outputs": [
    {
     "name": "stdout",
     "output_type": "stream",
     "text": [
      "['data/anchor\\\\74ea3dc3-6b16-11f0-88f6-ba2358a892e2.jpg', 'data/anchor\\\\74ee2fe3-6b16-11f0-bf6a-ba2358a892e2.jpg', 'data/anchor\\\\74f2a688-6b16-11f0-af33-ba2358a892e2.jpg', 'data/anchor\\\\74f7ce50-6b16-11f0-8669-ba2358a892e2.jpg', 'data/anchor\\\\752524ba-6b16-11f0-96c7-ba2358a892e2.jpg', 'data/anchor\\\\75411605-6b16-11f0-859c-ba2358a892e2.jpg', 'data/anchor\\\\754610ad-6b16-11f0-86b9-ba2358a892e2.jpg', 'data/anchor\\\\7557f42a-6b16-11f0-b8fd-ba2358a892e2.jpg', 'data/anchor\\\\756a4c4b-6b16-11f0-9b12-ba2358a892e2.jpg', 'data/anchor\\\\758145e8-6b16-11f0-ba96-ba2358a892e2.jpg', 'data/anchor\\\\75860d4e-6b16-11f0-874b-ba2358a892e2.jpg', 'data/anchor\\\\75a19a1a-6b16-11f0-a245-ba2358a892e2.jpg', 'data/anchor\\\\75af654f-6b16-11f0-a8bf-ba2358a892e2.jpg', 'data/anchor\\\\75b3d22f-6b16-11f0-9f17-ba2358a892e2.jpg', 'data/anchor\\\\75b88f78-6b16-11f0-b314-ba2358a892e2.jpg', 'data/anchor\\\\75d988ad-6b16-11f0-b1d5-ba2358a892e2.jpg', 'data/anchor\\\\75e64cc9-6b16-11f0-aee2-ba2358a892e2.jpg', 'data/anchor\\\\75eb5fa7-6b16-11f0-9999-ba2358a892e2.jpg', 'data/anchor\\\\760c81f7-6b16-11f0-b03d-ba2358a892e2.jpg', 'data/anchor\\\\76193a8f-6b16-11f0-9be5-ba2358a892e2.jpg', 'data/anchor\\\\762d8d2c-6b16-11f0-af80-ba2358a892e2.jpg', 'data/anchor\\\\764757ee-6b16-11f0-b49e-ba2358a892e2.jpg', 'data/anchor\\\\765fb69a-6b16-11f0-a802-ba2358a892e2.jpg', 'data/anchor\\\\76671292-6b16-11f0-b059-ba2358a892e2.jpg', 'data/anchor\\\\766be147-6b16-11f0-9f0c-ba2358a892e2.jpg', 'data/anchor\\\\7670e191-6b16-11f0-94d7-ba2358a892e2.jpg', 'data/anchor\\\\7675e4f4-6b16-11f0-a06b-ba2358a892e2.jpg', 'data/anchor\\\\7684c58a-6b16-11f0-9377-ba2358a892e2.jpg', 'data/anchor\\\\76897135-6b16-11f0-936f-ba2358a892e2.jpg', 'data/anchor\\\\7690a77c-6b16-11f0-b70f-ba2358a892e2.jpg', 'data/anchor\\\\7695fb34-6b16-11f0-aab8-ba2358a892e2.jpg', 'data/anchor\\\\76a7b5db-6b16-11f0-88c4-ba2358a892e2.jpg', 'data/anchor\\\\76acc8ab-6b16-11f0-9c0c-ba2358a892e2.jpg', 'data/anchor\\\\76b1c1c7-6b16-11f0-8bfe-ba2358a892e2.jpg', 'data/anchor\\\\76b5b6a4-6b16-11f0-8d21-ba2358a892e2.jpg', 'data/anchor\\\\76bec9e1-6b16-11f0-914f-ba2358a892e2.jpg', 'data/anchor\\\\76c39752-6b16-11f0-8e35-ba2358a892e2.jpg', 'data/anchor\\\\76c8db06-6b16-11f0-a38a-ba2358a892e2.jpg', 'data/anchor\\\\76ce0450-6b16-11f0-8bf0-ba2358a892e2.jpg', 'data/anchor\\\\76d0e944-6b16-11f0-920e-ba2358a892e2.jpg', 'data/anchor\\\\76da6e9f-6b16-11f0-87e7-ba2358a892e2.jpg', 'data/anchor\\\\76dec40e-6b16-11f0-b64e-ba2358a892e2.jpg', 'data/anchor\\\\76e614af-6b16-11f0-9a10-ba2358a892e2.jpg', 'data/anchor\\\\76eb0a0f-6b16-11f0-96e7-ba2358a892e2.jpg', 'data/anchor\\\\76f15317-6b16-11f0-9d33-ba2358a892e2.jpg', 'data/anchor\\\\76f6a4b0-6b16-11f0-b98e-ba2358a892e2.jpg', 'data/anchor\\\\76fa5100-6b16-11f0-ae36-ba2358a892e2.jpg', 'data/anchor\\\\7700e69a-6b16-11f0-9af5-ba2358a892e2.jpg', 'data/anchor\\\\77088c20-6b16-11f0-b189-ba2358a892e2.jpg', 'data/anchor\\\\770d6f3e-6b16-11f0-991e-ba2358a892e2.jpg', 'data/anchor\\\\771266cd-6b16-11f0-9397-ba2358a892e2.jpg', 'data/anchor\\\\7716fa76-6b16-11f0-b435-ba2358a892e2.jpg', 'data/anchor\\\\771ba4da-6b16-11f0-9b3e-ba2358a892e2.jpg', 'data/anchor\\\\7720ae1a-6b16-11f0-ac94-ba2358a892e2.jpg', 'data/anchor\\\\772828a1-6b16-11f0-9477-ba2358a892e2.jpg', 'data/anchor\\\\772d302b-6b16-11f0-869a-ba2358a892e2.jpg', 'data/anchor\\\\77323b47-6b16-11f0-97c7-ba2358a892e2.jpg', 'data/anchor\\\\77372ae4-6b16-11f0-b7f3-ba2358a892e2.jpg', 'data/anchor\\\\773be7ac-6b16-11f0-a7bd-ba2358a892e2.jpg', 'data/anchor\\\\7740eead-6b16-11f0-8b5d-ba2358a892e2.jpg', 'data/anchor\\\\774570c6-6b16-11f0-9ee7-ba2358a892e2.jpg', 'data/anchor\\\\774a8e5a-6b16-11f0-8264-ba2358a892e2.jpg', 'data/anchor\\\\7753ef8b-6b16-11f0-a7ea-ba2358a892e2.jpg', 'data/anchor\\\\775db411-6b16-11f0-a417-ba2358a892e2.jpg', 'data/anchor\\\\7764fc41-6b16-11f0-9d35-ba2358a892e2.jpg', 'data/anchor\\\\7769eb18-6b16-11f0-9f0f-ba2358a892e2.jpg', 'data/anchor\\\\776efff9-6b16-11f0-94fc-ba2358a892e2.jpg', 'data/anchor\\\\7773efb4-6b16-11f0-b3a6-ba2358a892e2.jpg', 'data/anchor\\\\7778cd07-6b16-11f0-97f8-ba2358a892e2.jpg', 'data/anchor\\\\777dddd9-6b16-11f0-b13c-ba2358a892e2.jpg', 'data/anchor\\\\7784db4c-6b16-11f0-8da2-ba2358a892e2.jpg', 'data/anchor\\\\77893f02-6b16-11f0-a413-ba2358a892e2.jpg', 'data/anchor\\\\778f061c-6b16-11f0-bffd-ba2358a892e2.jpg', 'data/anchor\\\\779298a6-6b16-11f0-b640-ba2358a892e2.jpg', 'data/anchor\\\\779bd396-6b16-11f0-a8b0-ba2358a892e2.jpg', 'data/anchor\\\\77a0de4f-6b16-11f0-ae28-ba2358a892e2.jpg', 'data/anchor\\\\77a73a1b-6b16-11f0-9976-ba2358a892e2.jpg', 'data/anchor\\\\77ac19f0-6b16-11f0-8639-ba2358a892e2.jpg', 'data/anchor\\\\77b2a12a-6b16-11f0-922c-ba2358a892e2.jpg', 'data/anchor\\\\77b7bff7-6b16-11f0-9972-ba2358a892e2.jpg', 'data/anchor\\\\77bccae5-6b16-11f0-a78a-ba2358a892e2.jpg', 'data/anchor\\\\77c1e31b-6b16-11f0-9c7e-ba2358a892e2.jpg', 'data/anchor\\\\77ce3a57-6b16-11f0-a922-ba2358a892e2.jpg', 'data/anchor\\\\77d2f33c-6b16-11f0-aa7f-ba2358a892e2.jpg', 'data/anchor\\\\77d78af9-6b16-11f0-b922-ba2358a892e2.jpg', 'data/anchor\\\\77dc7c8f-6b16-11f0-97bf-ba2358a892e2.jpg', 'data/anchor\\\\77e43e3c-6b16-11f0-8809-ba2358a892e2.jpg', 'data/anchor\\\\77efb926-6b16-11f0-9b3b-ba2358a892e2.jpg', 'data/anchor\\\\77f30a57-6b16-11f0-92e0-ba2358a892e2.jpg', 'data/anchor\\\\77f838f4-6b16-11f0-938b-ba2358a892e2.jpg', 'data/anchor\\\\77fcf48c-6b16-11f0-b805-ba2358a892e2.jpg', 'data/anchor\\\\78019030-6b16-11f0-88aa-ba2358a892e2.jpg', 'data/anchor\\\\78062ae9-6b16-11f0-b199-ba2358a892e2.jpg', 'data/anchor\\\\780b0c2f-6b16-11f0-a617-ba2358a892e2.jpg', 'data/anchor\\\\780fea76-6b16-11f0-aa9e-ba2358a892e2.jpg', 'data/anchor\\\\sample_anchor.jpg']\n",
      "['data/positive\\\\sample_positive.jpg', 'data/positive\\\\WIN_20250727_23_54_31_Pro.jpg', 'data/positive\\\\WIN_20250727_23_54_33_Pro.jpg', 'data/positive\\\\WIN_20250727_23_54_35_Pro.jpg', 'data/positive\\\\WIN_20250727_23_54_36_Pro.jpg', 'data/positive\\\\WIN_20250727_23_54_38_Pro.jpg']\n",
      "['data/negative\\\\neg_0.jpg', 'data/negative\\\\neg_1.jpg', 'data/negative\\\\sample_negative.jpg']\n"
     ]
    }
   ],
   "source": [
    "import glob\n",
    "print(glob.glob('data/anchor/*.jpg'))\n",
    "print(glob.glob('data/positive/*.jpg'))\n",
    "print(glob.glob('data/negative/*.jpg'))\n"
   ]
  },
  {
   "cell_type": "code",
   "execution_count": null,
   "metadata": {},
   "outputs": [],
   "source": [
    "example = ('data/anchor/99838cf0-6ad0-11f0-afd2-ba2358a892e2.jpg', 'data/positive/\\\\9c3c7d87-6ad0-11f0-9689-ba2358a892e2.jpg', 1.0)\n",
    "\n"
   ]
  },
  {
   "cell_type": "code",
   "execution_count": null,
   "metadata": {},
   "outputs": [
    {
     "name": "stdout",
     "output_type": "stream",
     "text": [
      "Attempting to load: data/anchor/74ea3dc3-6b16-11f0-88f6-ba2358a892e2.jpg\n"
     ]
    }
   ],
   "source": [
    "file_path = 'data/anchor/74ea3dc3-6b16-11f0-88f6-ba2358a892e2.jpg'  # or any valid image path\n",
    "print(\"Attempting to load:\", file_path)\n"
   ]
  },
  {
   "cell_type": "code",
   "execution_count": null,
   "metadata": {},
   "outputs": [
    {
     "name": "stdout",
     "output_type": "stream",
     "text": [
      "Attempting to load: data/anchor/sample.jpg\n"
     ]
    }
   ],
   "source": [
    "def debug_file_path(file_path):\n",
    "    print(\"Attempting to load:\", file_path)\n",
    "\n",
    "debug_file_path('data/anchor/sample.jpg')\n"
   ]
  },
  {
   "cell_type": "code",
   "execution_count": null,
   "metadata": {},
   "outputs": [
    {
     "name": "stdout",
     "output_type": "stream",
     "text": [
      "Attempting to load: data/anchor/74ea3dc3-6b16-11f0-88f6-ba2358a892e2.jpg\n"
     ]
    },
    {
     "data": {
      "text/plain": [
       "'data/anchor/74ea3dc3-6b16-11f0-88f6-ba2358a892e2.jpg'"
      ]
     },
     "execution_count": 113,
     "metadata": {},
     "output_type": "execute_result"
    }
   ],
   "source": [
    "print(\"Attempting to load:\", file_path)\n",
    "file_path\n"
   ]
  },
  {
   "cell_type": "code",
   "execution_count": null,
   "metadata": {},
   "outputs": [
    {
     "name": "stdout",
     "output_type": "stream",
     "text": [
      "Sample from anchor folder:\n",
      "['74ea3dc3-6b16-11f0-88f6-ba2358a892e2.jpg', '74ee2fe3-6b16-11f0-bf6a-ba2358a892e2.jpg', '74f2a688-6b16-11f0-af33-ba2358a892e2.jpg', '74f7ce50-6b16-11f0-8669-ba2358a892e2.jpg', '752524ba-6b16-11f0-96c7-ba2358a892e2.jpg']\n",
      "\n",
      "Sample from positive folder:\n",
      "['sample_positive.jpg', 'WIN_20250727_23_54_31_Pro.jpg', 'WIN_20250727_23_54_33_Pro.jpg', 'WIN_20250727_23_54_35_Pro.jpg', 'WIN_20250727_23_54_36_Pro.jpg']\n"
     ]
    }
   ],
   "source": [
    "import os\n",
    "\n",
    "print(\"Sample from anchor folder:\")\n",
    "print(os.listdir('data/anchor')[:5])\n",
    "\n",
    "print(\"\\nSample from positive folder:\")\n",
    "print(os.listdir('data/positive')[:5])\n"
   ]
  },
  {
   "cell_type": "code",
   "execution_count": null,
   "metadata": {},
   "outputs": [],
   "source": [
    "example = (\n",
    "    'data/anchor/.jpg',\n",
    "    'data/positive/<real-positive-filename>74ea3dc3-6b16-11f0-88f6-ba2358a892e2.jpg',\n",
    "    1.0\n",
    ")\n"
   ]
  },
  {
   "cell_type": "code",
   "execution_count": null,
   "metadata": {},
   "outputs": [
    {
     "name": "stdout",
     "output_type": "stream",
     "text": [
      "Anchors: ['74ea3dc3-6b16-11f0-88f6-ba2358a892e2.jpg', '74ee2fe3-6b16-11f0-bf6a-ba2358a892e2.jpg', '74f2a688-6b16-11f0-af33-ba2358a892e2.jpg']\n",
      "Positives: ['sample_positive.jpg', 'WIN_20250727_23_54_31_Pro.jpg', 'WIN_20250727_23_54_33_Pro.jpg']\n",
      "Negatives: ['Aaron_Eckhart', 'Aaron_Guiel', 'Aaron_Patterson']\n"
     ]
    }
   ],
   "source": [
    "import os\n",
    "\n",
    "anchor_files = os.listdir('data/anchor')\n",
    "positive_files = os.listdir('data/positive')\n",
    "negative_files = os.listdir('data/negative')\n",
    "\n",
    "print(\"Anchors:\", anchor_files[:3])\n",
    "print(\"Positives:\", positive_files[:3])\n",
    "print(\"Negatives:\", negative_files[:3])\n"
   ]
  },
  {
   "cell_type": "code",
   "execution_count": null,
   "metadata": {},
   "outputs": [],
   "source": [
    "# Pick the first files from each folder\n",
    "anchor_file = anchor_files[0]\n",
    "positive_file = positive_files[0]\n",
    "\n",
    "example = (\n",
    "    f'data/anchor/{anchor_file}',\n",
    "    f'data/positive/{positive_file}',\n",
    "    1.0\n",
    ")\n"
   ]
  },
  {
   "cell_type": "code",
   "execution_count": null,
   "metadata": {},
   "outputs": [
    {
     "name": "stdout",
     "output_type": "stream",
     "text": [
      "✅ Train Batches: 0\n",
      "✅ Test Batches: 1\n"
     ]
    }
   ],
   "source": [
    "import tensorflow as tf\n",
    "import os\n",
    "import random\n",
    "\n",
    "# Set up paths\n",
    "ANCHOR_PATH = 'data/anchor'\n",
    "POSITIVE_PATH = 'data/positive'\n",
    "NEGATIVE_PATH = 'data/negative'\n",
    "\n",
    "# Load image file paths\n",
    "anchor_files = tf.data.Dataset.list_files(os.path.join(ANCHOR_PATH, '*.jpg'), shuffle=False)\n",
    "positive_files = tf.data.Dataset.list_files(os.path.join(POSITIVE_PATH, '*.jpg'), shuffle=False)\n",
    "negative_files = tf.data.Dataset.list_files(os.path.join(NEGATIVE_PATH, '*.jpg'), shuffle=False)\n",
    "\n",
    "# Shuffle them for randomness\n",
    "anchor_files = anchor_files.shuffle(1000, reshuffle_each_iteration=False)\n",
    "positive_files = positive_files.shuffle(1000, reshuffle_each_iteration=False)\n",
    "negative_files = negative_files.shuffle(1000, reshuffle_each_iteration=False)\n",
    "\n",
    "# Create labeled pairs\n",
    "# (anchor, positive, 1) --> same person\n",
    "# (anchor, negative, 0) --> different person\n",
    "positives = tf.data.Dataset.zip((anchor_files, positive_files, tf.data.Dataset.from_tensor_slices(tf.ones(len(anchor_files)))))\n",
    "negatives = tf.data.Dataset.zip((anchor_files, negative_files, tf.data.Dataset.from_tensor_slices(tf.zeros(len(anchor_files)))))\n",
    "\n",
    "# Combine them\n",
    "data = positives.concatenate(negatives)\n",
    "\n",
    "# Preprocessing function\n",
    "def preprocess(file_path):\n",
    "    byte_img = tf.io.read_file(file_path)\n",
    "    img = tf.io.decode_jpeg(byte_img)\n",
    "    img = tf.image.resize(img, (100, 100))\n",
    "    img = img / 255.0  # Normalize\n",
    "    return img\n",
    "\n",
    "# Preprocess twin pair\n",
    "def preprocess_twin(input_img, validation_img, label):\n",
    "    return (preprocess(input_img), preprocess(validation_img), label)\n",
    "\n",
    "# Map preprocessing to dataset\n",
    "data = data.map(preprocess_twin)\n",
    "\n",
    "# Cache, shuffle, batch and prefetch\n",
    "data = data.cache()\n",
    "data = data.shuffle(buffer_size=1000)\n",
    "data = data.batch(16)\n",
    "data = data.prefetch(8)\n",
    "\n",
    "# Split into train and test\n",
    "total_batches = len(list(data))\n",
    "train_size = int(0.7 * total_batches)\n",
    "train_data = data.take(train_size)\n",
    "test_data = data.skip(train_size)\n",
    "\n",
    "print(f\"✅ Train Batches: {train_size}\")\n",
    "print(f\"✅ Test Batches: {total_batches - train_size}\")\n"
   ]
  },
  {
   "cell_type": "code",
   "execution_count": null,
   "metadata": {},
   "outputs": [],
   "source": [
    "input_img, validation_img, label = example\n",
    "res = (preprocess(input_img), preprocess(validation_img), label)\n"
   ]
  },
  {
   "cell_type": "code",
   "execution_count": null,
   "metadata": {},
   "outputs": [
    {
     "name": "stdout",
     "output_type": "stream",
     "text": [
      "Attempting to load: data/anchor/74ea3dc3-6b16-11f0-88f6-ba2358a892e2.jpg\n"
     ]
    }
   ],
   "source": [
    "print(\"Attempting to load:\", file_path)\n"
   ]
  },
  {
   "cell_type": "code",
   "execution_count": null,
   "metadata": {},
   "outputs": [],
   "source": [
    "res = preprocess_twin(*example)"
   ]
  },
  {
   "cell_type": "code",
   "execution_count": null,
   "metadata": {},
   "outputs": [],
   "source": [
    "img = res[1]\n",
    "if hasattr(img, 'numpy'):\n",
    "    img = img.numpy()  # Convert tensor to numpy array\n"
   ]
  },
  {
   "cell_type": "code",
   "execution_count": null,
   "metadata": {},
   "outputs": [],
   "source": [
    "def preprocess(file_path):\n",
    "    byte_img = tf.io.read_file(file_path)\n",
    "    img = tf.io.decode_jpeg(byte_img)\n",
    "    img = tf.image.resize(img, (100, 100))\n",
    "    img = img / 255.0\n",
    "    # Ensure img is not None\n",
    "    assert img is not None, f\"Failed to process image: {file_path}\"\n",
    "    return img\n",
    "\n"
   ]
  },
  {
   "cell_type": "code",
   "execution_count": null,
   "metadata": {},
   "outputs": [],
   "source": [
    "def preprocess(file_path):\n",
    "    byte_img = tf.io.read_file(file_path)\n",
    "    img = tf.io.decode_jpeg(byte_img)\n",
    "    img = tf.image.resize(img, (100, 100))\n",
    "    img = img / 255.0\n",
    "    # Ensure img is not None\n",
    "    assert img is not None, f\"Failed to process image: {file_path}\"\n",
    "    return img\n"
   ]
  },
  {
   "cell_type": "code",
   "execution_count": null,
   "metadata": {},
   "outputs": [],
   "source": [
    "try:\n",
    "    byte_img = tf.io.read_file(file_path)\n",
    "    img = tf.io.decode_jpeg(byte_img)\n",
    "except Exception as e:\n",
    "    print(f\"Error reading or decoding {file_path}: {e}\")\n",
    "    img = None\n"
   ]
  },
  {
   "cell_type": "code",
   "execution_count": null,
   "metadata": {},
   "outputs": [],
   "source": [
    "try:\n",
    "    byte_img = tf.io.read_file(file_path)\n",
    "    img = tf.io.decode_jpeg(byte_img)\n",
    "except Exception as e:\n",
    "    print(f\"Error reading or decoding {file_path}: {e}\")\n",
    "    img = None\n"
   ]
  },
  {
   "cell_type": "code",
   "execution_count": null,
   "metadata": {},
   "outputs": [],
   "source": [
    "import os\n",
    "if not os.path.exists(file_path):\n",
    "    raise FileNotFoundError(f\"File does not exist: {file_path}\")\n",
    " "
   ]
  },
  {
   "cell_type": "code",
   "execution_count": null,
   "metadata": {},
   "outputs": [],
   "source": [
    "if img.ndim == 3 and img.shape[-1] == 1:\n",
    "    img = img.squeeze(-1)\n"
   ]
  },
  {
   "cell_type": "code",
   "execution_count": null,
   "metadata": {},
   "outputs": [
    {
     "data": {
      "text/plain": [
       "<matplotlib.image.AxesImage at 0x2955b2ad8b0>"
      ]
     },
     "execution_count": 133,
     "metadata": {},
     "output_type": "execute_result"
    },
    {
     "data": {
      "image/png": "[encoded data removed]",
      "text/plain": [
       "<Figure size 640x480 with 1 Axes>"
      ]
     },
     "metadata": {},
     "output_type": "display_data"
    }
   ],
   "source": [
    "plt.imshow(res[1].numpy())\n"
   ]
  },
  {
   "cell_type": "code",
   "execution_count": null,
   "metadata": {},
   "outputs": [
    {
     "data": {
      "text/plain": [
       "<matplotlib.image.AxesImage at 0x2955b2bfa70>"
      ]
     },
     "execution_count": 134,
     "metadata": {},
     "output_type": "execute_result"
    },
    {
     "data": {
      "image/png": "[encoded data removed]",
      "text/plain": [
       "<Figure size 640x480 with 1 Axes>"
      ]
     },
     "metadata": {},
     "output_type": "display_data"
    }
   ],
   "source": [
    "plt.imshow(res[1])"
   ]
  },
  {
   "cell_type": "code",
   "execution_count": null,
   "metadata": {},
   "outputs": [
    {
     "data": {
      "text/plain": [
       "1.0"
      ]
     },
     "execution_count": 135,
     "metadata": {},
     "output_type": "execute_result"
    }
   ],
   "source": [
    "res[2]"
   ]
  },
  {
   "cell_type": "code",
   "execution_count": null,
   "metadata": {},
   "outputs": [],
   "source": [
    "# Training partition\n",
    "train_data = data.take(round(len(data)*.7))\n",
    "train_data = train_data.batch(16)\n",
    "train_data = train_data.prefetch(8)"
   ]
  },
  {
   "cell_type": "code",
   "execution_count": null,
   "metadata": {},
   "outputs": [],
   "source": [
    "# Testing partition\n",
    "test_data = data.skip(round(len(data)*.7))\n",
    "test_data = test_data.take(round(len(data)*.3))\n",
    "test_data = test_data.batch(16)\n",
    "test_data = test_data.prefetch(8)"
   ]
  },
  {
   "cell_type": "markdown",
   "metadata": {},
   "source": [
    "# 4. Model Engineering"
   ]
  },
  {
   "cell_type": "markdown",
   "metadata": {},
   "source": [
    "## 4.1 Build Embedding Layer"
   ]
  },
  {
   "cell_type": "code",
   "execution_count": null,
   "metadata": {},
   "outputs": [],
   "source": [
    "inp = Input(shape=(100,100,3), name='input_image')"
   ]
  },
  {
   "cell_type": "code",
   "execution_count": null,
   "metadata": {},
   "outputs": [],
   "source": [
    "c1 = Conv2D(64, (10,10), activation='relu')(inp)"
   ]
  },
  {
   "cell_type": "code",
   "execution_count": null,
   "metadata": {},
   "outputs": [],
   "source": [
    "m1 = MaxPooling2D(64, (2,2), padding='same')(c1)"
   ]
  },
  {
   "cell_type": "code",
   "execution_count": null,
   "metadata": {},
   "outputs": [],
   "source": [
    "c2 = Conv2D(128, (7,7), activation='relu')(m1)\n",
    "m2 = MaxPooling2D(64, (2,2), padding='same')(c2)"
   ]
  },
  {
   "cell_type": "code",
   "execution_count": null,
   "metadata": {},
   "outputs": [],
   "source": [
    "c3 = Conv2D(128, (4,4), activation='relu')(m2)\n",
    "m3 = MaxPooling2D(64, (2,2), padding='same')(c3)"
   ]
  },
  {
   "cell_type": "code",
   "execution_count": null,
   "metadata": {},
   "outputs": [],
   "source": [
    "c4 = Conv2D(256, (4,4), activation='relu')(m3)\n",
    "f1 = Flatten()(c4)\n",
    "d1 = Dense(4096, activation='sigmoid')(f1)"
   ]
  },
  {
   "cell_type": "code",
   "execution_count": null,
   "metadata": {},
   "outputs": [],
   "source": [
    "mod = Model(inputs=[inp], outputs=[d1], name='embedding')"
   ]
  },
  {
   "cell_type": "code",
   "execution_count": null,
   "metadata": {},
   "outputs": [
    {
     "data": {
      "text/html": [
       "<pre style=\"white-space:pre;overflow-x:auto;line-height:normal;font-family:Menlo,'DejaVu Sans Mono',consolas,'Courier New',monospace\"><span style=\"font-weight: bold\">Model: \"embedding\"</span>\n",
       "</pre>\n"
      ],
      "text/plain": [
       "\u001b[1mModel: \"embedding\"\u001b[0m\n"
      ]
     },
     "metadata": {},
     "output_type": "display_data"
    },
    {
     "data": {
      "text/html": [
       "<pre style=\"white-space:pre;overflow-x:auto;line-height:normal;font-family:Menlo,'DejaVu Sans Mono',consolas,'Courier New',monospace\">┏━━━━━━━━━━━━━━━━━━━━━━━━━━━━━━━━━┳━━━━━━━━━━━━━━━━━━━━━━━━┳━━━━━━━━━━━━━━━┓\n",
       "┃<span style=\"font-weight: bold\"> Layer (type)                    </span>┃<span style=\"font-weight: bold\"> Output Shape           </span>┃<span style=\"font-weight: bold\">       Param # </span>┃\n",
       "┡━━━━━━━━━━━━━━━━━━━━━━━━━━━━━━━━━╇━━━━━━━━━━━━━━━━━━━━━━━━╇━━━━━━━━━━━━━━━┩\n",
       "│ input_image (<span style=\"color: #0087ff; text-decoration-color: #0087ff\">InputLayer</span>)        │ (<span style=\"color: #00d7ff; text-decoration-color: #00d7ff\">None</span>, <span style=\"color: #00af00; text-decoration-color: #00af00\">100</span>, <span style=\"color: #00af00; text-decoration-color: #00af00\">100</span>, <span style=\"color: #00af00; text-decoration-color: #00af00\">3</span>)    │             <span style=\"color: #00af00; text-decoration-color: #00af00\">0</span> │\n",
       "├─────────────────────────────────┼────────────────────────┼───────────────┤\n",
       "│ conv2d (<span style=\"color: #0087ff; text-decoration-color: #0087ff\">Conv2D</span>)                 │ (<span style=\"color: #00d7ff; text-decoration-color: #00d7ff\">None</span>, <span style=\"color: #00af00; text-decoration-color: #00af00\">91</span>, <span style=\"color: #00af00; text-decoration-color: #00af00\">91</span>, <span style=\"color: #00af00; text-decoration-color: #00af00\">64</span>)     │        <span style=\"color: #00af00; text-decoration-color: #00af00\">19,264</span> │\n",
       "├─────────────────────────────────┼────────────────────────┼───────────────┤\n",
       "│ max_pooling2d (<span style=\"color: #0087ff; text-decoration-color: #0087ff\">MaxPooling2D</span>)    │ (<span style=\"color: #00d7ff; text-decoration-color: #00d7ff\">None</span>, <span style=\"color: #00af00; text-decoration-color: #00af00\">46</span>, <span style=\"color: #00af00; text-decoration-color: #00af00\">46</span>, <span style=\"color: #00af00; text-decoration-color: #00af00\">64</span>)     │             <span style=\"color: #00af00; text-decoration-color: #00af00\">0</span> │\n",
       "├─────────────────────────────────┼────────────────────────┼───────────────┤\n",
       "│ conv2d_1 (<span style=\"color: #0087ff; text-decoration-color: #0087ff\">Conv2D</span>)               │ (<span style=\"color: #00d7ff; text-decoration-color: #00d7ff\">None</span>, <span style=\"color: #00af00; text-decoration-color: #00af00\">40</span>, <span style=\"color: #00af00; text-decoration-color: #00af00\">40</span>, <span style=\"color: #00af00; text-decoration-color: #00af00\">128</span>)    │       <span style=\"color: #00af00; text-decoration-color: #00af00\">401,536</span> │\n",
       "├─────────────────────────────────┼────────────────────────┼───────────────┤\n",
       "│ max_pooling2d_1 (<span style=\"color: #0087ff; text-decoration-color: #0087ff\">MaxPooling2D</span>)  │ (<span style=\"color: #00d7ff; text-decoration-color: #00d7ff\">None</span>, <span style=\"color: #00af00; text-decoration-color: #00af00\">20</span>, <span style=\"color: #00af00; text-decoration-color: #00af00\">20</span>, <span style=\"color: #00af00; text-decoration-color: #00af00\">128</span>)    │             <span style=\"color: #00af00; text-decoration-color: #00af00\">0</span> │\n",
       "├─────────────────────────────────┼────────────────────────┼───────────────┤\n",
       "│ conv2d_2 (<span style=\"color: #0087ff; text-decoration-color: #0087ff\">Conv2D</span>)               │ (<span style=\"color: #00d7ff; text-decoration-color: #00d7ff\">None</span>, <span style=\"color: #00af00; text-decoration-color: #00af00\">17</span>, <span style=\"color: #00af00; text-decoration-color: #00af00\">17</span>, <span style=\"color: #00af00; text-decoration-color: #00af00\">128</span>)    │       <span style=\"color: #00af00; text-decoration-color: #00af00\">262,272</span> │\n",
       "├─────────────────────────────────┼────────────────────────┼───────────────┤\n",
       "│ max_pooling2d_2 (<span style=\"color: #0087ff; text-decoration-color: #0087ff\">MaxPooling2D</span>)  │ (<span style=\"color: #00d7ff; text-decoration-color: #00d7ff\">None</span>, <span style=\"color: #00af00; text-decoration-color: #00af00\">9</span>, <span style=\"color: #00af00; text-decoration-color: #00af00\">9</span>, <span style=\"color: #00af00; text-decoration-color: #00af00\">128</span>)      │             <span style=\"color: #00af00; text-decoration-color: #00af00\">0</span> │\n",
       "├─────────────────────────────────┼────────────────────────┼───────────────┤\n",
       "│ conv2d_3 (<span style=\"color: #0087ff; text-decoration-color: #0087ff\">Conv2D</span>)               │ (<span style=\"color: #00d7ff; text-decoration-color: #00d7ff\">None</span>, <span style=\"color: #00af00; text-decoration-color: #00af00\">6</span>, <span style=\"color: #00af00; text-decoration-color: #00af00\">6</span>, <span style=\"color: #00af00; text-decoration-color: #00af00\">256</span>)      │       <span style=\"color: #00af00; text-decoration-color: #00af00\">524,544</span> │\n",
       "├─────────────────────────────────┼────────────────────────┼───────────────┤\n",
       "│ flatten (<span style=\"color: #0087ff; text-decoration-color: #0087ff\">Flatten</span>)               │ (<span style=\"color: #00d7ff; text-decoration-color: #00d7ff\">None</span>, <span style=\"color: #00af00; text-decoration-color: #00af00\">9216</span>)           │             <span style=\"color: #00af00; text-decoration-color: #00af00\">0</span> │\n",
       "├─────────────────────────────────┼────────────────────────┼───────────────┤\n",
       "│ dense (<span style=\"color: #0087ff; text-decoration-color: #0087ff\">Dense</span>)                   │ (<span style=\"color: #00d7ff; text-decoration-color: #00d7ff\">None</span>, <span style=\"color: #00af00; text-decoration-color: #00af00\">4096</span>)           │    <span style=\"color: #00af00; text-decoration-color: #00af00\">37,752,832</span> │\n",
       "└─────────────────────────────────┴────────────────────────┴───────────────┘\n",
       "</pre>\n"
      ],
      "text/plain": [
       "┏━━━━━━━━━━━━━━━━━━━━━━━━━━━━━━━━━┳━━━━━━━━━━━━━━━━━━━━━━━━┳━━━━━━━━━━━━━━━┓\n",
       "┃\u001b[1m \u001b[0m\u001b[1mLayer (type)                   \u001b[0m\u001b[1m \u001b[0m┃\u001b[1m \u001b[0m\u001b[1mOutput Shape          \u001b[0m\u001b[1m \u001b[0m┃\u001b[1m \u001b[0m\u001b[1m      Param #\u001b[0m\u001b[1m \u001b[0m┃\n",
       "┡━━━━━━━━━━━━━━━━━━━━━━━━━━━━━━━━━╇━━━━━━━━━━━━━━━━━━━━━━━━╇━━━━━━━━━━━━━━━┩\n",
       "│ input_image (\u001b[38;5;33mInputLayer\u001b[0m)        │ (\u001b[38;5;45mNone\u001b[0m, \u001b[38;5;34m100\u001b[0m, \u001b[38;5;34m100\u001b[0m, \u001b[38;5;34m3\u001b[0m)    │             \u001b[38;5;34m0\u001b[0m │\n",
       "├─────────────────────────────────┼────────────────────────┼───────────────┤\n",
       "│ conv2d (\u001b[38;5;33mConv2D\u001b[0m)                 │ (\u001b[38;5;45mNone\u001b[0m, \u001b[38;5;34m91\u001b[0m, \u001b[38;5;34m91\u001b[0m, \u001b[38;5;34m64\u001b[0m)     │        \u001b[38;5;34m19,264\u001b[0m │\n",
       "├─────────────────────────────────┼────────────────────────┼───────────────┤\n",
       "│ max_pooling2d (\u001b[38;5;33mMaxPooling2D\u001b[0m)    │ (\u001b[38;5;45mNone\u001b[0m, \u001b[38;5;34m46\u001b[0m, \u001b[38;5;34m46\u001b[0m, \u001b[38;5;34m64\u001b[0m)     │             \u001b[38;5;34m0\u001b[0m │\n",
       "├─────────────────────────────────┼────────────────────────┼───────────────┤\n",
       "│ conv2d_1 (\u001b[38;5;33mConv2D\u001b[0m)               │ (\u001b[38;5;45mNone\u001b[0m, \u001b[38;5;34m40\u001b[0m, \u001b[38;5;34m40\u001b[0m, \u001b[38;5;34m128\u001b[0m)    │       \u001b[38;5;34m401,536\u001b[0m │\n",
       "├─────────────────────────────────┼────────────────────────┼───────────────┤\n",
       "│ max_pooling2d_1 (\u001b[38;5;33mMaxPooling2D\u001b[0m)  │ (\u001b[38;5;45mNone\u001b[0m, \u001b[38;5;34m20\u001b[0m, \u001b[38;5;34m20\u001b[0m, \u001b[38;5;34m128\u001b[0m)    │             \u001b[38;5;34m0\u001b[0m │\n",
       "├─────────────────────────────────┼────────────────────────┼───────────────┤\n",
       "│ conv2d_2 (\u001b[38;5;33mConv2D\u001b[0m)               │ (\u001b[38;5;45mNone\u001b[0m, \u001b[38;5;34m17\u001b[0m, \u001b[38;5;34m17\u001b[0m, \u001b[38;5;34m128\u001b[0m)    │       \u001b[38;5;34m262,272\u001b[0m │\n",
       "├─────────────────────────────────┼────────────────────────┼───────────────┤\n",
       "│ max_pooling2d_2 (\u001b[38;5;33mMaxPooling2D\u001b[0m)  │ (\u001b[38;5;45mNone\u001b[0m, \u001b[38;5;34m9\u001b[0m, \u001b[38;5;34m9\u001b[0m, \u001b[38;5;34m128\u001b[0m)      │             \u001b[38;5;34m0\u001b[0m │\n",
       "├─────────────────────────────────┼────────────────────────┼───────────────┤\n",
       "│ conv2d_3 (\u001b[38;5;33mConv2D\u001b[0m)               │ (\u001b[38;5;45mNone\u001b[0m, \u001b[38;5;34m6\u001b[0m, \u001b[38;5;34m6\u001b[0m, \u001b[38;5;34m256\u001b[0m)      │       \u001b[38;5;34m524,544\u001b[0m │\n",
       "├─────────────────────────────────┼────────────────────────┼───────────────┤\n",
       "│ flatten (\u001b[38;5;33mFlatten\u001b[0m)               │ (\u001b[38;5;45mNone\u001b[0m, \u001b[38;5;34m9216\u001b[0m)           │             \u001b[38;5;34m0\u001b[0m │\n",
       "├─────────────────────────────────┼────────────────────────┼───────────────┤\n",
       "│ dense (\u001b[38;5;33mDense\u001b[0m)                   │ (\u001b[38;5;45mNone\u001b[0m, \u001b[38;5;34m4096\u001b[0m)           │    \u001b[38;5;34m37,752,832\u001b[0m │\n",
       "└─────────────────────────────────┴────────────────────────┴───────────────┘\n"
      ]
     },
     "metadata": {},
     "output_type": "display_data"
    },
    {
     "data": {
      "text/html": [
       "<pre style=\"white-space:pre;overflow-x:auto;line-height:normal;font-family:Menlo,'DejaVu Sans Mono',consolas,'Courier New',monospace\"><span style=\"font-weight: bold\"> Total params: </span><span style=\"color: #00af00; text-decoration-color: #00af00\">38,960,448</span> (148.62 MB)\n",
       "</pre>\n"
      ],
      "text/plain": [
       "\u001b[1m Total params: \u001b[0m\u001b[38;5;34m38,960,448\u001b[0m (148.62 MB)\n"
      ]
     },
     "metadata": {},
     "output_type": "display_data"
    },
    {
     "data": {
      "text/html": [
       "<pre style=\"white-space:pre;overflow-x:auto;line-height:normal;font-family:Menlo,'DejaVu Sans Mono',consolas,'Courier New',monospace\"><span style=\"font-weight: bold\"> Trainable params: </span><span style=\"color: #00af00; text-decoration-color: #00af00\">38,960,448</span> (148.62 MB)\n",
       "</pre>\n"
      ],
      "text/plain": [
       "\u001b[1m Trainable params: \u001b[0m\u001b[38;5;34m38,960,448\u001b[0m (148.62 MB)\n"
      ]
     },
     "metadata": {},
     "output_type": "display_data"
    },
    {
     "data": {
      "text/html": [
       "<pre style=\"white-space:pre;overflow-x:auto;line-height:normal;font-family:Menlo,'DejaVu Sans Mono',consolas,'Courier New',monospace\"><span style=\"font-weight: bold\"> Non-trainable params: </span><span style=\"color: #00af00; text-decoration-color: #00af00\">0</span> (0.00 B)\n",
       "</pre>\n"
      ],
      "text/plain": [
       "\u001b[1m Non-trainable params: \u001b[0m\u001b[38;5;34m0\u001b[0m (0.00 B)\n"
      ]
     },
     "metadata": {},
     "output_type": "display_data"
    }
   ],
   "source": [
    "mod.summary()"
   ]
  },
  {
   "cell_type": "code",
   "execution_count": null,
   "metadata": {},
   "outputs": [],
   "source": [
    "def make_embedding(): \n",
    "    inp = Input(shape=(100,100,3), name='input_image')\n",
    "    \n",
    "    # First block\n",
    "    c1 = Conv2D(64, (10,10), activation='relu')(inp)\n",
    "    m1 = MaxPooling2D(64, (2,2), padding='same')(c1)\n",
    "    \n",
    "    # Second block\n",
    "    c2 = Conv2D(128, (7,7), activation='relu')(m1)\n",
    "    m2 = MaxPooling2D(64, (2,2), padding='same')(c2)\n",
    "    \n",
    "    # Third block \n",
    "    c3 = Conv2D(128, (4,4), activation='relu')(m2)\n",
    "    m3 = MaxPooling2D(64, (2,2), padding='same')(c3)\n",
    "    \n",
    "    # Final embedding block\n",
    "    c4 = Conv2D(256, (4,4), activation='relu')(m3)\n",
    "    f1 = Flatten()(c4)\n",
    "    d1 = Dense(4096, activation='sigmoid')(f1)\n",
    "    \n",
    "    \n",
    "    return Model(inputs=[inp], outputs=[d1], name='embedding')"
   ]
  },
  {
   "cell_type": "code",
   "execution_count": null,
   "metadata": {},
   "outputs": [],
   "source": [
    "embedding = make_embedding()"
   ]
  },
  {
   "cell_type": "code",
   "execution_count": null,
   "metadata": {},
   "outputs": [
    {
     "data": {
      "text/html": [
       "<pre style=\"white-space:pre;overflow-x:auto;line-height:normal;font-family:Menlo,'DejaVu Sans Mono',consolas,'Courier New',monospace\"><span style=\"font-weight: bold\">Model: \"embedding\"</span>\n",
       "</pre>\n"
      ],
      "text/plain": [
       "\u001b[1mModel: \"embedding\"\u001b[0m\n"
      ]
     },
     "metadata": {},
     "output_type": "display_data"
    },
    {
     "data": {
      "text/html": [
       "<pre style=\"white-space:pre;overflow-x:auto;line-height:normal;font-family:Menlo,'DejaVu Sans Mono',consolas,'Courier New',monospace\">┏━━━━━━━━━━━━━━━━━━━━━━━━━━━━━━━━━┳━━━━━━━━━━━━━━━━━━━━━━━━┳━━━━━━━━━━━━━━━┓\n",
       "┃<span style=\"font-weight: bold\"> Layer (type)                    </span>┃<span style=\"font-weight: bold\"> Output Shape           </span>┃<span style=\"font-weight: bold\">       Param # </span>┃\n",
       "┡━━━━━━━━━━━━━━━━━━━━━━━━━━━━━━━━━╇━━━━━━━━━━━━━━━━━━━━━━━━╇━━━━━━━━━━━━━━━┩\n",
       "│ input_image (<span style=\"color: #0087ff; text-decoration-color: #0087ff\">InputLayer</span>)        │ (<span style=\"color: #00d7ff; text-decoration-color: #00d7ff\">None</span>, <span style=\"color: #00af00; text-decoration-color: #00af00\">100</span>, <span style=\"color: #00af00; text-decoration-color: #00af00\">100</span>, <span style=\"color: #00af00; text-decoration-color: #00af00\">3</span>)    │             <span style=\"color: #00af00; text-decoration-color: #00af00\">0</span> │\n",
       "├─────────────────────────────────┼────────────────────────┼───────────────┤\n",
       "│ conv2d_4 (<span style=\"color: #0087ff; text-decoration-color: #0087ff\">Conv2D</span>)               │ (<span style=\"color: #00d7ff; text-decoration-color: #00d7ff\">None</span>, <span style=\"color: #00af00; text-decoration-color: #00af00\">91</span>, <span style=\"color: #00af00; text-decoration-color: #00af00\">91</span>, <span style=\"color: #00af00; text-decoration-color: #00af00\">64</span>)     │        <span style=\"color: #00af00; text-decoration-color: #00af00\">19,264</span> │\n",
       "├─────────────────────────────────┼────────────────────────┼───────────────┤\n",
       "│ max_pooling2d_3 (<span style=\"color: #0087ff; text-decoration-color: #0087ff\">MaxPooling2D</span>)  │ (<span style=\"color: #00d7ff; text-decoration-color: #00d7ff\">None</span>, <span style=\"color: #00af00; text-decoration-color: #00af00\">46</span>, <span style=\"color: #00af00; text-decoration-color: #00af00\">46</span>, <span style=\"color: #00af00; text-decoration-color: #00af00\">64</span>)     │             <span style=\"color: #00af00; text-decoration-color: #00af00\">0</span> │\n",
       "├─────────────────────────────────┼────────────────────────┼───────────────┤\n",
       "│ conv2d_5 (<span style=\"color: #0087ff; text-decoration-color: #0087ff\">Conv2D</span>)               │ (<span style=\"color: #00d7ff; text-decoration-color: #00d7ff\">None</span>, <span style=\"color: #00af00; text-decoration-color: #00af00\">40</span>, <span style=\"color: #00af00; text-decoration-color: #00af00\">40</span>, <span style=\"color: #00af00; text-decoration-color: #00af00\">128</span>)    │       <span style=\"color: #00af00; text-decoration-color: #00af00\">401,536</span> │\n",
       "├─────────────────────────────────┼────────────────────────┼───────────────┤\n",
       "│ max_pooling2d_4 (<span style=\"color: #0087ff; text-decoration-color: #0087ff\">MaxPooling2D</span>)  │ (<span style=\"color: #00d7ff; text-decoration-color: #00d7ff\">None</span>, <span style=\"color: #00af00; text-decoration-color: #00af00\">20</span>, <span style=\"color: #00af00; text-decoration-color: #00af00\">20</span>, <span style=\"color: #00af00; text-decoration-color: #00af00\">128</span>)    │             <span style=\"color: #00af00; text-decoration-color: #00af00\">0</span> │\n",
       "├─────────────────────────────────┼────────────────────────┼───────────────┤\n",
       "│ conv2d_6 (<span style=\"color: #0087ff; text-decoration-color: #0087ff\">Conv2D</span>)               │ (<span style=\"color: #00d7ff; text-decoration-color: #00d7ff\">None</span>, <span style=\"color: #00af00; text-decoration-color: #00af00\">17</span>, <span style=\"color: #00af00; text-decoration-color: #00af00\">17</span>, <span style=\"color: #00af00; text-decoration-color: #00af00\">128</span>)    │       <span style=\"color: #00af00; text-decoration-color: #00af00\">262,272</span> │\n",
       "├─────────────────────────────────┼────────────────────────┼───────────────┤\n",
       "│ max_pooling2d_5 (<span style=\"color: #0087ff; text-decoration-color: #0087ff\">MaxPooling2D</span>)  │ (<span style=\"color: #00d7ff; text-decoration-color: #00d7ff\">None</span>, <span style=\"color: #00af00; text-decoration-color: #00af00\">9</span>, <span style=\"color: #00af00; text-decoration-color: #00af00\">9</span>, <span style=\"color: #00af00; text-decoration-color: #00af00\">128</span>)      │             <span style=\"color: #00af00; text-decoration-color: #00af00\">0</span> │\n",
       "├─────────────────────────────────┼────────────────────────┼───────────────┤\n",
       "│ conv2d_7 (<span style=\"color: #0087ff; text-decoration-color: #0087ff\">Conv2D</span>)               │ (<span style=\"color: #00d7ff; text-decoration-color: #00d7ff\">None</span>, <span style=\"color: #00af00; text-decoration-color: #00af00\">6</span>, <span style=\"color: #00af00; text-decoration-color: #00af00\">6</span>, <span style=\"color: #00af00; text-decoration-color: #00af00\">256</span>)      │       <span style=\"color: #00af00; text-decoration-color: #00af00\">524,544</span> │\n",
       "├─────────────────────────────────┼────────────────────────┼───────────────┤\n",
       "│ flatten_1 (<span style=\"color: #0087ff; text-decoration-color: #0087ff\">Flatten</span>)             │ (<span style=\"color: #00d7ff; text-decoration-color: #00d7ff\">None</span>, <span style=\"color: #00af00; text-decoration-color: #00af00\">9216</span>)           │             <span style=\"color: #00af00; text-decoration-color: #00af00\">0</span> │\n",
       "├─────────────────────────────────┼────────────────────────┼───────────────┤\n",
       "│ dense_1 (<span style=\"color: #0087ff; text-decoration-color: #0087ff\">Dense</span>)                 │ (<span style=\"color: #00d7ff; text-decoration-color: #00d7ff\">None</span>, <span style=\"color: #00af00; text-decoration-color: #00af00\">4096</span>)           │    <span style=\"color: #00af00; text-decoration-color: #00af00\">37,752,832</span> │\n",
       "└─────────────────────────────────┴────────────────────────┴───────────────┘\n",
       "</pre>\n"
      ],
      "text/plain": [
       "┏━━━━━━━━━━━━━━━━━━━━━━━━━━━━━━━━━┳━━━━━━━━━━━━━━━━━━━━━━━━┳━━━━━━━━━━━━━━━┓\n",
       "┃\u001b[1m \u001b[0m\u001b[1mLayer (type)                   \u001b[0m\u001b[1m \u001b[0m┃\u001b[1m \u001b[0m\u001b[1mOutput Shape          \u001b[0m\u001b[1m \u001b[0m┃\u001b[1m \u001b[0m\u001b[1m      Param #\u001b[0m\u001b[1m \u001b[0m┃\n",
       "┡━━━━━━━━━━━━━━━━━━━━━━━━━━━━━━━━━╇━━━━━━━━━━━━━━━━━━━━━━━━╇━━━━━━━━━━━━━━━┩\n",
       "│ input_image (\u001b[38;5;33mInputLayer\u001b[0m)        │ (\u001b[38;5;45mNone\u001b[0m, \u001b[38;5;34m100\u001b[0m, \u001b[38;5;34m100\u001b[0m, \u001b[38;5;34m3\u001b[0m)    │             \u001b[38;5;34m0\u001b[0m │\n",
       "├─────────────────────────────────┼────────────────────────┼───────────────┤\n",
       "│ conv2d_4 (\u001b[38;5;33mConv2D\u001b[0m)               │ (\u001b[38;5;45mNone\u001b[0m, \u001b[38;5;34m91\u001b[0m, \u001b[38;5;34m91\u001b[0m, \u001b[38;5;34m64\u001b[0m)     │        \u001b[38;5;34m19,264\u001b[0m │\n",
       "├─────────────────────────────────┼────────────────────────┼───────────────┤\n",
       "│ max_pooling2d_3 (\u001b[38;5;33mMaxPooling2D\u001b[0m)  │ (\u001b[38;5;45mNone\u001b[0m, \u001b[38;5;34m46\u001b[0m, \u001b[38;5;34m46\u001b[0m, \u001b[38;5;34m64\u001b[0m)     │             \u001b[38;5;34m0\u001b[0m │\n",
       "├─────────────────────────────────┼────────────────────────┼───────────────┤\n",
       "│ conv2d_5 (\u001b[38;5;33mConv2D\u001b[0m)               │ (\u001b[38;5;45mNone\u001b[0m, \u001b[38;5;34m40\u001b[0m, \u001b[38;5;34m40\u001b[0m, \u001b[38;5;34m128\u001b[0m)    │       \u001b[38;5;34m401,536\u001b[0m │\n",
       "├─────────────────────────────────┼────────────────────────┼───────────────┤\n",
       "│ max_pooling2d_4 (\u001b[38;5;33mMaxPooling2D\u001b[0m)  │ (\u001b[38;5;45mNone\u001b[0m, \u001b[38;5;34m20\u001b[0m, \u001b[38;5;34m20\u001b[0m, \u001b[38;5;34m128\u001b[0m)    │             \u001b[38;5;34m0\u001b[0m │\n",
       "├─────────────────────────────────┼────────────────────────┼───────────────┤\n",
       "│ conv2d_6 (\u001b[38;5;33mConv2D\u001b[0m)               │ (\u001b[38;5;45mNone\u001b[0m, \u001b[38;5;34m17\u001b[0m, \u001b[38;5;34m17\u001b[0m, \u001b[38;5;34m128\u001b[0m)    │       \u001b[38;5;34m262,272\u001b[0m │\n",
       "├─────────────────────────────────┼────────────────────────┼───────────────┤\n",
       "│ max_pooling2d_5 (\u001b[38;5;33mMaxPooling2D\u001b[0m)  │ (\u001b[38;5;45mNone\u001b[0m, \u001b[38;5;34m9\u001b[0m, \u001b[38;5;34m9\u001b[0m, \u001b[38;5;34m128\u001b[0m)      │             \u001b[38;5;34m0\u001b[0m │\n",
       "├─────────────────────────────────┼────────────────────────┼───────────────┤\n",
       "│ conv2d_7 (\u001b[38;5;33mConv2D\u001b[0m)               │ (\u001b[38;5;45mNone\u001b[0m, \u001b[38;5;34m6\u001b[0m, \u001b[38;5;34m6\u001b[0m, \u001b[38;5;34m256\u001b[0m)      │       \u001b[38;5;34m524,544\u001b[0m │\n",
       "├─────────────────────────────────┼────────────────────────┼───────────────┤\n",
       "│ flatten_1 (\u001b[38;5;33mFlatten\u001b[0m)             │ (\u001b[38;5;45mNone\u001b[0m, \u001b[38;5;34m9216\u001b[0m)           │             \u001b[38;5;34m0\u001b[0m │\n",
       "├─────────────────────────────────┼────────────────────────┼───────────────┤\n",
       "│ dense_1 (\u001b[38;5;33mDense\u001b[0m)                 │ (\u001b[38;5;45mNone\u001b[0m, \u001b[38;5;34m4096\u001b[0m)           │    \u001b[38;5;34m37,752,832\u001b[0m │\n",
       "└─────────────────────────────────┴────────────────────────┴───────────────┘\n"
      ]
     },
     "metadata": {},
     "output_type": "display_data"
    },
    {
     "data": {
      "text/html": [
       "<pre style=\"white-space:pre;overflow-x:auto;line-height:normal;font-family:Menlo,'DejaVu Sans Mono',consolas,'Courier New',monospace\"><span style=\"font-weight: bold\"> Total params: </span><span style=\"color: #00af00; text-decoration-color: #00af00\">38,960,448</span> (148.62 MB)\n",
       "</pre>\n"
      ],
      "text/plain": [
       "\u001b[1m Total params: \u001b[0m\u001b[38;5;34m38,960,448\u001b[0m (148.62 MB)\n"
      ]
     },
     "metadata": {},
     "output_type": "display_data"
    },
    {
     "data": {
      "text/html": [
       "<pre style=\"white-space:pre;overflow-x:auto;line-height:normal;font-family:Menlo,'DejaVu Sans Mono',consolas,'Courier New',monospace\"><span style=\"font-weight: bold\"> Trainable params: </span><span style=\"color: #00af00; text-decoration-color: #00af00\">38,960,448</span> (148.62 MB)\n",
       "</pre>\n"
      ],
      "text/plain": [
       "\u001b[1m Trainable params: \u001b[0m\u001b[38;5;34m38,960,448\u001b[0m (148.62 MB)\n"
      ]
     },
     "metadata": {},
     "output_type": "display_data"
    },
    {
     "data": {
      "text/html": [
       "<pre style=\"white-space:pre;overflow-x:auto;line-height:normal;font-family:Menlo,'DejaVu Sans Mono',consolas,'Courier New',monospace\"><span style=\"font-weight: bold\"> Non-trainable params: </span><span style=\"color: #00af00; text-decoration-color: #00af00\">0</span> (0.00 B)\n",
       "</pre>\n"
      ],
      "text/plain": [
       "\u001b[1m Non-trainable params: \u001b[0m\u001b[38;5;34m0\u001b[0m (0.00 B)\n"
      ]
     },
     "metadata": {},
     "output_type": "display_data"
    }
   ],
   "source": [
    "embedding.summary()"
   ]
  },
  {
   "cell_type": "markdown",
   "metadata": {},
   "source": [
    "## 4.2 Build Distance Layer"
   ]
  },
  {
   "cell_type": "code",
   "execution_count": null,
   "metadata": {},
   "outputs": [],
   "source": [
    "# Siamese L1 Distance class\n",
    "class L1Dist(Layer):\n",
    "    \n",
    "    # Init method - inheritance\n",
    "    def __init__(self, **kwargs):\n",
    "        super().__init__()\n",
    "       \n",
    "    # Magic happens here - similarity calculation\n",
    "    def call(self, input_embedding, validation_embedding):\n",
    "        return tf.math.abs(input_embedding - validation_embedding)"
   ]
  },
  {
   "cell_type": "code",
   "execution_count": null,
   "metadata": {},
   "outputs": [],
   "source": [
    "l1 = L1Dist()"
   ]
  },
  {
   "cell_type": "code",
   "execution_count": null,
   "metadata": {},
   "outputs": [],
   "source": [
    "import os\n",
    "import tensorflow as tf\n",
    "\n",
    "# Define paths\n",
    "ANC_PATH = 'data/anchor'\n",
    "POS_PATH = 'data/positive'\n",
    "\n",
    "# Define preprocess function\n",
    "def preprocess(file_path):\n",
    "    byte_img = tf.io.read_file(file_path)\n",
    "    img = tf.io.decode_jpeg(byte_img)\n",
    "    img = tf.image.resize(img, (100, 100))\n",
    "    img = img / 255.0\n",
    "    return img\n",
    "\n",
    "# Pick sample image paths (make sure these exist in your folders)\n",
    "anchor_path = os.path.join(ANC_PATH, os.listdir(ANC_PATH)[0])\n",
    "positive_path = os.path.join(POS_PATH, os.listdir(POS_PATH)[0])\n",
    "\n",
    "# Preprocess images\n",
    "anchor_img = preprocess(anchor_path)\n",
    "positive_img = preprocess(positive_path)\n",
    "\n",
    "# Expand dimensions for model prediction\n",
    "anchor_img = tf.expand_dims(anchor_img, axis=0)\n",
    "positive_img = tf.expand_dims(positive_img, axis=0)\n",
    "\n",
    "# Load your embedding model here\n",
    "# For example, if you have already defined and compiled it as `embedding_model`\n",
    "# anchor_embedding = embedding_model(anchor_img)\n",
    "# positive_embedding = embedding_model(positive_img)\n",
    "\n",
    "# If your model is called `siamese_model`, you can also do:\n",
    "# prediction = siamese_model.predict([anchor_img, positive_img])\n"
   ]
  },
  {
   "cell_type": "code",
   "execution_count": null,
   "metadata": {},
   "outputs": [
    {
     "name": "stdout",
     "output_type": "stream",
     "text": [
      "Anchor images: ['74ea3dc3-6b16-11f0-88f6-ba2358a892e2.jpg', '74ee2fe3-6b16-11f0-bf6a-ba2358a892e2.jpg', '74f2a688-6b16-11f0-af33-ba2358a892e2.jpg', '74f7ce50-6b16-11f0-8669-ba2358a892e2.jpg', '752524ba-6b16-11f0-96c7-ba2358a892e2.jpg', '75411605-6b16-11f0-859c-ba2358a892e2.jpg', '754610ad-6b16-11f0-86b9-ba2358a892e2.jpg', '7557f42a-6b16-11f0-b8fd-ba2358a892e2.jpg', '756a4c4b-6b16-11f0-9b12-ba2358a892e2.jpg', '758145e8-6b16-11f0-ba96-ba2358a892e2.jpg', '75860d4e-6b16-11f0-874b-ba2358a892e2.jpg', '75a19a1a-6b16-11f0-a245-ba2358a892e2.jpg', '75af654f-6b16-11f0-a8bf-ba2358a892e2.jpg', '75b3d22f-6b16-11f0-9f17-ba2358a892e2.jpg', '75b88f78-6b16-11f0-b314-ba2358a892e2.jpg', '75d988ad-6b16-11f0-b1d5-ba2358a892e2.jpg', '75e64cc9-6b16-11f0-aee2-ba2358a892e2.jpg', '75eb5fa7-6b16-11f0-9999-ba2358a892e2.jpg', '760c81f7-6b16-11f0-b03d-ba2358a892e2.jpg', '76193a8f-6b16-11f0-9be5-ba2358a892e2.jpg', '762d8d2c-6b16-11f0-af80-ba2358a892e2.jpg', '764757ee-6b16-11f0-b49e-ba2358a892e2.jpg', '765fb69a-6b16-11f0-a802-ba2358a892e2.jpg', '76671292-6b16-11f0-b059-ba2358a892e2.jpg', '766be147-6b16-11f0-9f0c-ba2358a892e2.jpg', '7670e191-6b16-11f0-94d7-ba2358a892e2.jpg', '7675e4f4-6b16-11f0-a06b-ba2358a892e2.jpg', '7684c58a-6b16-11f0-9377-ba2358a892e2.jpg', '76897135-6b16-11f0-936f-ba2358a892e2.jpg', '7690a77c-6b16-11f0-b70f-ba2358a892e2.jpg', '7695fb34-6b16-11f0-aab8-ba2358a892e2.jpg', '76a7b5db-6b16-11f0-88c4-ba2358a892e2.jpg', '76acc8ab-6b16-11f0-9c0c-ba2358a892e2.jpg', '76b1c1c7-6b16-11f0-8bfe-ba2358a892e2.jpg', '76b5b6a4-6b16-11f0-8d21-ba2358a892e2.jpg', '76bec9e1-6b16-11f0-914f-ba2358a892e2.jpg', '76c39752-6b16-11f0-8e35-ba2358a892e2.jpg', '76c8db06-6b16-11f0-a38a-ba2358a892e2.jpg', '76ce0450-6b16-11f0-8bf0-ba2358a892e2.jpg', '76d0e944-6b16-11f0-920e-ba2358a892e2.jpg', '76da6e9f-6b16-11f0-87e7-ba2358a892e2.jpg', '76dec40e-6b16-11f0-b64e-ba2358a892e2.jpg', '76e614af-6b16-11f0-9a10-ba2358a892e2.jpg', '76eb0a0f-6b16-11f0-96e7-ba2358a892e2.jpg', '76f15317-6b16-11f0-9d33-ba2358a892e2.jpg', '76f6a4b0-6b16-11f0-b98e-ba2358a892e2.jpg', '76fa5100-6b16-11f0-ae36-ba2358a892e2.jpg', '7700e69a-6b16-11f0-9af5-ba2358a892e2.jpg', '77088c20-6b16-11f0-b189-ba2358a892e2.jpg', '770d6f3e-6b16-11f0-991e-ba2358a892e2.jpg', '771266cd-6b16-11f0-9397-ba2358a892e2.jpg', '7716fa76-6b16-11f0-b435-ba2358a892e2.jpg', '771ba4da-6b16-11f0-9b3e-ba2358a892e2.jpg', '7720ae1a-6b16-11f0-ac94-ba2358a892e2.jpg', '772828a1-6b16-11f0-9477-ba2358a892e2.jpg', '772d302b-6b16-11f0-869a-ba2358a892e2.jpg', '77323b47-6b16-11f0-97c7-ba2358a892e2.jpg', '77372ae4-6b16-11f0-b7f3-ba2358a892e2.jpg', '773be7ac-6b16-11f0-a7bd-ba2358a892e2.jpg', '7740eead-6b16-11f0-8b5d-ba2358a892e2.jpg', '774570c6-6b16-11f0-9ee7-ba2358a892e2.jpg', '774a8e5a-6b16-11f0-8264-ba2358a892e2.jpg', '7753ef8b-6b16-11f0-a7ea-ba2358a892e2.jpg', '775db411-6b16-11f0-a417-ba2358a892e2.jpg', '7764fc41-6b16-11f0-9d35-ba2358a892e2.jpg', '7769eb18-6b16-11f0-9f0f-ba2358a892e2.jpg', '776efff9-6b16-11f0-94fc-ba2358a892e2.jpg', '7773efb4-6b16-11f0-b3a6-ba2358a892e2.jpg', '7778cd07-6b16-11f0-97f8-ba2358a892e2.jpg', '777dddd9-6b16-11f0-b13c-ba2358a892e2.jpg', '7784db4c-6b16-11f0-8da2-ba2358a892e2.jpg', '77893f02-6b16-11f0-a413-ba2358a892e2.jpg', '778f061c-6b16-11f0-bffd-ba2358a892e2.jpg', '779298a6-6b16-11f0-b640-ba2358a892e2.jpg', '779bd396-6b16-11f0-a8b0-ba2358a892e2.jpg', '77a0de4f-6b16-11f0-ae28-ba2358a892e2.jpg', '77a73a1b-6b16-11f0-9976-ba2358a892e2.jpg', '77ac19f0-6b16-11f0-8639-ba2358a892e2.jpg', '77b2a12a-6b16-11f0-922c-ba2358a892e2.jpg', '77b7bff7-6b16-11f0-9972-ba2358a892e2.jpg', '77bccae5-6b16-11f0-a78a-ba2358a892e2.jpg', '77c1e31b-6b16-11f0-9c7e-ba2358a892e2.jpg', '77ce3a57-6b16-11f0-a922-ba2358a892e2.jpg', '77d2f33c-6b16-11f0-aa7f-ba2358a892e2.jpg', '77d78af9-6b16-11f0-b922-ba2358a892e2.jpg', '77dc7c8f-6b16-11f0-97bf-ba2358a892e2.jpg', '77e43e3c-6b16-11f0-8809-ba2358a892e2.jpg', '77efb926-6b16-11f0-9b3b-ba2358a892e2.jpg', '77f30a57-6b16-11f0-92e0-ba2358a892e2.jpg', '77f838f4-6b16-11f0-938b-ba2358a892e2.jpg', '77fcf48c-6b16-11f0-b805-ba2358a892e2.jpg', '78019030-6b16-11f0-88aa-ba2358a892e2.jpg', '78062ae9-6b16-11f0-b199-ba2358a892e2.jpg', '780b0c2f-6b16-11f0-a617-ba2358a892e2.jpg', '780fea76-6b16-11f0-aa9e-ba2358a892e2.jpg', 'sample_anchor.jpg']\n",
      "Positive images: ['sample_positive.jpg', 'WIN_20250727_23_54_31_Pro.jpg', 'WIN_20250727_23_54_33_Pro.jpg', 'WIN_20250727_23_54_35_Pro.jpg', 'WIN_20250727_23_54_36_Pro.jpg', 'WIN_20250727_23_54_38_Pro.jpg']\n"
     ]
    }
   ],
   "source": [
    "import os\n",
    "\n",
    "# Print all filenames in the anchor and positive folders\n",
    "print(\"Anchor images:\", os.listdir('data/anchor'))\n",
    "print(\"Positive images:\", os.listdir('data/positive'))\n"
   ]
  },
  {
   "cell_type": "code",
   "execution_count": null,
   "metadata": {},
   "outputs": [
    {
     "name": "stdout",
     "output_type": "stream",
     "text": [
      "Anchor Exists: True\n",
      "Validation Exists: True\n"
     ]
    }
   ],
   "source": [
    "# Example: set anchor and validation image paths (replace with real filenames that exist in your folders)\n",
    "anchor_path = 'data/anchor/74ea3dc3-6b16-11f0-88f6-ba2358a892e2.jpg'\n",
    "validation_path = 'data/positive/sample_positive.jpg'\n",
    "\n",
    "# Make sure the files exist!\n",
    "import os\n",
    "print(\"Anchor Exists:\", os.path.isfile(anchor_path))\n",
    "print(\"Validation Exists:\", os.path.isfile(validation_path))\n",
    "\n",
    "# Now preprocess\n",
    "anchor_img = preprocess(anchor_path)\n",
    "validation_img = preprocess(validation_path)\n"
   ]
  },
  {
   "cell_type": "code",
   "execution_count": null,
   "metadata": {},
   "outputs": [],
   "source": [
    "import tensorflow as tf\n",
    "\n",
    "# Define custom L1 Distance layer\n",
    "class L1Dist(tf.keras.layers.Layer):\n",
    "    def __init__(self, **kwargs):\n",
    "        super().__init__()\n",
    "\n",
    "    def call(self, input_embedding, validation_embedding):\n",
    "        return tf.math.abs(input_embedding - validation_embedding)\n"
   ]
  },
  {
   "cell_type": "markdown",
   "metadata": {},
   "source": [
    "###Step-by-Step Siamese Model Creation & Training"
   ]
  },
  {
   "cell_type": "markdown",
   "metadata": {},
   "source": [
    "Step 1: Define the L1 Distance Layer"
   ]
  },
  {
   "cell_type": "code",
   "execution_count": null,
   "metadata": {},
   "outputs": [],
   "source": [
    "import tensorflow as tf\n",
    "from tensorflow.keras.layers import Layer\n",
    "\n",
    "class L1Dist(Layer):\n",
    "    def __init__(self, **kwargs):\n",
    "        super().__init__()\n",
    "\n",
    "    def call(self, input_embedding, validation_embedding):\n",
    "        return tf.math.abs(input_embedding - validation_embedding)\n"
   ]
  },
  {
   "cell_type": "markdown",
   "metadata": {},
   "source": [
    " Step 2: Define the Siamese Network"
   ]
  },
  {
   "cell_type": "code",
   "execution_count": null,
   "metadata": {},
   "outputs": [],
   "source": [
    "from tensorflow.keras.models import Model\n",
    "from tensorflow.keras.layers import Input, Conv2D, MaxPooling2D, Flatten, Dense\n",
    "\n",
    "def make_embedding_model():\n",
    "    input = Input(shape=(100, 100, 3))  # Adjust shape as per your data\n",
    "\n",
    "    x = Conv2D(64, (10,10), activation='relu')(input)\n",
    "    x = MaxPooling2D()(x)\n",
    "    x = Conv2D(128, (7,7), activation='relu')(x)\n",
    "    x = MaxPooling2D()(x)\n",
    "    x = Conv2D(128, (4,4), activation='relu')(x)\n",
    "    x = MaxPooling2D()(x)\n",
    "    x = Conv2D(256, (4,4), activation='relu')(x)\n",
    "    x = Flatten()(x)\n",
    "    x = Dense(4096, activation='sigmoid')(x)\n",
    "\n",
    "    return Model(inputs=input, outputs=x, name=\"Embedding\")\n"
   ]
  },
  {
   "cell_type": "markdown",
   "metadata": {},
   "source": [
    "def make_siamese_model():\n",
    "    input_img = Input(name='input_img', shape=(100, 100, 3))\n",
    "    validation_img = Input(name='validation_img', shape=(100, 100, 3))\n",
    "\n",
    "    embedding = make_embedding_model()\n",
    "\n",
    "    input_embedding = embedding(input_img)\n",
    "    validation_embedding = embedding(validation_img)\n",
    "\n",
    "    l1_distance = L1Dist()(input_embedding, validation_embedding)\n",
    "    output = Dense(1, activation='sigmoid')(l1_distance)\n",
    "\n",
    "    return Model(inputs=[input_img, validation_img], outputs=output, name=\"SiameseModel\")\n"
   ]
  },
  {
   "cell_type": "code",
   "execution_count": null,
   "metadata": {},
   "outputs": [],
   "source": [
    "def make_siamese_model():\n",
    "    input_img = Input(name='input_img', shape=(100, 100, 3))\n",
    "    validation_img = Input(name='validation_img', shape=(100, 100, 3))\n",
    "\n",
    "    embedding = make_embedding_model()\n",
    "\n",
    "    input_embedding = embedding(input_img)\n",
    "    validation_embedding = embedding(validation_img)\n",
    "\n",
    "    l1_distance = L1Dist()(input_embedding, validation_embedding)\n",
    "    output = Dense(1, activation='sigmoid')(l1_distance)\n",
    "\n",
    "    return Model(inputs=[input_img, validation_img], outputs=output, name=\"SiameseModel\")\n"
   ]
  },
  {
   "cell_type": "markdown",
   "metadata": {},
   "source": [
    "\n",
    "🏋️ Step 3: Compile and Train"
   ]
  },
  {
   "cell_type": "code",
   "execution_count": null,
   "metadata": {},
   "outputs": [
    {
     "name": "stdout",
     "output_type": "stream",
     "text": [
      "WARNING:tensorflow:From c:\\Users\\ASUS\\aditya\\Lib\\site-packages\\keras\\src\\backend\\tensorflow\\core.py:232: The name tf.placeholder is deprecated. Please use tf.compat.v1.placeholder instead.\n",
      "\n",
      "\u001b[1m1/1\u001b[0m \u001b[32m━━━━━━━━━━━━━━━━━━━━\u001b[0m\u001b[37m\u001b[0m \u001b[1m12s\u001b[0m 12s/step - accuracy: 0.3000 - loss: 0.6933\n"
     ]
    },
    {
     "data": {
      "text/plain": [
       "<keras.src.callbacks.history.History at 0x29567312f00>"
      ]
     },
     "execution_count": 187,
     "metadata": {},
     "output_type": "execute_result"
    }
   ],
   "source": [
    "siamese_model = make_siamese_model()\n",
    "siamese_model.compile(optimizer='adam', loss='binary_crossentropy', metrics=['accuracy'])\n",
    "\n",
    "# Dummy training data for testing the flow\n",
    "import numpy as np\n",
    "X1 = np.random.rand(10, 100, 100, 3)\n",
    "X2 = np.random.rand(10, 100, 100, 3)\n",
    "y = np.random.randint(0, 2, 10)\n",
    "\n",
    "# Train for 1 epoch just to create the model weights\n",
    "siamese_model.fit([X1, X2], y, epochs=1)\n"
   ]
  },
  {
   "cell_type": "markdown",
   "metadata": {},
   "source": [
    " Step 4: Save the Model\n",
    " "
   ]
  },
  {
   "cell_type": "code",
   "execution_count": null,
   "metadata": {},
   "outputs": [
    {
     "name": "stderr",
     "output_type": "stream",
     "text": [
      "WARNING:absl:You are saving your model as an HDF5 file via `model.save()` or `keras.saving.save_model(model)`. This file format is considered legacy. We recommend using instead the native Keras format, e.g. `model.save('my_model.keras')` or `keras.saving.save_model(model, 'my_model.keras')`. \n"
     ]
    }
   ],
   "source": [
    "siamese_model.save('siamese_model.h5')\n"
   ]
  },
  {
   "cell_type": "markdown",
   "metadata": {},
   "source": [
    "✅ Now You Can Load It Later With"
   ]
  },
  {
   "cell_type": "code",
   "execution_count": null,
   "metadata": {},
   "outputs": [
    {
     "name": "stderr",
     "output_type": "stream",
     "text": [
      "WARNING:absl:Compiled the loaded model, but the compiled metrics have yet to be built. `model.compile_metrics` will be empty until you train or evaluate the model.\n"
     ]
    }
   ],
   "source": [
    "from tensorflow.keras.models import load_model\n",
    "siamese_model = load_model('siamese_model.h5', custom_objects={'L1Dist': L1Dist, 'tf': tf})\n"
   ]
  },
  {
   "cell_type": "code",
   "execution_count": null,
   "metadata": {},
   "outputs": [],
   "source": [
    "embedding_model = make_embedding_model()\n"
   ]
  },
  {
   "cell_type": "code",
   "execution_count": null,
   "metadata": {},
   "outputs": [],
   "source": [
    "siamese_model.embedding = embedding_model  # <-- This is NOT saved by .save()\n"
   ]
  },
  {
   "cell_type": "markdown",
   "metadata": {},
   "source": [
    " The Correct Way: Recreate the Embedding Model Separately"
   ]
  },
  {
   "cell_type": "markdown",
   "metadata": {},
   "source": [
    "✅ Step 1: Rebuild the Embedding Model"
   ]
  },
  {
   "cell_type": "code",
   "execution_count": null,
   "metadata": {},
   "outputs": [],
   "source": [
    "def make_embedding_model():\n",
    "    from tensorflow.keras.models import Model\n",
    "    from tensorflow.keras.layers import Input, Conv2D, MaxPooling2D, Flatten, Dense\n",
    "\n",
    "    input = Input(shape=(100, 100, 3))  # Adjust to your input shape\n",
    "\n",
    "    x = Conv2D(64, (10,10), activation='relu')(input)\n",
    "    x = MaxPooling2D()(x)\n",
    "    x = Conv2D(128, (7,7), activation='relu')(x)\n",
    "    x = MaxPooling2D()(x)\n",
    "    x = Conv2D(128, (4,4), activation='relu')(x)\n",
    "    x = MaxPooling2D()(x)\n",
    "    x = Conv2D(256, (4,4), activation='relu')(x)\n",
    "    x = Flatten()(x)\n",
    "    x = Dense(4096, activation='sigmoid')(x)\n",
    "\n",
    "    return Model(inputs=input, outputs=x, name=\"Embedding\")\n"
   ]
  },
  {
   "cell_type": "markdown",
   "metadata": {},
   "source": [
    "✅ Step 2: Rebuild and Copy Weights (If Needed)"
   ]
  },
  {
   "cell_type": "code",
   "execution_count": null,
   "metadata": {},
   "outputs": [
    {
     "name": "stderr",
     "output_type": "stream",
     "text": [
      "WARNING:absl:You are saving your model as an HDF5 file via `model.save()` or `keras.saving.save_model(model)`. This file format is considered legacy. We recommend using instead the native Keras format, e.g. `model.save('my_model.keras')` or `keras.saving.save_model(model, 'my_model.keras')`. \n",
      "WARNING:absl:You are saving your model as an HDF5 file via `model.save()` or `keras.saving.save_model(model)`. This file format is considered legacy. We recommend using instead the native Keras format, e.g. `model.save('my_model.keras')` or `keras.saving.save_model(model, 'my_model.keras')`. \n"
     ]
    }
   ],
   "source": [
    "embedding_model = make_embedding_model()\n",
    "siamese_model = make_siamese_model()\n",
    "\n",
    "# Save both models\n",
    "siamese_model.save('siamese_model.h5')\n",
    "embedding_model.save('embedding_model.h5')\n"
   ]
  },
  {
   "cell_type": "code",
   "execution_count": null,
   "metadata": {},
   "outputs": [
    {
     "name": "stderr",
     "output_type": "stream",
     "text": [
      "WARNING:absl:No training configuration found in the save file, so the model was *not* compiled. Compile it manually.\n"
     ]
    }
   ],
   "source": [
    "embedding_model = load_model('embedding_model.h5')\n"
   ]
  },
  {
   "cell_type": "code",
   "execution_count": null,
   "metadata": {},
   "outputs": [
    {
     "name": "stderr",
     "output_type": "stream",
     "text": [
      "WARNING:absl:No training configuration found in the save file, so the model was *not* compiled. Compile it manually.\n"
     ]
    }
   ],
   "source": [
    "from tensorflow.keras.models import load_model\n",
    "siamese_model = load_model('siamese_model.h5', custom_objects={'L1Dist': L1Dist, 'tf': tf})\n"
   ]
  },
  {
   "cell_type": "code",
   "execution_count": null,
   "metadata": {},
   "outputs": [],
   "source": [
    "embedding_model = make_embedding_model()\n"
   ]
  },
  {
   "cell_type": "code",
   "execution_count": null,
   "metadata": {},
   "outputs": [],
   "source": [
    "# Create a dict of name: layer from the Siamese model\n",
    "siamese_layers = {layer.name: layer for layer in siamese_model.layers}\n",
    "\n",
    "# Copy weights only for layers with matching names\n",
    "for layer in embedding_model.layers:\n",
    "    if layer.name in siamese_layers:\n",
    "        layer.set_weights(siamese_layers[layer.name].get_weights())\n"
   ]
  },
  {
   "cell_type": "code",
   "execution_count": null,
   "metadata": {},
   "outputs": [
    {
     "name": "stdout",
     "output_type": "stream",
     "text": [
      "(1, 4096)\n"
     ]
    }
   ],
   "source": [
    "sample = tf.random.normal((1, 100, 100, 3))\n",
    "output = embedding_model(sample)\n",
    "print(output.shape)  # Should be (1, 4096) or your final embedding size\n"
   ]
  },
  {
   "cell_type": "code",
   "execution_count": null,
   "metadata": {},
   "outputs": [],
   "source": [
    "import tensorflow as tf\n",
    "from tensorflow.keras.layers import Layer\n",
    "\n",
    "class L1Dist(Layer):\n",
    "    def __init__(self, **kwargs):\n",
    "        super().__init__()\n",
    "\n",
    "    def call(self, input_embedding, validation_embedding):\n",
    "        return tf.math.abs(input_embedding - validation_embedding)\n"
   ]
  },
  {
   "cell_type": "code",
   "execution_count": null,
   "metadata": {},
   "outputs": [],
   "source": [
    "from tensorflow.keras.models import Model\n",
    "from tensorflow.keras.layers import Input, Conv2D, MaxPooling2D, Flatten, Dense\n",
    "\n",
    "def make_embedding_model():\n",
    "    input = Input(shape=(100, 100, 3))\n",
    "\n",
    "    x = Conv2D(64, (10,10), activation='relu')(input)\n",
    "    x = MaxPooling2D()(x)\n",
    "    x = Conv2D(128, (7,7), activation='relu')(x)\n",
    "    x = MaxPooling2D()(x)\n",
    "    x = Conv2D(128, (4,4), activation='relu')(x)\n",
    "    x = MaxPooling2D()(x)\n",
    "    x = Conv2D(256, (4,4), activation='relu')(x)\n",
    "    x = Flatten()(x)\n",
    "    x = Dense(4096, activation='sigmoid')(x)\n",
    "\n",
    "    return Model(inputs=input, outputs=x, name='embedding')\n"
   ]
  },
  {
   "cell_type": "code",
   "execution_count": null,
   "metadata": {},
   "outputs": [],
   "source": [
    "def make_siamese_model(embedding_model):\n",
    "    input_img = Input(name='input_img', shape=(100, 100, 3))\n",
    "    validation_img = Input(name='validation_img', shape=(100, 100, 3))\n",
    "\n",
    "    input_embedding = embedding_model(input_img)\n",
    "    validation_embedding = embedding_model(validation_img)\n",
    "\n",
    "    distance = L1Dist()(input_embedding, validation_embedding)\n",
    "    output = Dense(1, activation='sigmoid')(distance)\n",
    "\n",
    "    return Model(inputs=[input_img, validation_img], outputs=output, name='siamese_model')\n"
   ]
  },
  {
   "cell_type": "code",
   "execution_count": null,
   "metadata": {},
   "outputs": [
    {
     "name": "stdout",
     "output_type": "stream",
     "text": [
      "\u001b[1m1/1\u001b[0m \u001b[32m━━━━━━━━━━━━━━━━━━━━\u001b[0m\u001b[37m\u001b[0m \u001b[1m5s\u001b[0m 5s/step - accuracy: 0.3000 - loss: 0.6935\n"
     ]
    },
    {
     "data": {
      "text/plain": [
       "<keras.src.callbacks.history.History at 0x29598a4ea50>"
      ]
     },
     "execution_count": 219,
     "metadata": {},
     "output_type": "execute_result"
    }
   ],
   "source": [
    "embedding_model = make_embedding_model()\n",
    "siamese_model = make_siamese_model(embedding_model)\n",
    "\n",
    "siamese_model.compile(optimizer='adam', loss='binary_crossentropy', metrics=['accuracy'])\n",
    "\n",
    "import numpy as np\n",
    "X1 = np.random.rand(10, 100, 100, 3)\n",
    "X2 = np.random.rand(10, 100, 100, 3)\n",
    "y = np.random.randint(0, 2, 10)\n",
    "\n",
    "siamese_model.fit([X1, X2], y, epochs=1)\n"
   ]
  },
  {
   "cell_type": "code",
   "execution_count": null,
   "metadata": {},
   "outputs": [
    {
     "name": "stderr",
     "output_type": "stream",
     "text": [
      "WARNING:absl:You are saving your model as an HDF5 file via `model.save()` or `keras.saving.save_model(model)`. This file format is considered legacy. We recommend using instead the native Keras format, e.g. `model.save('my_model.keras')` or `keras.saving.save_model(model, 'my_model.keras')`. \n",
      "WARNING:absl:You are saving your model as an HDF5 file via `model.save()` or `keras.saving.save_model(model)`. This file format is considered legacy. We recommend using instead the native Keras format, e.g. `model.save('my_model.keras')` or `keras.saving.save_model(model, 'my_model.keras')`. \n"
     ]
    }
   ],
   "source": [
    "siamese_model.save('siamese_model.h5')\n",
    "embedding_model.save('embedding_model.h5')\n"
   ]
  },
  {
   "cell_type": "code",
   "execution_count": null,
   "metadata": {},
   "outputs": [
    {
     "name": "stderr",
     "output_type": "stream",
     "text": [
      "WARNING:absl:No training configuration found in the save file, so the model was *not* compiled. Compile it manually.\n",
      "WARNING:absl:Compiled the loaded model, but the compiled metrics have yet to be built. `model.compile_metrics` will be empty until you train or evaluate the model.\n"
     ]
    }
   ],
   "source": [
    "# When reloading\n",
    "embedding_model = tf.keras.models.load_model('embedding_model.h5')\n",
    "siamese_model = tf.keras.models.load_model('siamese_model.h5', custom_objects={'L1Dist': L1Dist, 'tf': tf})\n"
   ]
  },
  {
   "cell_type": "code",
   "execution_count": null,
   "metadata": {},
   "outputs": [],
   "source": [
    "# Create dict from siamese_model layers\n",
    "siamese_layers = {layer.name: layer for layer in siamese_model.layers}\n",
    "\n",
    "# Set weights by matching layer names\n",
    "for layer in embedding_model.layers:\n",
    "    if layer.name in siamese_layers:\n",
    "        layer.set_weights(siamese_layers[layer.name].get_weights())\n"
   ]
  },
  {
   "cell_type": "code",
   "execution_count": null,
   "metadata": {},
   "outputs": [
    {
     "ename": "ValueError",
     "evalue": "You called `set_weights(weights)` on layer 'conv2d_56' with a weight list of length 10, but the layer was expecting 2 weights.",
     "output_type": "error",
     "traceback": [
      "\u001b[31m---------------------------------------------------------------------------\u001b[39m",
      "\u001b[31mValueError\u001b[39m                                Traceback (most recent call last)",
      "\u001b[36mCell\u001b[39m\u001b[36m \u001b[39m\u001b[32mIn[224]\u001b[39m\u001b[32m, line 5\u001b[39m\n\u001b[32m      3\u001b[39m \u001b[38;5;66;03m# Copy weights from layers in siamese_model to embedding_model\u001b[39;00m\n\u001b[32m      4\u001b[39m \u001b[38;5;28;01mfor\u001b[39;00m i, layer \u001b[38;5;129;01min\u001b[39;00m \u001b[38;5;28menumerate\u001b[39m(embedding_model.layers):\n\u001b[32m----> \u001b[39m\u001b[32m5\u001b[39m     layer.set_weights(siamese_model.layers[i + \u001b[32m1\u001b[39m].get_weights())\n",
      "\u001b[36mFile \u001b[39m\u001b[32mc:\\Users\\ASUS\\aditya\\Lib\\site-packages\\keras\\src\\layers\\layer.py:731\u001b[39m, in \u001b[36mLayer.set_weights\u001b[39m\u001b[34m(self, weights)\u001b[39m\n\u001b[32m    729\u001b[39m layer_weights = \u001b[38;5;28mself\u001b[39m.weights\n\u001b[32m    730\u001b[39m \u001b[38;5;28;01mif\u001b[39;00m \u001b[38;5;28mlen\u001b[39m(layer_weights) != \u001b[38;5;28mlen\u001b[39m(weights):\n\u001b[32m--> \u001b[39m\u001b[32m731\u001b[39m     \u001b[38;5;28;01mraise\u001b[39;00m \u001b[38;5;167;01mValueError\u001b[39;00m(\n\u001b[32m    732\u001b[39m         \u001b[33mf\u001b[39m\u001b[33m\"\u001b[39m\u001b[33mYou called `set_weights(weights)` on layer \u001b[39m\u001b[33m'\u001b[39m\u001b[38;5;132;01m{\u001b[39;00m\u001b[38;5;28mself\u001b[39m.name\u001b[38;5;132;01m}\u001b[39;00m\u001b[33m'\u001b[39m\u001b[33m \u001b[39m\u001b[33m\"\u001b[39m\n\u001b[32m    733\u001b[39m         \u001b[33mf\u001b[39m\u001b[33m\"\u001b[39m\u001b[33mwith a weight list of length \u001b[39m\u001b[38;5;132;01m{\u001b[39;00m\u001b[38;5;28mlen\u001b[39m(weights)\u001b[38;5;132;01m}\u001b[39;00m\u001b[33m, but the layer \u001b[39m\u001b[33m\"\u001b[39m\n\u001b[32m    734\u001b[39m         \u001b[33mf\u001b[39m\u001b[33m\"\u001b[39m\u001b[33mwas expecting \u001b[39m\u001b[38;5;132;01m{\u001b[39;00m\u001b[38;5;28mlen\u001b[39m(layer_weights)\u001b[38;5;132;01m}\u001b[39;00m\u001b[33m weights.\u001b[39m\u001b[33m\"\u001b[39m\n\u001b[32m    735\u001b[39m     )\n\u001b[32m    736\u001b[39m \u001b[38;5;28;01mfor\u001b[39;00m variable, value \u001b[38;5;129;01min\u001b[39;00m \u001b[38;5;28mzip\u001b[39m(layer_weights, weights):\n\u001b[32m    737\u001b[39m     \u001b[38;5;28;01mif\u001b[39;00m variable.shape != value.shape:\n",
      "\u001b[31mValueError\u001b[39m: You called `set_weights(weights)` on layer 'conv2d_56' with a weight list of length 10, but the layer was expecting 2 weights."
     ]
    }
   ],
   "source": [
    "embedding_model = make_embedding_model()\n",
    "\n",
    "# Copy weights from layers in siamese_model to embedding_model\n",
    "for i, layer in enumerate(embedding_model.layers):\n",
    "    layer.set_weights(siamese_model.layers[i + 1].get_weights())  # +1 skips the input layer\n"
   ]
  },
  {
   "cell_type": "code",
   "execution_count": null,
   "metadata": {},
   "outputs": [
    {
     "name": "stderr",
     "output_type": "stream",
     "text": [
      "WARNING:absl:Compiled the loaded model, but the compiled metrics have yet to be built. `model.compile_metrics` will be empty until you train or evaluate the model.\n"
     ]
    },
    {
     "name": "stdout",
     "output_type": "stream",
     "text": [
      "\u001b[1m1/1\u001b[0m \u001b[32m━━━━━━━━━━━━━━━━━━━━\u001b[0m\u001b[37m\u001b[0m \u001b[1m1s\u001b[0m 520ms/step\n",
      "Embedding shape: (1, 4096)\n"
     ]
    }
   ],
   "source": [
    "# Step 1: Rebuild the embedding model architecture\n",
    "embedding_model = make_embedding_model()\n",
    "\n",
    "# Step 2: Load the trained Siamese model (include custom layers)\n",
    "siamese_model = load_model('siamese_model.h5', custom_objects={'L1Dist': L1Dist, 'tf': tf})\n",
    "\n",
    "# Step 3: Copy weights by name\n",
    "siamese_layer_dict = {layer.name: layer for layer in siamese_model.layers}\n",
    "\n",
    "for layer in embedding_model.layers:\n",
    "    if layer.name in siamese_layer_dict:\n",
    "        layer.set_weights(siamese_layer_dict[layer.name].get_weights())\n",
    "\n",
    "# Test\n",
    "test_input = np.random.rand(1, 100, 100, 3).astype(np.float32)\n",
    "embedding = embedding_model.predict(test_input)\n",
    "print(\"Embedding shape:\", embedding.shape)  # Should be (1, 4096)\n"
   ]
  },
  {
   "cell_type": "code",
   "execution_count": null,
   "metadata": {},
   "outputs": [
    {
     "name": "stderr",
     "output_type": "stream",
     "text": [
      "WARNING:absl:Compiled the loaded model, but the compiled metrics have yet to be built. `model.compile_metrics` will be empty until you train or evaluate the model.\n"
     ]
    },
    {
     "data": {
      "text/html": [
       "<pre style=\"white-space:pre;overflow-x:auto;line-height:normal;font-family:Menlo,'DejaVu Sans Mono',consolas,'Courier New',monospace\"><span style=\"font-weight: bold\">Model: \"siamese_model\"</span>\n",
       "</pre>\n"
      ],
      "text/plain": [
       "\u001b[1mModel: \"siamese_model\"\u001b[0m\n"
      ]
     },
     "metadata": {},
     "output_type": "display_data"
    },
    {
     "data": {
      "text/html": [
       "<pre style=\"white-space:pre;overflow-x:auto;line-height:normal;font-family:Menlo,'DejaVu Sans Mono',consolas,'Courier New',monospace\">┏━━━━━━━━━━━━━━━━━━━━━┳━━━━━━━━━━━━━━━━━━━┳━━━━━━━━━━━━┳━━━━━━━━━━━━━━━━━━━┓\n",
       "┃<span style=\"font-weight: bold\"> Layer (type)        </span>┃<span style=\"font-weight: bold\"> Output Shape      </span>┃<span style=\"font-weight: bold\">    Param # </span>┃<span style=\"font-weight: bold\"> Connected to      </span>┃\n",
       "┡━━━━━━━━━━━━━━━━━━━━━╇━━━━━━━━━━━━━━━━━━━╇━━━━━━━━━━━━╇━━━━━━━━━━━━━━━━━━━┩\n",
       "│ input_img           │ (<span style=\"color: #00d7ff; text-decoration-color: #00d7ff\">None</span>, <span style=\"color: #00af00; text-decoration-color: #00af00\">100</span>, <span style=\"color: #00af00; text-decoration-color: #00af00\">100</span>,  │          <span style=\"color: #00af00; text-decoration-color: #00af00\">0</span> │ -                 │\n",
       "│ (<span style=\"color: #0087ff; text-decoration-color: #0087ff\">InputLayer</span>)        │ <span style=\"color: #00af00; text-decoration-color: #00af00\">3</span>)                │            │                   │\n",
       "├─────────────────────┼───────────────────┼────────────┼───────────────────┤\n",
       "│ validation_img      │ (<span style=\"color: #00d7ff; text-decoration-color: #00d7ff\">None</span>, <span style=\"color: #00af00; text-decoration-color: #00af00\">100</span>, <span style=\"color: #00af00; text-decoration-color: #00af00\">100</span>,  │          <span style=\"color: #00af00; text-decoration-color: #00af00\">0</span> │ -                 │\n",
       "│ (<span style=\"color: #0087ff; text-decoration-color: #0087ff\">InputLayer</span>)        │ <span style=\"color: #00af00; text-decoration-color: #00af00\">3</span>)                │            │                   │\n",
       "├─────────────────────┼───────────────────┼────────────┼───────────────────┤\n",
       "│ embedding           │ (<span style=\"color: #00d7ff; text-decoration-color: #00d7ff\">None</span>, <span style=\"color: #00af00; text-decoration-color: #00af00\">4096</span>)      │ <span style=\"color: #00af00; text-decoration-color: #00af00\">27,426,112</span> │ input_img[<span style=\"color: #00af00; text-decoration-color: #00af00\">0</span>][<span style=\"color: #00af00; text-decoration-color: #00af00\">0</span>],  │\n",
       "│ (<span style=\"color: #0087ff; text-decoration-color: #0087ff\">Functional</span>)        │                   │            │ validation_img[<span style=\"color: #00af00; text-decoration-color: #00af00\">0</span>… │\n",
       "├─────────────────────┼───────────────────┼────────────┼───────────────────┤\n",
       "│ l1_dist_17 (<span style=\"color: #0087ff; text-decoration-color: #0087ff\">L1Dist</span>) │ (<span style=\"color: #00d7ff; text-decoration-color: #00d7ff\">None</span>, <span style=\"color: #00af00; text-decoration-color: #00af00\">4096</span>)      │          <span style=\"color: #00af00; text-decoration-color: #00af00\">0</span> │ embedding[<span style=\"color: #00af00; text-decoration-color: #00af00\">0</span>][<span style=\"color: #00af00; text-decoration-color: #00af00\">0</span>],  │\n",
       "│                     │                   │            │ embedding[<span style=\"color: #00af00; text-decoration-color: #00af00\">1</span>][<span style=\"color: #00af00; text-decoration-color: #00af00\">0</span>]   │\n",
       "├─────────────────────┼───────────────────┼────────────┼───────────────────┤\n",
       "│ dense_15 (<span style=\"color: #0087ff; text-decoration-color: #0087ff\">Dense</span>)    │ (<span style=\"color: #00d7ff; text-decoration-color: #00d7ff\">None</span>, <span style=\"color: #00af00; text-decoration-color: #00af00\">1</span>)         │      <span style=\"color: #00af00; text-decoration-color: #00af00\">4,097</span> │ l1_dist_17[<span style=\"color: #00af00; text-decoration-color: #00af00\">0</span>][<span style=\"color: #00af00; text-decoration-color: #00af00\">0</span>]  │\n",
       "└─────────────────────┴───────────────────┴────────────┴───────────────────┘\n",
       "</pre>\n"
      ],
      "text/plain": [
       "┏━━━━━━━━━━━━━━━━━━━━━┳━━━━━━━━━━━━━━━━━━━┳━━━━━━━━━━━━┳━━━━━━━━━━━━━━━━━━━┓\n",
       "┃\u001b[1m \u001b[0m\u001b[1mLayer (type)       \u001b[0m\u001b[1m \u001b[0m┃\u001b[1m \u001b[0m\u001b[1mOutput Shape     \u001b[0m\u001b[1m \u001b[0m┃\u001b[1m \u001b[0m\u001b[1m   Param #\u001b[0m\u001b[1m \u001b[0m┃\u001b[1m \u001b[0m\u001b[1mConnected to     \u001b[0m\u001b[1m \u001b[0m┃\n",
       "┡━━━━━━━━━━━━━━━━━━━━━╇━━━━━━━━━━━━━━━━━━━╇━━━━━━━━━━━━╇━━━━━━━━━━━━━━━━━━━┩\n",
       "│ input_img           │ (\u001b[38;5;45mNone\u001b[0m, \u001b[38;5;34m100\u001b[0m, \u001b[38;5;34m100\u001b[0m,  │          \u001b[38;5;34m0\u001b[0m │ -                 │\n",
       "│ (\u001b[38;5;33mInputLayer\u001b[0m)        │ \u001b[38;5;34m3\u001b[0m)                │            │                   │\n",
       "├─────────────────────┼───────────────────┼────────────┼───────────────────┤\n",
       "│ validation_img      │ (\u001b[38;5;45mNone\u001b[0m, \u001b[38;5;34m100\u001b[0m, \u001b[38;5;34m100\u001b[0m,  │          \u001b[38;5;34m0\u001b[0m │ -                 │\n",
       "│ (\u001b[38;5;33mInputLayer\u001b[0m)        │ \u001b[38;5;34m3\u001b[0m)                │            │                   │\n",
       "├─────────────────────┼───────────────────┼────────────┼───────────────────┤\n",
       "│ embedding           │ (\u001b[38;5;45mNone\u001b[0m, \u001b[38;5;34m4096\u001b[0m)      │ \u001b[38;5;34m27,426,112\u001b[0m │ input_img[\u001b[38;5;34m0\u001b[0m][\u001b[38;5;34m0\u001b[0m],  │\n",
       "│ (\u001b[38;5;33mFunctional\u001b[0m)        │                   │            │ validation_img[\u001b[38;5;34m0\u001b[0m… │\n",
       "├─────────────────────┼───────────────────┼────────────┼───────────────────┤\n",
       "│ l1_dist_17 (\u001b[38;5;33mL1Dist\u001b[0m) │ (\u001b[38;5;45mNone\u001b[0m, \u001b[38;5;34m4096\u001b[0m)      │          \u001b[38;5;34m0\u001b[0m │ embedding[\u001b[38;5;34m0\u001b[0m][\u001b[38;5;34m0\u001b[0m],  │\n",
       "│                     │                   │            │ embedding[\u001b[38;5;34m1\u001b[0m][\u001b[38;5;34m0\u001b[0m]   │\n",
       "├─────────────────────┼───────────────────┼────────────┼───────────────────┤\n",
       "│ dense_15 (\u001b[38;5;33mDense\u001b[0m)    │ (\u001b[38;5;45mNone\u001b[0m, \u001b[38;5;34m1\u001b[0m)         │      \u001b[38;5;34m4,097\u001b[0m │ l1_dist_17[\u001b[38;5;34m0\u001b[0m][\u001b[38;5;34m0\u001b[0m]  │\n",
       "└─────────────────────┴───────────────────┴────────────┴───────────────────┘\n"
      ]
     },
     "metadata": {},
     "output_type": "display_data"
    },
    {
     "data": {
      "text/html": [
       "<pre style=\"white-space:pre;overflow-x:auto;line-height:normal;font-family:Menlo,'DejaVu Sans Mono',consolas,'Courier New',monospace\"><span style=\"font-weight: bold\"> Total params: </span><span style=\"color: #00af00; text-decoration-color: #00af00\">27,430,211</span> (104.64 MB)\n",
       "</pre>\n"
      ],
      "text/plain": [
       "\u001b[1m Total params: \u001b[0m\u001b[38;5;34m27,430,211\u001b[0m (104.64 MB)\n"
      ]
     },
     "metadata": {},
     "output_type": "display_data"
    },
    {
     "data": {
      "text/html": [
       "<pre style=\"white-space:pre;overflow-x:auto;line-height:normal;font-family:Menlo,'DejaVu Sans Mono',consolas,'Courier New',monospace\"><span style=\"font-weight: bold\"> Trainable params: </span><span style=\"color: #00af00; text-decoration-color: #00af00\">27,430,209</span> (104.64 MB)\n",
       "</pre>\n"
      ],
      "text/plain": [
       "\u001b[1m Trainable params: \u001b[0m\u001b[38;5;34m27,430,209\u001b[0m (104.64 MB)\n"
      ]
     },
     "metadata": {},
     "output_type": "display_data"
    },
    {
     "data": {
      "text/html": [
       "<pre style=\"white-space:pre;overflow-x:auto;line-height:normal;font-family:Menlo,'DejaVu Sans Mono',consolas,'Courier New',monospace\"><span style=\"font-weight: bold\"> Non-trainable params: </span><span style=\"color: #00af00; text-decoration-color: #00af00\">0</span> (0.00 B)\n",
       "</pre>\n"
      ],
      "text/plain": [
       "\u001b[1m Non-trainable params: \u001b[0m\u001b[38;5;34m0\u001b[0m (0.00 B)\n"
      ]
     },
     "metadata": {},
     "output_type": "display_data"
    },
    {
     "data": {
      "text/html": [
       "<pre style=\"white-space:pre;overflow-x:auto;line-height:normal;font-family:Menlo,'DejaVu Sans Mono',consolas,'Courier New',monospace\"><span style=\"font-weight: bold\"> Optimizer params: </span><span style=\"color: #00af00; text-decoration-color: #00af00\">2</span> (12.00 B)\n",
       "</pre>\n"
      ],
      "text/plain": [
       "\u001b[1m Optimizer params: \u001b[0m\u001b[38;5;34m2\u001b[0m (12.00 B)\n"
      ]
     },
     "metadata": {},
     "output_type": "display_data"
    }
   ],
   "source": [
    "import tensorflow as tf\n",
    "from tensorflow.keras.models import load_model, Model\n",
    "from tensorflow.keras.layers import Input\n",
    "\n",
    "# Load Siamese model with custom objects\n",
    "siamese_model = load_model('siamese_model.h5', custom_objects={'L1Dist': L1Dist, 'tf': tf})\n",
    "\n",
    "# Inspect the model to understand its structure\n",
    "siamese_model.summary()\n"
   ]
  },
  {
   "cell_type": "code",
   "execution_count": null,
   "metadata": {},
   "outputs": [
    {
     "ename": "ValueError",
     "evalue": "No such layer: dense_7. Existing layers are: ['input_img', 'validation_img', 'embedding', 'l1_dist_17', 'dense_15'].",
     "output_type": "error",
     "traceback": [
      "\u001b[31m---------------------------------------------------------------------------\u001b[39m",
      "\u001b[31mValueError\u001b[39m                                Traceback (most recent call last)",
      "\u001b[36mCell\u001b[39m\u001b[36m \u001b[39m\u001b[32mIn[233]\u001b[39m\u001b[32m, line 3\u001b[39m\n\u001b[32m      1\u001b[39m \u001b[38;5;66;03m# Replace these with the actual names from your model\u001b[39;00m\n\u001b[32m      2\u001b[39m embedding_input = siamese_model.input[\u001b[32m0\u001b[39m]  \u001b[38;5;66;03m# The first image input to the Siamese network\u001b[39;00m\n\u001b[32m----> \u001b[39m\u001b[32m3\u001b[39m embedding_output = siamese_model.get_layer(\u001b[33m\"\u001b[39m\u001b[33mdense_7\u001b[39m\u001b[33m\"\u001b[39m).output  \u001b[38;5;66;03m# Replace with actual final embedding layer\u001b[39;00m\n\u001b[32m      5\u001b[39m \u001b[38;5;66;03m# Define the embedding model\u001b[39;00m\n\u001b[32m      6\u001b[39m embedding_model = Model(inputs=embedding_input, outputs=embedding_output)\n",
      "\u001b[36mFile \u001b[39m\u001b[32mc:\\Users\\ASUS\\aditya\\Lib\\site-packages\\keras\\src\\utils\\traceback_utils.py:122\u001b[39m, in \u001b[36mfilter_traceback.<locals>.error_handler\u001b[39m\u001b[34m(*args, **kwargs)\u001b[39m\n\u001b[32m    119\u001b[39m     filtered_tb = _process_traceback_frames(e.__traceback__)\n\u001b[32m    120\u001b[39m     \u001b[38;5;66;03m# To get the full stack trace, call:\u001b[39;00m\n\u001b[32m    121\u001b[39m     \u001b[38;5;66;03m# `keras.config.disable_traceback_filtering()`\u001b[39;00m\n\u001b[32m--> \u001b[39m\u001b[32m122\u001b[39m     \u001b[38;5;28;01mraise\u001b[39;00m e.with_traceback(filtered_tb) \u001b[38;5;28;01mfrom\u001b[39;00m\u001b[38;5;250m \u001b[39m\u001b[38;5;28;01mNone\u001b[39;00m\n\u001b[32m    123\u001b[39m \u001b[38;5;28;01mfinally\u001b[39;00m:\n\u001b[32m    124\u001b[39m     \u001b[38;5;28;01mdel\u001b[39;00m filtered_tb\n",
      "\u001b[36mFile \u001b[39m\u001b[32mc:\\Users\\ASUS\\aditya\\Lib\\site-packages\\keras\\src\\models\\model.py:210\u001b[39m, in \u001b[36mModel.get_layer\u001b[39m\u001b[34m(self, name, index)\u001b[39m\n\u001b[32m    208\u001b[39m         \u001b[38;5;28;01mif\u001b[39;00m layer.name == name:\n\u001b[32m    209\u001b[39m             \u001b[38;5;28;01mreturn\u001b[39;00m layer\n\u001b[32m--> \u001b[39m\u001b[32m210\u001b[39m     \u001b[38;5;28;01mraise\u001b[39;00m \u001b[38;5;167;01mValueError\u001b[39;00m(\n\u001b[32m    211\u001b[39m         \u001b[33mf\u001b[39m\u001b[33m\"\u001b[39m\u001b[33mNo such layer: \u001b[39m\u001b[38;5;132;01m{\u001b[39;00mname\u001b[38;5;132;01m}\u001b[39;00m\u001b[33m. Existing layers are: \u001b[39m\u001b[33m\"\u001b[39m\n\u001b[32m    212\u001b[39m         \u001b[33mf\u001b[39m\u001b[33m\"\u001b[39m\u001b[38;5;132;01m{\u001b[39;00m\u001b[38;5;28mlist\u001b[39m(layer.name\u001b[38;5;250m \u001b[39m\u001b[38;5;28;01mfor\u001b[39;00m\u001b[38;5;250m \u001b[39mlayer\u001b[38;5;250m \u001b[39m\u001b[38;5;129;01min\u001b[39;00m\u001b[38;5;250m \u001b[39m\u001b[38;5;28mself\u001b[39m.layers)\u001b[38;5;132;01m}\u001b[39;00m\u001b[33m.\u001b[39m\u001b[33m\"\u001b[39m\n\u001b[32m    213\u001b[39m     )\n\u001b[32m    214\u001b[39m \u001b[38;5;28;01mraise\u001b[39;00m \u001b[38;5;167;01mValueError\u001b[39;00m(\n\u001b[32m    215\u001b[39m     \u001b[33m\"\u001b[39m\u001b[33mProvide either a layer name or layer index at `get_layer`.\u001b[39m\u001b[33m\"\u001b[39m\n\u001b[32m    216\u001b[39m )\n",
      "\u001b[31mValueError\u001b[39m: No such layer: dense_7. Existing layers are: ['input_img', 'validation_img', 'embedding', 'l1_dist_17', 'dense_15']."
     ]
    }
   ],
   "source": [
    "# Replace these with the actual names from your model\n",
    "embedding_input = siamese_model.input[0]  # The first image input to the Siamese network\n",
    "embedding_output = siamese_model.get_layer(\"dense_7\").output  # Replace with actual final embedding layer\n",
    "\n",
    "# Define the embedding model\n",
    "embedding_model = Model(inputs=embedding_input, outputs=embedding_output)\n",
    "\n",
    "# Test it\n",
    "import numpy as np\n",
    "dummy_img = np.random.rand(1, 100, 100, 3).astype(np.float32)\n",
    "embedding = embedding_model.predict(dummy_img)\n",
    "\n",
    "print(\"Generated embedding shape:\", embedding.shape)\n"
   ]
  },
  {
   "cell_type": "code",
   "execution_count": null,
   "metadata": {},
   "outputs": [
    {
     "name": "stderr",
     "output_type": "stream",
     "text": [
      "WARNING:absl:Compiled the loaded model, but the compiled metrics have yet to be built. `model.compile_metrics` will be empty until you train or evaluate the model.\n"
     ]
    },
    {
     "ename": "AttributeError",
     "evalue": "'Functional' object has no attribute 'embedding'",
     "output_type": "error",
     "traceback": [
      "\u001b[31m---------------------------------------------------------------------------\u001b[39m",
      "\u001b[31mAttributeError\u001b[39m                            Traceback (most recent call last)",
      "\u001b[36mCell\u001b[39m\u001b[36m \u001b[39m\u001b[32mIn[230]\u001b[39m\u001b[32m, line 4\u001b[39m\n\u001b[32m      1\u001b[39m \u001b[38;5;28;01mfrom\u001b[39;00m\u001b[38;5;250m \u001b[39m\u001b[34;01mtensorflow\u001b[39;00m\u001b[34;01m.\u001b[39;00m\u001b[34;01mkeras\u001b[39;00m\u001b[34;01m.\u001b[39;00m\u001b[34;01mmodels\u001b[39;00m\u001b[38;5;250m \u001b[39m\u001b[38;5;28;01mimport\u001b[39;00m load_model\n\u001b[32m      3\u001b[39m siamese_model = load_model(\u001b[33m'\u001b[39m\u001b[33msiamese_model.h5\u001b[39m\u001b[33m'\u001b[39m, custom_objects={\u001b[33m'\u001b[39m\u001b[33mL1Dist\u001b[39m\u001b[33m'\u001b[39m: L1Dist, \u001b[33m'\u001b[39m\u001b[33mtf\u001b[39m\u001b[33m'\u001b[39m: tf})\n\u001b[32m----> \u001b[39m\u001b[32m4\u001b[39m embedding_model = siamese_model.embedding\n",
      "\u001b[31mAttributeError\u001b[39m: 'Functional' object has no attribute 'embedding'"
     ]
    }
   ],
   "source": [
    "from tensorflow.keras.models import load_model\n",
    "\n",
    "siamese_model = load_model('siamese_model.h5', custom_objects={'L1Dist': L1Dist, 'tf': tf})\n",
    "embedding_model = siamese_model.embedding\n"
   ]
  },
  {
   "cell_type": "code",
   "execution_count": null,
   "metadata": {},
   "outputs": [
    {
     "ename": "AttributeError",
     "evalue": "'Functional' object has no attribute 'embedding'",
     "output_type": "error",
     "traceback": [
      "\u001b[31m---------------------------------------------------------------------------\u001b[39m",
      "\u001b[31mAttributeError\u001b[39m                            Traceback (most recent call last)",
      "\u001b[36mCell\u001b[39m\u001b[36m \u001b[39m\u001b[32mIn[202]\u001b[39m\u001b[32m, line 1\u001b[39m\n\u001b[32m----> \u001b[39m\u001b[32m1\u001b[39m embedding_model = siamese_model.embedding\n",
      "\u001b[31mAttributeError\u001b[39m: 'Functional' object has no attribute 'embedding'"
     ]
    }
   ],
   "source": [
    "embedding_model = siamese_model.embedding\n"
   ]
  },
  {
   "cell_type": "code",
   "execution_count": null,
   "metadata": {},
   "outputs": [],
   "source": [
    "# Example: using a trained embedding model to get feature vectors\n",
    "anchor_img = preprocess(anchor_path)  # shape: (100, 100, 3)\n",
    "validation_img = preprocess(validation_path)\n",
    "\n",
    "# Add batch dimension\n",
    "anchor_img = tf.expand_dims(anchor_img, axis=0)\n",
    "validation_img = tf.expand_dims(validation_img, axis=0)\n",
    "\n",
    "# Generate embeddings\n",
    "anchor_embedding = embedding_model(anchor_img)              # shape: (1, embedding_dim)\n",
    "validation_embedding = embedding_model(validation_img)      # shape: (1, embedding_dim)\n"
   ]
  },
  {
   "cell_type": "code",
   "execution_count": null,
   "metadata": {
    "collapsed": true
   },
   "outputs": [
    {
     "data": {
      "text/plain": [
       "<tf.Tensor: shape=(1, 4096), dtype=float32, numpy=\n",
       "array([[0.00746292, 0.00641435, 0.006924  , ..., 0.00389174, 0.00711501,\n",
       "        0.01309985]], dtype=float32)>"
      ]
     },
     "execution_count": 204,
     "metadata": {},
     "output_type": "execute_result"
    }
   ],
   "source": [
    "l1(anchor_embedding, validation_embedding)"
   ]
  },
  {
   "cell_type": "markdown",
   "metadata": {},
   "source": [
    "## 4.3 Make Siamese Model"
   ]
  },
  {
   "cell_type": "code",
   "execution_count": null,
   "metadata": {},
   "outputs": [],
   "source": [
    "input_image = Input(name='input_img', shape=(100,100,3))\n",
    "validation_image = Input(name='validation_img', shape=(100,100,3))"
   ]
  },
  {
   "cell_type": "code",
   "execution_count": null,
   "metadata": {},
   "outputs": [],
   "source": [
    "inp_embedding = embedding(input_image)\n",
    "val_embedding = embedding(validation_image)"
   ]
  },
  {
   "cell_type": "code",
   "execution_count": null,
   "metadata": {},
   "outputs": [],
   "source": [
    "siamese_layer = L1Dist()"
   ]
  },
  {
   "cell_type": "code",
   "execution_count": null,
   "metadata": {},
   "outputs": [
    {
     "ename": "TypeError",
     "evalue": "Exception encountered when calling L1Dist.call().\n\n\u001b[1mCould not automatically infer the output shape / dtype of 'l1_dist_9' (of type L1Dist). Either the `L1Dist.call()` method is incorrect, or you need to implement the `L1Dist.compute_output_spec() / compute_output_shape()` method. Error encountered:\n\nunsupported operand type(s) for -: 'list' and 'list'\u001b[0m\n\nArguments received by L1Dist.call():\n  • args=(['<KerasTensor shape=(None, 4096), dtype=float32, sparse=False, ragged=False, name=keras_tensor_249>'], ['<KerasTensor shape=(None, 4096), dtype=float32, sparse=False, ragged=False, name=keras_tensor_250>'])\n  • kwargs=<class 'inspect._empty'>",
     "output_type": "error",
     "traceback": [
      "\u001b[31m---------------------------------------------------------------------------\u001b[39m",
      "\u001b[31mTypeError\u001b[39m                                 Traceback (most recent call last)",
      "\u001b[36mCell\u001b[39m\u001b[36m \u001b[39m\u001b[32mIn[209]\u001b[39m\u001b[32m, line 1\u001b[39m\n\u001b[32m----> \u001b[39m\u001b[32m1\u001b[39m distances = siamese_layer(inp_embedding, val_embedding)\n",
      "\u001b[36mFile \u001b[39m\u001b[32mc:\\Users\\ASUS\\aditya\\Lib\\site-packages\\keras\\src\\utils\\traceback_utils.py:122\u001b[39m, in \u001b[36mfilter_traceback.<locals>.error_handler\u001b[39m\u001b[34m(*args, **kwargs)\u001b[39m\n\u001b[32m    119\u001b[39m     filtered_tb = _process_traceback_frames(e.__traceback__)\n\u001b[32m    120\u001b[39m     \u001b[38;5;66;03m# To get the full stack trace, call:\u001b[39;00m\n\u001b[32m    121\u001b[39m     \u001b[38;5;66;03m# `keras.config.disable_traceback_filtering()`\u001b[39;00m\n\u001b[32m--> \u001b[39m\u001b[32m122\u001b[39m     \u001b[38;5;28;01mraise\u001b[39;00m e.with_traceback(filtered_tb) \u001b[38;5;28;01mfrom\u001b[39;00m\u001b[38;5;250m \u001b[39m\u001b[38;5;28;01mNone\u001b[39;00m\n\u001b[32m    123\u001b[39m \u001b[38;5;28;01mfinally\u001b[39;00m:\n\u001b[32m    124\u001b[39m     \u001b[38;5;28;01mdel\u001b[39;00m filtered_tb\n",
      "\u001b[36mCell\u001b[39m\u001b[36m \u001b[39m\u001b[32mIn[183]\u001b[39m\u001b[32m, line 9\u001b[39m, in \u001b[36mL1Dist.call\u001b[39m\u001b[34m(self, input_embedding, validation_embedding)\u001b[39m\n\u001b[32m      8\u001b[39m \u001b[38;5;28;01mdef\u001b[39;00m\u001b[38;5;250m \u001b[39m\u001b[34mcall\u001b[39m(\u001b[38;5;28mself\u001b[39m, input_embedding, validation_embedding):\n\u001b[32m----> \u001b[39m\u001b[32m9\u001b[39m     \u001b[38;5;28;01mreturn\u001b[39;00m tf.math.abs(input_embedding - validation_embedding)\n",
      "\u001b[31mTypeError\u001b[39m: Exception encountered when calling L1Dist.call().\n\n\u001b[1mCould not automatically infer the output shape / dtype of 'l1_dist_9' (of type L1Dist). Either the `L1Dist.call()` method is incorrect, or you need to implement the `L1Dist.compute_output_spec() / compute_output_shape()` method. Error encountered:\n\nunsupported operand type(s) for -: 'list' and 'list'\u001b[0m\n\nArguments received by L1Dist.call():\n  • args=(['<KerasTensor shape=(None, 4096), dtype=float32, sparse=False, ragged=False, name=keras_tensor_249>'], ['<KerasTensor shape=(None, 4096), dtype=float32, sparse=False, ragged=False, name=keras_tensor_250>'])\n  • kwargs=<class 'inspect._empty'>"
     ]
    }
   ],
   "source": [
    "distances = siamese_layer(inp_embedding, val_embedding)"
   ]
  },
  {
   "cell_type": "code",
   "execution_count": null,
   "metadata": {},
   "outputs": [
    {
     "ename": "NameError",
     "evalue": "name 'distances' is not defined",
     "output_type": "error",
     "traceback": [
      "\u001b[31m---------------------------------------------------------------------------\u001b[39m",
      "\u001b[31mNameError\u001b[39m                                 Traceback (most recent call last)",
      "\u001b[36mCell\u001b[39m\u001b[36m \u001b[39m\u001b[32mIn[210]\u001b[39m\u001b[32m, line 1\u001b[39m\n\u001b[32m----> \u001b[39m\u001b[32m1\u001b[39m classifier = Dense(\u001b[32m1\u001b[39m, activation=\u001b[33m'\u001b[39m\u001b[33msigmoid\u001b[39m\u001b[33m'\u001b[39m)(distances)\n",
      "\u001b[31mNameError\u001b[39m: name 'distances' is not defined"
     ]
    }
   ],
   "source": [
    "classifier = Dense(1, activation='sigmoid')(distances)"
   ]
  },
  {
   "cell_type": "code",
   "execution_count": null,
   "metadata": {},
   "outputs": [
    {
     "data": {
      "text/plain": [
       "<KerasTensor: shape=(None, 1) dtype=float32 (created by layer 'dense_2')>"
      ]
     },
     "execution_count": 45,
     "metadata": {},
     "output_type": "execute_result"
    }
   ],
   "source": [
    "classifier"
   ]
  },
  {
   "cell_type": "code",
   "execution_count": null,
   "metadata": {},
   "outputs": [],
   "source": [
    "siamese_network = Model(inputs=[input_image, validation_image], outputs=classifier, name='SiameseNetwork')"
   ]
  },
  {
   "cell_type": "code",
   "execution_count": null,
   "metadata": {},
   "outputs": [
    {
     "name": "stdout",
     "output_type": "stream",
     "text": [
      "Model: \"SiameseNetwork\"\n",
      "__________________________________________________________________________________________________\n",
      "Layer (type)                    Output Shape         Param #     Connected to                     \n",
      "==================================================================================================\n",
      "input_img (InputLayer)          [(None, 100, 100, 3) 0                                            \n",
      "__________________________________________________________________________________________________\n",
      "validation_img (InputLayer)     [(None, 100, 100, 3) 0                                            \n",
      "__________________________________________________________________________________________________\n",
      "embedding (Functional)          (None, 4096)         38960448    input_img[0][0]                  \n",
      "                                                                 validation_img[0][0]             \n",
      "__________________________________________________________________________________________________\n",
      "l1_dist_1 (L1Dist)              (None, 4096)         0           embedding[0][0]                  \n",
      "                                                                 embedding[1][0]                  \n",
      "__________________________________________________________________________________________________\n",
      "dense_2 (Dense)                 (None, 1)            4097        l1_dist_1[0][0]                  \n",
      "==================================================================================================\n",
      "Total params: 38,964,545\n",
      "Trainable params: 38,964,545\n",
      "Non-trainable params: 0\n",
      "__________________________________________________________________________________________________\n"
     ]
    }
   ],
   "source": [
    "siamese_network.summary()"
   ]
  },
  {
   "cell_type": "code",
   "execution_count": null,
   "metadata": {},
   "outputs": [],
   "source": [
    "def make_siamese_model(): \n",
    "    \n",
    "    # Anchor image input in the network\n",
    "    input_image = Input(name='input_img', shape=(100,100,3))\n",
    "    \n",
    "    # Validation image in the network \n",
    "    validation_image = Input(name='validation_img', shape=(100,100,3))\n",
    "    \n",
    "    # Combine siamese distance components\n",
    "    siamese_layer = L1Dist()\n",
    "    siamese_layer._name = 'distance'\n",
    "    distances = siamese_layer(embedding(input_image), embedding(validation_image))\n",
    "    \n",
    "    # Classification layer \n",
    "    classifier = Dense(1, activation='sigmoid')(distances)\n",
    "    \n",
    "    return Model(inputs=[input_image, validation_image], outputs=classifier, name='SiameseNetwork')"
   ]
  },
  {
   "cell_type": "code",
   "execution_count": null,
   "metadata": {},
   "outputs": [],
   "source": [
    "siamese_model = make_siamese_model()"
   ]
  },
  {
   "cell_type": "code",
   "execution_count": null,
   "metadata": {
    "collapsed": true
   },
   "outputs": [
    {
     "name": "stdout",
     "output_type": "stream",
     "text": [
      "Model: \"SiameseNetwork\"\n",
      "__________________________________________________________________________________________________\n",
      "Layer (type)                    Output Shape         Param #     Connected to                     \n",
      "==================================================================================================\n",
      "input_img (InputLayer)          [(None, 100, 100, 3) 0                                            \n",
      "__________________________________________________________________________________________________\n",
      "validation_img (InputLayer)     [(None, 100, 100, 3) 0                                            \n",
      "__________________________________________________________________________________________________\n",
      "embedding (Functional)          (None, 4096)         38960448    input_img[0][0]                  \n",
      "                                                                 validation_img[0][0]             \n",
      "__________________________________________________________________________________________________\n",
      "distance (L1Dist)               (None, 4096)         0           embedding[2][0]                  \n",
      "                                                                 embedding[3][0]                  \n",
      "__________________________________________________________________________________________________\n",
      "dense_3 (Dense)                 (None, 1)            4097        distance[0][0]                   \n",
      "==================================================================================================\n",
      "Total params: 38,964,545\n",
      "Trainable params: 38,964,545\n",
      "Non-trainable params: 0\n",
      "__________________________________________________________________________________________________\n"
     ]
    }
   ],
   "source": [
    "siamese_model.summary()"
   ]
  },
  {
   "cell_type": "markdown",
   "metadata": {},
   "source": [
    "# 5. Training"
   ]
  },
  {
   "cell_type": "markdown",
   "metadata": {},
   "source": [
    "## 5.1 Setup Loss and Optimizer"
   ]
  },
  {
   "cell_type": "code",
   "execution_count": null,
   "metadata": {},
   "outputs": [],
   "source": [
    "binary_cross_loss = tf.losses.BinaryCrossentropy()"
   ]
  },
  {
   "cell_type": "code",
   "execution_count": null,
   "metadata": {},
   "outputs": [],
   "source": [
    "opt = tf.keras.optimizers.Adam(1e-4) # 0.0001"
   ]
  },
  {
   "cell_type": "markdown",
   "metadata": {},
   "source": [
    "## 5.2 Establish Checkpoints"
   ]
  },
  {
   "cell_type": "code",
   "execution_count": null,
   "metadata": {},
   "outputs": [],
   "source": [
    "checkpoint_dir = './training_checkpoints'\n",
    "checkpoint_prefix = os.path.join(checkpoint_dir, 'ckpt')\n",
    "checkpoint = tf.train.Checkpoint(opt=opt, siamese_model=siamese_model)"
   ]
  },
  {
   "cell_type": "markdown",
   "metadata": {},
   "source": [
    "## 5.3 Build Train Step Function"
   ]
  },
  {
   "cell_type": "code",
   "execution_count": null,
   "metadata": {},
   "outputs": [],
   "source": [
    "test_batch = train_data.as_numpy_iterator()"
   ]
  },
  {
   "cell_type": "code",
   "execution_count": null,
   "metadata": {},
   "outputs": [],
   "source": [
    "batch_1 = test_batch.next()"
   ]
  },
  {
   "cell_type": "code",
   "execution_count": null,
   "metadata": {},
   "outputs": [],
   "source": [
    "X = batch_1[:2]"
   ]
  },
  {
   "cell_type": "code",
   "execution_count": null,
   "metadata": {},
   "outputs": [],
   "source": [
    "y = batch_1[2]"
   ]
  },
  {
   "cell_type": "code",
   "execution_count": null,
   "metadata": {},
   "outputs": [
    {
     "data": {
      "text/plain": [
       "array([0., 1., 0., 0., 1., 0., 0., 0., 0., 1., 1., 1., 1., 1., 0., 0.],\n",
       "      dtype=float32)"
      ]
     },
     "execution_count": 58,
     "metadata": {},
     "output_type": "execute_result"
    }
   ],
   "source": [
    "y"
   ]
  },
  {
   "cell_type": "code",
   "execution_count": null,
   "metadata": {},
   "outputs": [],
   "source": [
    "tf.losses.BinaryCrossentropy??"
   ]
  },
  {
   "cell_type": "code",
   "execution_count": null,
   "metadata": {},
   "outputs": [],
   "source": [
    "@tf.function\n",
    "def train_step(batch):\n",
    "    \n",
    "    # Record all of our operations \n",
    "    with tf.GradientTape() as tape:     \n",
    "        # Get anchor and positive/negative image\n",
    "        X = batch[:2]\n",
    "        # Get label\n",
    "        y = batch[2]\n",
    "        \n",
    "        # Forward pass\n",
    "        yhat = siamese_model(X, training=True)\n",
    "        # Calculate loss\n",
    "        loss = binary_cross_loss(y, yhat)\n",
    "    print(loss)\n",
    "        \n",
    "    # Calculate gradients\n",
    "    grad = tape.gradient(loss, siamese_model.trainable_variables)\n",
    "    \n",
    "    # Calculate updated weights and apply to siamese model\n",
    "    opt.apply_gradients(zip(grad, siamese_model.trainable_variables))\n",
    "    \n",
    "    # Return loss\n",
    "    return loss"
   ]
  },
  {
   "cell_type": "markdown",
   "metadata": {},
   "source": [
    "## 5.4 Build Training Loop"
   ]
  },
  {
   "cell_type": "code",
   "execution_count": null,
   "metadata": {},
   "outputs": [],
   "source": [
    "def train(data, EPOCHS):\n",
    "    # Loop through epochs\n",
    "    for epoch in range(1, EPOCHS+1):\n",
    "        print('\\n Epoch {}/{}'.format(epoch, EPOCHS))\n",
    "        progbar = tf.keras.utils.Progbar(len(data))\n",
    "        \n",
    "        # Loop through each batch\n",
    "        for idx, batch in enumerate(data):\n",
    "            # Run train step here\n",
    "            train_step(batch)\n",
    "            progbar.update(idx+1)\n",
    "        \n",
    "        # Save checkpoints\n",
    "        if epoch % 10 == 0: \n",
    "            checkpoint.save(file_prefix=checkpoint_prefix)"
   ]
  },
  {
   "cell_type": "markdown",
   "metadata": {},
   "source": [
    "## 5.5 Train the model"
   ]
  },
  {
   "cell_type": "code",
   "execution_count": null,
   "metadata": {},
   "outputs": [],
   "source": [
    "EPOCHS = 50"
   ]
  },
  {
   "cell_type": "code",
   "execution_count": null,
   "metadata": {
    "scrolled": true
   },
   "outputs": [
    {
     "name": "stdout",
     "output_type": "stream",
     "text": [
      "\n",
      " Epoch 1/50\n",
      "Tensor(\"binary_crossentropy/weighted_loss/value:0\", shape=(), dtype=float32)\n",
      "Tensor(\"binary_crossentropy/weighted_loss/value:0\", shape=(), dtype=float32)\n",
      "26/27 [===========================>..] - ETA: 0sTensor(\"binary_crossentropy/weighted_loss/value:0\", shape=(), dtype=float32)\n",
      "27/27 [==============================] - 9s 141ms/step\n",
      "\n",
      " Epoch 2/50\n",
      "27/27 [==============================] - 3s 130ms/step\n",
      "\n",
      " Epoch 3/50\n",
      "27/27 [==============================] - 3s 128ms/step\n",
      "\n",
      " Epoch 4/50\n",
      "27/27 [==============================] - 3s 127ms/step\n",
      "\n",
      " Epoch 5/50\n",
      "27/27 [==============================] - 3s 126ms/step\n",
      "\n",
      " Epoch 6/50\n",
      "27/27 [==============================] - 3s 123ms/step\n",
      "\n",
      " Epoch 7/50\n",
      "27/27 [==============================] - 3s 122ms/step\n",
      "\n",
      " Epoch 8/50\n",
      "27/27 [==============================] - 3s 122ms/step\n",
      "\n",
      " Epoch 9/50\n",
      "27/27 [==============================] - 3s 119ms/step\n",
      "\n",
      " Epoch 10/50\n",
      "27/27 [==============================] - 3s 119ms/step\n",
      "\n",
      " Epoch 11/50\n",
      "27/27 [==============================] - 3s 120ms/step\n",
      "\n",
      " Epoch 12/50\n",
      "27/27 [==============================] - 3s 119ms/step\n",
      "\n",
      " Epoch 13/50\n",
      "27/27 [==============================] - 3s 119ms/step\n",
      "\n",
      " Epoch 14/50\n",
      "27/27 [==============================] - 3s 119ms/step\n",
      "\n",
      " Epoch 15/50\n",
      "27/27 [==============================] - 3s 119ms/step\n",
      "\n",
      " Epoch 16/50\n",
      "27/27 [==============================] - 3s 119ms/step\n",
      "\n",
      " Epoch 17/50\n",
      "27/27 [==============================] - 3s 117ms/step\n",
      "\n",
      " Epoch 18/50\n",
      "27/27 [==============================] - 3s 116ms/step\n",
      "\n",
      " Epoch 19/50\n",
      "27/27 [==============================] - 3s 115ms/step\n",
      "\n",
      " Epoch 20/50\n",
      "27/27 [==============================] - 3s 116ms/step\n",
      "\n",
      " Epoch 21/50\n",
      "27/27 [==============================] - 3s 116ms/step\n",
      "\n",
      " Epoch 22/50\n",
      "27/27 [==============================] - 3s 114ms/step\n",
      "\n",
      " Epoch 23/50\n",
      "27/27 [==============================] - 3s 114ms/step\n",
      "\n",
      " Epoch 24/50\n",
      "27/27 [==============================] - 3s 114ms/step\n",
      "\n",
      " Epoch 25/50\n",
      "27/27 [==============================] - 3s 114ms/step\n",
      "\n",
      " Epoch 26/50\n",
      "27/27 [==============================] - 3s 114ms/step\n",
      "\n",
      " Epoch 27/50\n",
      "27/27 [==============================] - 3s 114ms/step\n",
      "\n",
      " Epoch 28/50\n",
      "27/27 [==============================] - 3s 114ms/step\n",
      "\n",
      " Epoch 29/50\n",
      "27/27 [==============================] - 3s 115ms/step\n",
      "\n",
      " Epoch 30/50\n",
      "27/27 [==============================] - 3s 115ms/step\n",
      "\n",
      " Epoch 31/50\n",
      "27/27 [==============================] - 3s 116ms/step\n",
      "\n",
      " Epoch 32/50\n",
      "27/27 [==============================] - 3s 115ms/step\n",
      "\n",
      " Epoch 33/50\n",
      "27/27 [==============================] - 3s 115ms/step\n",
      "\n",
      " Epoch 34/50\n",
      "27/27 [==============================] - 3s 116ms/step\n",
      "\n",
      " Epoch 35/50\n",
      "27/27 [==============================] - 3s 115ms/step\n",
      "\n",
      " Epoch 36/50\n",
      "27/27 [==============================] - 3s 115ms/step\n",
      "\n",
      " Epoch 37/50\n",
      "27/27 [==============================] - 3s 115ms/step\n",
      "\n",
      " Epoch 38/50\n",
      "27/27 [==============================] - 3s 115ms/step\n",
      "\n",
      " Epoch 39/50\n",
      "27/27 [==============================] - 3s 115ms/step\n",
      "\n",
      " Epoch 40/50\n",
      "27/27 [==============================] - 3s 116ms/step\n",
      "\n",
      " Epoch 41/50\n",
      "27/27 [==============================] - 3s 116ms/step\n",
      "\n",
      " Epoch 42/50\n",
      "27/27 [==============================] - 3s 115ms/step\n",
      "\n",
      " Epoch 43/50\n",
      "27/27 [==============================] - 3s 116ms/step\n",
      "\n",
      " Epoch 44/50\n",
      "27/27 [==============================] - 3s 115ms/step\n",
      "\n",
      " Epoch 45/50\n",
      "27/27 [==============================] - 3s 116ms/step\n",
      "\n",
      " Epoch 46/50\n",
      "27/27 [==============================] - 3s 115ms/step\n",
      "\n",
      " Epoch 47/50\n",
      "27/27 [==============================] - 3s 115ms/step\n",
      "\n",
      " Epoch 48/50\n",
      "27/27 [==============================] - 3s 115ms/step\n",
      "\n",
      " Epoch 49/50\n",
      "27/27 [==============================] - 3s 116ms/step\n",
      "\n",
      " Epoch 50/50\n",
      "27/27 [==============================] - 3s 115ms/step\n"
     ]
    }
   ],
   "source": [
    "train(train_data, EPOCHS)"
   ]
  },
  {
   "cell_type": "markdown",
   "metadata": {},
   "source": [
    "# 6. Evaluate Model"
   ]
  },
  {
   "cell_type": "markdown",
   "metadata": {},
   "source": [
    "## 6.1 Import Metrics"
   ]
  },
  {
   "cell_type": "code",
   "execution_count": null,
   "metadata": {},
   "outputs": [],
   "source": [
    "# Import metric calculations\n",
    "from tensorflow.keras.metrics import Precision, Recall"
   ]
  },
  {
   "cell_type": "markdown",
   "metadata": {},
   "source": [
    "## 6.2 Make Predictions"
   ]
  },
  {
   "cell_type": "code",
   "execution_count": null,
   "metadata": {},
   "outputs": [],
   "source": [
    "# Get a batch of test data\n",
    "test_input, test_val, y_true = test_data.as_numpy_iterator().next()"
   ]
  },
  {
   "cell_type": "code",
   "execution_count": null,
   "metadata": {},
   "outputs": [
    {
     "data": {
      "text/plain": [
       "array([[1.0000000e+00],\n",
       "       [9.7660100e-01],\n",
       "       [7.9630136e-06],\n",
       "       [9.9995840e-01],\n",
       "       [1.0000000e+00],\n",
       "       [1.0000000e+00],\n",
       "       [2.2488189e-06],\n",
       "       [1.0000000e+00],\n",
       "       [3.0321256e-05],\n",
       "       [1.4018004e-06],\n",
       "       [9.9435657e-01],\n",
       "       [8.0274049e-07],\n",
       "       [1.0000000e+00],\n",
       "       [1.0000000e+00],\n",
       "       [6.6748862e-07],\n",
       "       [9.0237927e-07]], dtype=float32)"
      ]
     },
     "execution_count": 112,
     "metadata": {},
     "output_type": "execute_result"
    }
   ],
   "source": [
    "# Make predictions\n",
    "y_hat = siamese_model.predict([test_input, test_val])\n",
    "y_hat"
   ]
  },
  {
   "cell_type": "code",
   "execution_count": null,
   "metadata": {},
   "outputs": [
    {
     "data": {
      "text/plain": [
       "[1, 1, 0, 1, 1, 1, 0, 1, 0, 0, 1, 0, 1, 1, 0, 0]"
      ]
     },
     "execution_count": 113,
     "metadata": {},
     "output_type": "execute_result"
    }
   ],
   "source": [
    "# Post processing the results \n",
    "[1 if prediction > 0.5 else 0 for prediction in y_hat ]"
   ]
  },
  {
   "cell_type": "code",
   "execution_count": null,
   "metadata": {},
   "outputs": [
    {
     "data": {
      "text/plain": [
       "array([1., 1., 0., 1., 1., 1., 0., 1., 0., 0., 1., 0., 1., 1., 0., 0.],\n",
       "      dtype=float32)"
      ]
     },
     "execution_count": 114,
     "metadata": {},
     "output_type": "execute_result"
    }
   ],
   "source": [
    "y_true"
   ]
  },
  {
   "cell_type": "markdown",
   "metadata": {},
   "source": [
    "## 6.3 Calculate Metrics"
   ]
  },
  {
   "cell_type": "code",
   "execution_count": null,
   "metadata": {},
   "outputs": [
    {
     "data": {
      "text/plain": [
       "1.0"
      ]
     },
     "execution_count": 115,
     "metadata": {},
     "output_type": "execute_result"
    }
   ],
   "source": [
    "# Creating a metric object \n",
    "m = Recall()\n",
    "\n",
    "# Calculating the recall value \n",
    "m.update_state(y_true, y_hat)\n",
    "\n",
    "# Return Recall Result\n",
    "m.result().numpy()"
   ]
  },
  {
   "cell_type": "code",
   "execution_count": null,
   "metadata": {},
   "outputs": [
    {
     "data": {
      "text/plain": [
       "1.0"
      ]
     },
     "execution_count": 116,
     "metadata": {},
     "output_type": "execute_result"
    }
   ],
   "source": [
    "# Creating a metric object \n",
    "m = Precision()\n",
    "\n",
    "# Calculating the recall value \n",
    "m.update_state(y_true, y_hat)\n",
    "\n",
    "# Return Recall Result\n",
    "m.result().numpy()"
   ]
  },
  {
   "cell_type": "markdown",
   "metadata": {},
   "source": [
    "## 6.4 Viz Results"
   ]
  },
  {
   "cell_type": "code",
   "execution_count": null,
   "metadata": {},
   "outputs": [
    {
     "data": {
      "image/png": "[encoded data removed]",
      "text/plain": [
       "<Figure size 720x576 with 2 Axes>"
      ]
     },
     "metadata": {
      "needs_background": "light"
     },
     "output_type": "display_data"
    }
   ],
   "source": [
    "# Set plot size \n",
    "plt.figure(figsize=(10,8))\n",
    "\n",
    "# Set first subplot\n",
    "plt.subplot(1,2,1)\n",
    "plt.imshow(test_input[0])\n",
    "\n",
    "# Set second subplot\n",
    "plt.subplot(1,2,2)\n",
    "plt.imshow(test_val[0])\n",
    "\n",
    "# Renders cleanly\n",
    "plt.show()"
   ]
  },
  {
   "cell_type": "markdown",
   "metadata": {},
   "source": [
    "# 7. Save Model"
   ]
  },
  {
   "cell_type": "code",
   "execution_count": null,
   "metadata": {},
   "outputs": [],
   "source": [
    "# Save weights\n",
    "siamese_model.save('siamesemodel.h5')"
   ]
  },
  {
   "cell_type": "code",
   "execution_count": null,
   "metadata": {},
   "outputs": [
    {
     "data": {
      "text/plain": [
       "__main__.L1Dist"
      ]
     },
     "execution_count": 104,
     "metadata": {},
     "output_type": "execute_result"
    }
   ],
   "source": [
    "L1Dist"
   ]
  },
  {
   "cell_type": "code",
   "execution_count": null,
   "metadata": {},
   "outputs": [
    {
     "name": "stdout",
     "output_type": "stream",
     "text": [
      "WARNING:tensorflow:No training configuration found in the save file, so the model was *not* compiled. Compile it manually.\n"
     ]
    }
   ],
   "source": [
    "# Reload model \n",
    "model = tf.keras.models.load_model('siamesemodel.h5', \n",
    "                                   custom_objects={'L1Dist':L1Dist, 'BinaryCrossentropy':tf.losses.BinaryCrossentropy})"
   ]
  },
  {
   "cell_type": "code",
   "execution_count": null,
   "metadata": {},
   "outputs": [
    {
     "data": {
      "text/plain": [
       "array([[1.0000000e+00],\n",
       "       [9.7660100e-01],\n",
       "       [7.9630136e-06],\n",
       "       [9.9995840e-01],\n",
       "       [1.0000000e+00],\n",
       "       [1.0000000e+00],\n",
       "       [2.2488189e-06],\n",
       "       [1.0000000e+00],\n",
       "       [3.0321256e-05],\n",
       "       [1.4018004e-06],\n",
       "       [9.9435657e-01],\n",
       "       [8.0274049e-07],\n",
       "       [1.0000000e+00],\n",
       "       [1.0000000e+00],\n",
       "       [6.6748862e-07],\n",
       "       [9.0237927e-07]], dtype=float32)"
      ]
     },
     "execution_count": 106,
     "metadata": {},
     "output_type": "execute_result"
    }
   ],
   "source": [
    "# Make predictions with reloaded model\n",
    "model.predict([test_input, test_val])"
   ]
  },
  {
   "cell_type": "code",
   "execution_count": null,
   "metadata": {},
   "outputs": [
    {
     "name": "stdout",
     "output_type": "stream",
     "text": [
      "Model: \"SiameseNetwork\"\n",
      "__________________________________________________________________________________________________\n",
      "Layer (type)                    Output Shape         Param #     Connected to                     \n",
      "==================================================================================================\n",
      "input_img (InputLayer)          [(None, 100, 100, 3) 0                                            \n",
      "__________________________________________________________________________________________________\n",
      "validation_img (InputLayer)     [(None, 100, 100, 3) 0                                            \n",
      "__________________________________________________________________________________________________\n",
      "embedding (Functional)          (None, 4096)         38960448    input_img[0][0]                  \n",
      "                                                                 validation_img[0][0]             \n",
      "__________________________________________________________________________________________________\n",
      "l1_dist_6 (L1Dist)              (None, 4096)         0           embedding[0][0]                  \n",
      "                                                                 embedding[1][0]                  \n",
      "__________________________________________________________________________________________________\n",
      "dense_3 (Dense)                 (None, 1)            4097        l1_dist_6[0][0]                  \n",
      "==================================================================================================\n",
      "Total params: 38,964,545\n",
      "Trainable params: 38,964,545\n",
      "Non-trainable params: 0\n",
      "__________________________________________________________________________________________________\n"
     ]
    }
   ],
   "source": [
    "# View model summary\n",
    "model.summary()"
   ]
  },
  {
   "cell_type": "markdown",
   "metadata": {},
   "source": [
    "# 8. Real Time Test"
   ]
  },
  {
   "cell_type": "markdown",
   "metadata": {},
   "source": [
    "## 8.1 Verification Function"
   ]
  },
  {
   "cell_type": "code",
   "execution_count": null,
   "metadata": {},
   "outputs": [],
   "source": [
    "application_data\\verification_images"
   ]
  },
  {
   "cell_type": "code",
   "execution_count": null,
   "metadata": {
    "collapsed": true
   },
   "outputs": [
    {
     "data": {
      "text/plain": [
       "['c01703e8-135f-11ec-9c58-a0cec8d2d278.jpg',\n",
       " 'c08e1f2e-135f-11ec-ab18-a0cec8d2d278.jpg',\n",
       " 'c099e9f0-135f-11ec-86a7-a0cec8d2d278.jpg',\n",
       " 'c0c715c0-135f-11ec-892f-a0cec8d2d278.jpg',\n",
       " 'c0ef7814-135f-11ec-904e-a0cec8d2d278.jpg',\n",
       " 'c202065a-135f-11ec-b0bc-a0cec8d2d278.jpg',\n",
       " 'c22117d0-135f-11ec-926e-a0cec8d2d278.jpg',\n",
       " 'c268919e-135f-11ec-bd66-a0cec8d2d278.jpg',\n",
       " 'c2a3a158-135f-11ec-99bc-a0cec8d2d278.jpg',\n",
       " 'c2afbad2-135f-11ec-b848-a0cec8d2d278.jpg',\n",
       " 'c2e6ebc6-135f-11ec-911c-a0cec8d2d278.jpg',\n",
       " 'c3aedf8a-135f-11ec-8753-a0cec8d2d278.jpg',\n",
       " 'c3c988f4-135f-11ec-9c57-a0cec8d2d278.jpg',\n",
       " 'c3e61236-135f-11ec-98e6-a0cec8d2d278.jpg',\n",
       " 'c3f6eaa4-135f-11ec-99c1-a0cec8d2d278.jpg',\n",
       " 'c4bb2318-135f-11ec-8cc2-a0cec8d2d278.jpg',\n",
       " 'c4e34040-135f-11ec-91be-a0cec8d2d278.jpg',\n",
       " 'c5392134-135f-11ec-938a-a0cec8d2d278.jpg',\n",
       " 'c708476c-135f-11ec-9833-a0cec8d2d278.jpg',\n",
       " 'c735b862-135f-11ec-8fe1-a0cec8d2d278.jpg',\n",
       " 'c7631e7e-135f-11ec-9e54-a0cec8d2d278.jpg',\n",
       " 'c8259eba-135f-11ec-843f-a0cec8d2d278.jpg',\n",
       " 'c8318e88-135f-11ec-8603-a0cec8d2d278.jpg',\n",
       " 'c918ed7e-135f-11ec-b9d0-a0cec8d2d278.jpg',\n",
       " 'c9ce56b0-135f-11ec-a368-a0cec8d2d278.jpg',\n",
       " 'cb8421d0-135f-11ec-b112-a0cec8d2d278.jpg',\n",
       " 'db276474-135f-11ec-a6be-a0cec8d2d278.jpg',\n",
       " 'dbaf9026-135f-11ec-ba07-a0cec8d2d278.jpg',\n",
       " 'dbf47392-135f-11ec-ab36-a0cec8d2d278.jpg',\n",
       " 'dc559e1a-135f-11ec-a8bd-a0cec8d2d278.jpg',\n",
       " 'ddba1ca6-135f-11ec-aa64-a0cec8d2d278.jpg',\n",
       " 'de483328-135f-11ec-9c72-a0cec8d2d278.jpg',\n",
       " 'e5621852-135f-11ec-9288-a0cec8d2d278.jpg',\n",
       " 'e7180552-135f-11ec-bb85-a0cec8d2d278.jpg',\n",
       " 'e9978324-135f-11ec-b70b-a0cec8d2d278.jpg',\n",
       " 'eb349154-135f-11ec-81f7-a0cec8d2d278.jpg',\n",
       " 'ebe4778c-135f-11ec-8d1a-a0cec8d2d278.jpg',\n",
       " 'eca2d746-135f-11ec-9952-a0cec8d2d278.jpg',\n",
       " 'ed0ea5cc-135f-11ec-bd0f-a0cec8d2d278.jpg',\n",
       " 'ed726f9c-135f-11ec-ac42-a0cec8d2d278.jpg',\n",
       " 'eebee7a6-135f-11ec-8f51-a0cec8d2d278.jpg',\n",
       " 'ef0f3ff0-135f-11ec-a90e-a0cec8d2d278.jpg',\n",
       " 'efc38b26-135f-11ec-8d0c-a0cec8d2d278.jpg',\n",
       " 'efff6ee6-135f-11ec-aa2a-a0cec8d2d278.jpg',\n",
       " 'f09d1be2-135f-11ec-96b4-a0cec8d2d278.jpg',\n",
       " 'f34dc54a-135f-11ec-b41f-a0cec8d2d278.jpg',\n",
       " 'f4224c76-135f-11ec-ad07-a0cec8d2d278.jpg',\n",
       " 'f47d4c64-135f-11ec-b5da-a0cec8d2d278.jpg',\n",
       " 'f4aa94ba-135f-11ec-86d6-a0cec8d2d278.jpg',\n",
       " 'f4d7f262-135f-11ec-9ce4-a0cec8d2d278.jpg']"
      ]
     },
     "execution_count": 119,
     "metadata": {},
     "output_type": "execute_result"
    }
   ],
   "source": [
    "os.listdir(os.path.join('application_data', 'verification_images'))"
   ]
  },
  {
   "cell_type": "code",
   "execution_count": null,
   "metadata": {},
   "outputs": [
    {
     "data": {
      "text/plain": [
       "'application_data\\\\input_image\\\\input_image.jpg'"
      ]
     },
     "execution_count": 120,
     "metadata": {},
     "output_type": "execute_result"
    }
   ],
   "source": [
    "os.path.join('application_data', 'input_image', 'input_image.jpg')"
   ]
  },
  {
   "cell_type": "code",
   "execution_count": null,
   "metadata": {
    "collapsed": true
   },
   "outputs": [
    {
     "name": "stdout",
     "output_type": "stream",
     "text": [
      "application_data\\verification_images\\c01703e8-135f-11ec-9c58-a0cec8d2d278.jpg\n",
      "application_data\\verification_images\\c08e1f2e-135f-11ec-ab18-a0cec8d2d278.jpg\n",
      "application_data\\verification_images\\c099e9f0-135f-11ec-86a7-a0cec8d2d278.jpg\n",
      "application_data\\verification_images\\c0c715c0-135f-11ec-892f-a0cec8d2d278.jpg\n",
      "application_data\\verification_images\\c0ef7814-135f-11ec-904e-a0cec8d2d278.jpg\n",
      "application_data\\verification_images\\c202065a-135f-11ec-b0bc-a0cec8d2d278.jpg\n",
      "application_data\\verification_images\\c22117d0-135f-11ec-926e-a0cec8d2d278.jpg\n",
      "application_data\\verification_images\\c268919e-135f-11ec-bd66-a0cec8d2d278.jpg\n",
      "application_data\\verification_images\\c2a3a158-135f-11ec-99bc-a0cec8d2d278.jpg\n",
      "application_data\\verification_images\\c2afbad2-135f-11ec-b848-a0cec8d2d278.jpg\n",
      "application_data\\verification_images\\c2e6ebc6-135f-11ec-911c-a0cec8d2d278.jpg\n",
      "application_data\\verification_images\\c3aedf8a-135f-11ec-8753-a0cec8d2d278.jpg\n",
      "application_data\\verification_images\\c3c988f4-135f-11ec-9c57-a0cec8d2d278.jpg\n",
      "application_data\\verification_images\\c3e61236-135f-11ec-98e6-a0cec8d2d278.jpg\n",
      "application_data\\verification_images\\c3f6eaa4-135f-11ec-99c1-a0cec8d2d278.jpg\n",
      "application_data\\verification_images\\c4bb2318-135f-11ec-8cc2-a0cec8d2d278.jpg\n",
      "application_data\\verification_images\\c4e34040-135f-11ec-91be-a0cec8d2d278.jpg\n",
      "application_data\\verification_images\\c5392134-135f-11ec-938a-a0cec8d2d278.jpg\n",
      "application_data\\verification_images\\c708476c-135f-11ec-9833-a0cec8d2d278.jpg\n",
      "application_data\\verification_images\\c735b862-135f-11ec-8fe1-a0cec8d2d278.jpg\n",
      "application_data\\verification_images\\c7631e7e-135f-11ec-9e54-a0cec8d2d278.jpg\n",
      "application_data\\verification_images\\c8259eba-135f-11ec-843f-a0cec8d2d278.jpg\n",
      "application_data\\verification_images\\c8318e88-135f-11ec-8603-a0cec8d2d278.jpg\n",
      "application_data\\verification_images\\c918ed7e-135f-11ec-b9d0-a0cec8d2d278.jpg\n",
      "application_data\\verification_images\\c9ce56b0-135f-11ec-a368-a0cec8d2d278.jpg\n",
      "application_data\\verification_images\\cb8421d0-135f-11ec-b112-a0cec8d2d278.jpg\n",
      "application_data\\verification_images\\db276474-135f-11ec-a6be-a0cec8d2d278.jpg\n",
      "application_data\\verification_images\\dbaf9026-135f-11ec-ba07-a0cec8d2d278.jpg\n",
      "application_data\\verification_images\\dbf47392-135f-11ec-ab36-a0cec8d2d278.jpg\n",
      "application_data\\verification_images\\dc559e1a-135f-11ec-a8bd-a0cec8d2d278.jpg\n",
      "application_data\\verification_images\\ddba1ca6-135f-11ec-aa64-a0cec8d2d278.jpg\n",
      "application_data\\verification_images\\de483328-135f-11ec-9c72-a0cec8d2d278.jpg\n",
      "application_data\\verification_images\\e5621852-135f-11ec-9288-a0cec8d2d278.jpg\n",
      "application_data\\verification_images\\e7180552-135f-11ec-bb85-a0cec8d2d278.jpg\n",
      "application_data\\verification_images\\e9978324-135f-11ec-b70b-a0cec8d2d278.jpg\n",
      "application_data\\verification_images\\eb349154-135f-11ec-81f7-a0cec8d2d278.jpg\n",
      "application_data\\verification_images\\ebe4778c-135f-11ec-8d1a-a0cec8d2d278.jpg\n",
      "application_data\\verification_images\\eca2d746-135f-11ec-9952-a0cec8d2d278.jpg\n",
      "application_data\\verification_images\\ed0ea5cc-135f-11ec-bd0f-a0cec8d2d278.jpg\n",
      "application_data\\verification_images\\ed726f9c-135f-11ec-ac42-a0cec8d2d278.jpg\n",
      "application_data\\verification_images\\eebee7a6-135f-11ec-8f51-a0cec8d2d278.jpg\n",
      "application_data\\verification_images\\ef0f3ff0-135f-11ec-a90e-a0cec8d2d278.jpg\n",
      "application_data\\verification_images\\efc38b26-135f-11ec-8d0c-a0cec8d2d278.jpg\n",
      "application_data\\verification_images\\efff6ee6-135f-11ec-aa2a-a0cec8d2d278.jpg\n",
      "application_data\\verification_images\\f09d1be2-135f-11ec-96b4-a0cec8d2d278.jpg\n",
      "application_data\\verification_images\\f34dc54a-135f-11ec-b41f-a0cec8d2d278.jpg\n",
      "application_data\\verification_images\\f4224c76-135f-11ec-ad07-a0cec8d2d278.jpg\n",
      "application_data\\verification_images\\f47d4c64-135f-11ec-b5da-a0cec8d2d278.jpg\n",
      "application_data\\verification_images\\f4aa94ba-135f-11ec-86d6-a0cec8d2d278.jpg\n",
      "application_data\\verification_images\\f4d7f262-135f-11ec-9ce4-a0cec8d2d278.jpg\n"
     ]
    }
   ],
   "source": [
    "for image in os.listdir(os.path.join('application_data', 'verification_images')):\n",
    "    validation_img = os.path.join('application_data', 'verification_images', image)\n",
    "    print(validation_img)"
   ]
  },
  {
   "cell_type": "code",
   "execution_count": null,
   "metadata": {},
   "outputs": [],
   "source": [
    "def verify(model, detection_threshold, verification_threshold):\n",
    "    # Build results array\n",
    "    results = []\n",
    "    for image in os.listdir(os.path.join('application_data', 'verification_images')):\n",
    "        input_img = preprocess(os.path.join('application_data', 'input_image', 'input_image.jpg'))\n",
    "        validation_img = preprocess(os.path.join('application_data', 'verification_images', image))\n",
    "        \n",
    "        # Make Predictions \n",
    "        result = model.predict(list(np.expand_dims([input_img, validation_img], axis=1)))\n",
    "        results.append(result)\n",
    "    \n",
    "    # Detection Threshold: Metric above which a prediciton is considered positive \n",
    "    detection = np.sum(np.array(results) > detection_threshold)\n",
    "    \n",
    "    # Verification Threshold: Proportion of positive predictions / total positive samples \n",
    "    verification = detection / len(os.listdir(os.path.join('application_data', 'verification_images'))) \n",
    "    verified = verification > verification_threshold\n",
    "    \n",
    "    return results, verified"
   ]
  },
  {
   "cell_type": "markdown",
   "metadata": {},
   "source": [
    "## 8.2 OpenCV Real Time Verification"
   ]
  },
  {
   "cell_type": "code",
   "execution_count": null,
   "metadata": {},
   "outputs": [
    {
     "name": "stdout",
     "output_type": "stream",
     "text": [
      "False\n",
      "True\n",
      "True\n",
      "False\n",
      "True\n",
      "True\n",
      "True\n",
      "True\n",
      "True\n"
     ]
    }
   ],
   "source": [
    "cap = cv2.VideoCapture(4)\n",
    "while cap.isOpened():\n",
    "    ret, frame = cap.read()\n",
    "    frame = frame[120:120+250,200:200+250, :]\n",
    "    \n",
    "    cv2.imshow('Verification', frame)\n",
    "    \n",
    "    # Verification trigger\n",
    "    if cv2.waitKey(10) & 0xFF == ord('v'):\n",
    "        # Save input image to application_data/input_image folder \n",
    "        cv2.imwrite(os.path.join('application_data', 'input_image', 'input_image.jpg'), frame)\n",
    "        # Run verification\n",
    "        results, verified = verify(model, 0.9, 0.7)\n",
    "        print(verified)\n",
    "    \n",
    "    if cv2.waitKey(10) & 0xFF == ord('q'):\n",
    "        break\n",
    "cap.release()\n",
    "cv2.destroyAllWindows()"
   ]
  },
  {
   "cell_type": "code",
   "execution_count": null,
   "metadata": {},
   "outputs": [
    {
     "data": {
      "text/plain": [
       "32"
      ]
     },
     "execution_count": 146,
     "metadata": {},
     "output_type": "execute_result"
    }
   ],
   "source": [
    "np.sum(np.squeeze(results) > 0.9)"
   ]
  },
  {
   "cell_type": "code",
   "execution_count": null,
   "metadata": {},
   "outputs": [
    {
     "data": {
      "text/plain": [
       "0.64"
      ]
     },
     "execution_count": 147,
     "metadata": {},
     "output_type": "execute_result"
    }
   ],
   "source": [
    "32/50"
   ]
  },
  {
   "cell_type": "code",
   "execution_count": null,
   "metadata": {},
   "outputs": [],
   "source": []
  }
 ],
 "metadata": {
  "kernelspec": {
   "display_name": "Python 3",
   "language": "python",
   "name": "python3"
  },
  "language_info": {
   "codemirror_mode": {
    "name": "ipython",
    "version": 3
   },
   "file_extension": ".py",
   "mimetype": "text/x-python",
   "name": "python",
   "nbconvert_exporter": "python",
   "pygments_lexer": "ipython3",
   "version": "3.12.0"
  }
 },
 "nbformat": 4,
 "nbformat_minor": 2
}
